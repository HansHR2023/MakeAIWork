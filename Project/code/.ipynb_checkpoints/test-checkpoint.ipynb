{
 "cells": [
  {
   "cell_type": "markdown",
   "id": "d5d91dd6-7e07-43fd-acb7-2a959ece8744",
   "metadata": {},
   "source": [
    "Health Marketing\n",
    "Stap 1:\n",
    "Data verzamelen"
   ]
  },
  {
   "cell_type": "code",
   "execution_count": 1,
   "id": "c995bdf5-09e6-4f25-8387-898965abe991",
   "metadata": {},
   "outputs": [],
   "source": [
    "import http.client\n",
    "import pandas as pd"
   ]
  },
  {
   "cell_type": "code",
   "execution_count": 16,
   "id": "ff75a682-17cc-4b6f-89f5-73cc48b19135",
   "metadata": {},
   "outputs": [],
   "source": [
    "year = 2022\n",
    "conn = http.client.HTTPSConnection(\"ergast.com\")"
   ]
  },
  {
   "cell_type": "code",
   "execution_count": 17,
   "id": "169e4d6b-84e9-4c81-8cc0-ecd81f4c9c1f",
   "metadata": {},
   "outputs": [
    {
     "name": "stdout",
     "output_type": "stream",
     "text": [
      "{\"MRData\":{\"xmlns\":\"http:\\/\\/ergast.com\\/mrd\\/1.5\",\"series\":\"f1\",\"url\":\"http://ergast.com/api/f1/2022/driverstandings.json\",\"limit\":\"30\",\"offset\":\"0\",\"total\":\"22\",\"StandingsTable\":{\"season\":\"2022\",\"StandingsLists\":[{\"season\":\"2022\",\"round\":\"22\",\"DriverStandings\":[{\"position\":\"1\",\"positionText\":\"1\",\"points\":\"454\",\"wins\":\"15\",\"Driver\":{\"driverId\":\"max_verstappen\",\"permanentNumber\":\"33\",\"code\":\"VER\",\"url\":\"http:\\/\\/en.wikipedia.org\\/wiki\\/Max_Verstappen\",\"givenName\":\"Max\",\"familyName\":\"Verstappen\",\"dateOfBirth\":\"1997-09-30\",\"nationality\":\"Dutch\"},              \"Constructors\":[{\"constructorId\":\"red_bull\",\"url\":\"http:\\/\\/en.wikipedia.org\\/wiki\\/Red_Bull_Racing\",\"name\":\"Red Bull\",\"nationality\":\"Austrian\"}]},{\"position\":\"2\",\"positionText\":\"2\",\"points\":\"308\",\"wins\":\"3\",\"Driver\":{\"driverId\":\"leclerc\",\"permanentNumber\":\"16\",\"code\":\"LEC\",\"url\":\"http:\\/\\/en.wikipedia.org\\/wiki\\/Charles_Leclerc\",\"givenName\":\"Charles\",\"familyName\":\"Leclerc\",\"dateOfBirth\":\"1997-10-16\",\"nationality\":\"Monegasque\"},              \"Constructors\":[{\"constructorId\":\"ferrari\",\"url\":\"http:\\/\\/en.wikipedia.org\\/wiki\\/Scuderia_Ferrari\",\"name\":\"Ferrari\",\"nationality\":\"Italian\"}]},{\"position\":\"3\",\"positionText\":\"3\",\"points\":\"305\",\"wins\":\"2\",\"Driver\":{\"driverId\":\"perez\",\"permanentNumber\":\"11\",\"code\":\"PER\",\"url\":\"http:\\/\\/en.wikipedia.org\\/wiki\\/Sergio_P%C3%A9rez\",\"givenName\":\"Sergio\",\"familyName\":\"Pérez\",\"dateOfBirth\":\"1990-01-26\",\"nationality\":\"Mexican\"},              \"Constructors\":[{\"constructorId\":\"red_bull\",\"url\":\"http:\\/\\/en.wikipedia.org\\/wiki\\/Red_Bull_Racing\",\"name\":\"Red Bull\",\"nationality\":\"Austrian\"}]},{\"position\":\"4\",\"positionText\":\"4\",\"points\":\"275\",\"wins\":\"1\",\"Driver\":{\"driverId\":\"russell\",\"permanentNumber\":\"63\",\"code\":\"RUS\",\"url\":\"http:\\/\\/en.wikipedia.org\\/wiki\\/George_Russell_%28racing_driver%29\",\"givenName\":\"George\",\"familyName\":\"Russell\",\"dateOfBirth\":\"1998-02-15\",\"nationality\":\"British\"},              \"Constructors\":[{\"constructorId\":\"mercedes\",\"url\":\"http:\\/\\/en.wikipedia.org\\/wiki\\/Mercedes-Benz_in_Formula_One\",\"name\":\"Mercedes\",\"nationality\":\"German\"}]},{\"position\":\"5\",\"positionText\":\"5\",\"points\":\"246\",\"wins\":\"1\",\"Driver\":{\"driverId\":\"sainz\",\"permanentNumber\":\"55\",\"code\":\"SAI\",\"url\":\"http:\\/\\/en.wikipedia.org\\/wiki\\/Carlos_Sainz_Jr.\",\"givenName\":\"Carlos\",\"familyName\":\"Sainz\",\"dateOfBirth\":\"1994-09-01\",\"nationality\":\"Spanish\"},              \"Constructors\":[{\"constructorId\":\"ferrari\",\"url\":\"http:\\/\\/en.wikipedia.org\\/wiki\\/Scuderia_Ferrari\",\"name\":\"Ferrari\",\"nationality\":\"Italian\"}]},{\"position\":\"6\",\"positionText\":\"6\",\"points\":\"240\",\"wins\":\"0\",\"Driver\":{\"driverId\":\"hamilton\",\"permanentNumber\":\"44\",\"code\":\"HAM\",\"url\":\"http:\\/\\/en.wikipedia.org\\/wiki\\/Lewis_Hamilton\",\"givenName\":\"Lewis\",\"familyName\":\"Hamilton\",\"dateOfBirth\":\"1985-01-07\",\"nationality\":\"British\"},              \"Constructors\":[{\"constructorId\":\"mercedes\",\"url\":\"http:\\/\\/en.wikipedia.org\\/wiki\\/Mercedes-Benz_in_Formula_One\",\"name\":\"Mercedes\",\"nationality\":\"German\"}]},{\"position\":\"7\",\"positionText\":\"7\",\"points\":\"122\",\"wins\":\"0\",\"Driver\":{\"driverId\":\"norris\",\"permanentNumber\":\"4\",\"code\":\"NOR\",\"url\":\"http:\\/\\/en.wikipedia.org\\/wiki\\/Lando_Norris\",\"givenName\":\"Lando\",\"familyName\":\"Norris\",\"dateOfBirth\":\"1999-11-13\",\"nationality\":\"British\"},              \"Constructors\":[{\"constructorId\":\"mclaren\",\"url\":\"http:\\/\\/en.wikipedia.org\\/wiki\\/McLaren\",\"name\":\"McLaren\",\"nationality\":\"British\"}]},{\"position\":\"8\",\"positionText\":\"8\",\"points\":\"92\",\"wins\":\"0\",\"Driver\":{\"driverId\":\"ocon\",\"permanentNumber\":\"31\",\"code\":\"OCO\",\"url\":\"http:\\/\\/en.wikipedia.org\\/wiki\\/Esteban_Ocon\",\"givenName\":\"Esteban\",\"familyName\":\"Ocon\",\"dateOfBirth\":\"1996-09-17\",\"nationality\":\"French\"},              \"Constructors\":[{\"constructorId\":\"alpine\",\"url\":\"http:\\/\\/en.wikipedia.org\\/wiki\\/Alpine_F1_Team\",\"name\":\"Alpine F1 Team\",\"nationality\":\"French\"}]},{\"position\":\"9\",\"positionText\":\"9\",\"points\":\"81\",\"wins\":\"0\",\"Driver\":{\"driverId\":\"alonso\",\"permanentNumber\":\"14\",\"code\":\"ALO\",\"url\":\"http:\\/\\/en.wikipedia.org\\/wiki\\/Fernando_Alonso\",\"givenName\":\"Fernando\",\"familyName\":\"Alonso\",\"dateOfBirth\":\"1981-07-29\",\"nationality\":\"Spanish\"},              \"Constructors\":[{\"constructorId\":\"alpine\",\"url\":\"http:\\/\\/en.wikipedia.org\\/wiki\\/Alpine_F1_Team\",\"name\":\"Alpine F1 Team\",\"nationality\":\"French\"}]},{\"position\":\"10\",\"positionText\":\"10\",\"points\":\"49\",\"wins\":\"0\",\"Driver\":{\"driverId\":\"bottas\",\"permanentNumber\":\"77\",\"code\":\"BOT\",\"url\":\"http:\\/\\/en.wikipedia.org\\/wiki\\/Valtteri_Bottas\",\"givenName\":\"Valtteri\",\"familyName\":\"Bottas\",\"dateOfBirth\":\"1989-08-28\",\"nationality\":\"Finnish\"},              \"Constructors\":[{\"constructorId\":\"alfa\",\"url\":\"http:\\/\\/en.wikipedia.org\\/wiki\\/Alfa_Romeo_in_Formula_One\",\"name\":\"Alfa Romeo\",\"nationality\":\"Swiss\"}]},{\"position\":\"11\",\"positionText\":\"11\",\"points\":\"37\",\"wins\":\"0\",\"Driver\":{\"driverId\":\"ricciardo\",\"permanentNumber\":\"3\",\"code\":\"RIC\",\"url\":\"http:\\/\\/en.wikipedia.org\\/wiki\\/Daniel_Ricciardo\",\"givenName\":\"Daniel\",\"familyName\":\"Ricciardo\",\"dateOfBirth\":\"1989-07-01\",\"nationality\":\"Australian\"},              \"Constructors\":[{\"constructorId\":\"mclaren\",\"url\":\"http:\\/\\/en.wikipedia.org\\/wiki\\/McLaren\",\"name\":\"McLaren\",\"nationality\":\"British\"}]},{\"position\":\"12\",\"positionText\":\"12\",\"points\":\"37\",\"wins\":\"0\",\"Driver\":{\"driverId\":\"vettel\",\"permanentNumber\":\"5\",\"code\":\"VET\",\"url\":\"http:\\/\\/en.wikipedia.org\\/wiki\\/Sebastian_Vettel\",\"givenName\":\"Sebastian\",\"familyName\":\"Vettel\",\"dateOfBirth\":\"1987-07-03\",\"nationality\":\"German\"},              \"Constructors\":[{\"constructorId\":\"aston_martin\",\"url\":\"http:\\/\\/en.wikipedia.org\\/wiki\\/Aston_Martin_in_Formula_One\",\"name\":\"Aston Martin\",\"nationality\":\"British\"}]},{\"position\":\"13\",\"positionText\":\"13\",\"points\":\"25\",\"wins\":\"0\",\"Driver\":{\"driverId\":\"kevin_magnussen\",\"permanentNumber\":\"20\",\"code\":\"MAG\",\"url\":\"http:\\/\\/en.wikipedia.org\\/wiki\\/Kevin_Magnussen\",\"givenName\":\"Kevin\",\"familyName\":\"Magnussen\",\"dateOfBirth\":\"1992-10-05\",\"nationality\":\"Danish\"},              \"Constructors\":[{\"constructorId\":\"haas\",\"url\":\"http:\\/\\/en.wikipedia.org\\/wiki\\/Haas_F1_Team\",\"name\":\"Haas F1 Team\",\"nationality\":\"American\"}]},{\"position\":\"14\",\"positionText\":\"14\",\"points\":\"23\",\"wins\":\"0\",\"Driver\":{\"driverId\":\"gasly\",\"permanentNumber\":\"10\",\"code\":\"GAS\",\"url\":\"http:\\/\\/en.wikipedia.org\\/wiki\\/Pierre_Gasly\",\"givenName\":\"Pierre\",\"familyName\":\"Gasly\",\"dateOfBirth\":\"1996-02-07\",\"nationality\":\"French\"},              \"Constructors\":[{\"constructorId\":\"alphatauri\",\"url\":\"http:\\/\\/en.wikipedia.org\\/wiki\\/Scuderia_AlphaTauri\",\"name\":\"AlphaTauri\",\"nationality\":\"Italian\"}]},{\"position\":\"15\",\"positionText\":\"15\",\"points\":\"18\",\"wins\":\"0\",\"Driver\":{\"driverId\":\"stroll\",\"permanentNumber\":\"18\",\"code\":\"STR\",\"url\":\"http:\\/\\/en.wikipedia.org\\/wiki\\/Lance_Stroll\",\"givenName\":\"Lance\",\"familyName\":\"Stroll\",\"dateOfBirth\":\"1998-10-29\",\"nationality\":\"Canadian\"},              \"Constructors\":[{\"constructorId\":\"aston_martin\",\"url\":\"http:\\/\\/en.wikipedia.org\\/wiki\\/Aston_Martin_in_Formula_One\",\"name\":\"Aston Martin\",\"nationality\":\"British\"}]},{\"position\":\"16\",\"positionText\":\"16\",\"points\":\"12\",\"wins\":\"0\",\"Driver\":{\"driverId\":\"mick_schumacher\",\"permanentNumber\":\"47\",\"code\":\"MSC\",\"url\":\"http:\\/\\/en.wikipedia.org\\/wiki\\/Mick_Schumacher\",\"givenName\":\"Mick\",\"familyName\":\"Schumacher\",\"dateOfBirth\":\"1999-03-22\",\"nationality\":\"German\"},              \"Constructors\":[{\"constructorId\":\"haas\",\"url\":\"http:\\/\\/en.wikipedia.org\\/wiki\\/Haas_F1_Team\",\"name\":\"Haas F1 Team\",\"nationality\":\"American\"}]},{\"position\":\"17\",\"positionText\":\"17\",\"points\":\"12\",\"wins\":\"0\",\"Driver\":{\"driverId\":\"tsunoda\",\"permanentNumber\":\"22\",\"code\":\"TSU\",\"url\":\"http:\\/\\/en.wikipedia.org\\/wiki\\/Yuki_Tsunoda\",\"givenName\":\"Yuki\",\"familyName\":\"Tsunoda\",\"dateOfBirth\":\"2000-05-11\",\"nationality\":\"Japanese\"},              \"Constructors\":[{\"constructorId\":\"alphatauri\",\"url\":\"http:\\/\\/en.wikipedia.org\\/wiki\\/Scuderia_AlphaTauri\",\"name\":\"AlphaTauri\",\"nationality\":\"Italian\"}]},{\"position\":\"18\",\"positionText\":\"18\",\"points\":\"6\",\"wins\":\"0\",\"Driver\":{\"driverId\":\"zhou\",\"permanentNumber\":\"24\",\"code\":\"ZHO\",\"url\":\"http:\\/\\/en.wikipedia.org\\/wiki\\/Guanyu_Zhou\",\"givenName\":\"Guanyu\",\"familyName\":\"Zhou\",\"dateOfBirth\":\"1999-05-30\",\"nationality\":\"Chinese\"},              \"Constructors\":[{\"constructorId\":\"alfa\",\"url\":\"http:\\/\\/en.wikipedia.org\\/wiki\\/Alfa_Romeo_in_Formula_One\",\"name\":\"Alfa Romeo\",\"nationality\":\"Swiss\"}]},{\"position\":\"19\",\"positionText\":\"19\",\"points\":\"4\",\"wins\":\"0\",\"Driver\":{\"driverId\":\"albon\",\"permanentNumber\":\"23\",\"code\":\"ALB\",\"url\":\"http:\\/\\/en.wikipedia.org\\/wiki\\/Alexander_Albon\",\"givenName\":\"Alexander\",\"familyName\":\"Albon\",\"dateOfBirth\":\"1996-03-23\",\"nationality\":\"Thai\"},              \"Constructors\":[{\"constructorId\":\"williams\",\"url\":\"http:\\/\\/en.wikipedia.org\\/wiki\\/Williams_Grand_Prix_Engineering\",\"name\":\"Williams\",\"nationality\":\"British\"}]},{\"position\":\"20\",\"positionText\":\"20\",\"points\":\"2\",\"wins\":\"0\",\"Driver\":{\"driverId\":\"latifi\",\"permanentNumber\":\"6\",\"code\":\"LAT\",\"url\":\"http:\\/\\/en.wikipedia.org\\/wiki\\/Nicholas_Latifi\",\"givenName\":\"Nicholas\",\"familyName\":\"Latifi\",\"dateOfBirth\":\"1995-06-29\",\"nationality\":\"Canadian\"},              \"Constructors\":[{\"constructorId\":\"williams\",\"url\":\"http:\\/\\/en.wikipedia.org\\/wiki\\/Williams_Grand_Prix_Engineering\",\"name\":\"Williams\",\"nationality\":\"British\"}]},{\"position\":\"21\",\"positionText\":\"21\",\"points\":\"2\",\"wins\":\"0\",\"Driver\":{\"driverId\":\"de_vries\",\"permanentNumber\":\"45\",\"code\":\"DEV\",\"url\":\"http:\\/\\/en.wikipedia.org\\/wiki\\/Nyck_de_Vries\",\"givenName\":\"Nyck\",\"familyName\":\"de Vries\",\"dateOfBirth\":\"1995-02-06\",\"nationality\":\"Dutch\"},              \"Constructors\":[{\"constructorId\":\"williams\",\"url\":\"http:\\/\\/en.wikipedia.org\\/wiki\\/Williams_Grand_Prix_Engineering\",\"name\":\"Williams\",\"nationality\":\"British\"}]},{\"position\":\"22\",\"positionText\":\"22\",\"points\":\"0\",\"wins\":\"0\",\"Driver\":{\"driverId\":\"hulkenberg\",\"permanentNumber\":\"27\",\"code\":\"HUL\",\"url\":\"http:\\/\\/en.wikipedia.org\\/wiki\\/Nico_H%C3%BClkenberg\",\"givenName\":\"Nico\",\"familyName\":\"Hülkenberg\",\"dateOfBirth\":\"1987-08-19\",\"nationality\":\"German\"},              \"Constructors\":[{\"constructorId\":\"aston_martin\",\"url\":\"http:\\/\\/en.wikipedia.org\\/wiki\\/Aston_Martin_in_Formula_One\",\"name\":\"Aston Martin\",\"nationality\":\"British\"}]}]}]}}}\n"
     ]
    }
   ],
   "source": [
    "headersList = {\n",
    "    \"Accept\": \"*/*\",\n",
    "    \"User-Agent\": \"Thunder Client (https://www.thunderclient.com)\",\n",
    "}\n",
    "\n",
    "payload = \"\"\n",
    "\n",
    "conn.request(\"GET\", f\"/api/f1/{year}/driverStandings.json\", payload, headersList)\n",
    "response = conn.getresponse()\n",
    "result = response.read()\n",
    "result = result.decode(\"utf-8\")\n",
    "print(result)"
   ]
  },
  {
   "cell_type": "code",
   "execution_count": 18,
   "id": "4cf3d0ea-597e-404a-a257-aca65c550069",
   "metadata": {},
   "outputs": [
    {
     "ename": "TypeError",
     "evalue": "string indices must be integers",
     "output_type": "error",
     "traceback": [
      "\u001b[0;31m---------------------------------------------------------------------------\u001b[0m",
      "\u001b[0;31mTypeError\u001b[0m                                 Traceback (most recent call last)",
      "Cell \u001b[0;32mIn[18], line 4\u001b[0m\n\u001b[1;32m      2\u001b[0m df \u001b[38;5;241m=\u001b[39m pd\u001b[38;5;241m.\u001b[39mDataFrame(df\u001b[38;5;241m.\u001b[39miloc[\u001b[38;5;241m0\u001b[39m][\u001b[38;5;241m0\u001b[39m])\n\u001b[1;32m      3\u001b[0m df \u001b[38;5;241m=\u001b[39m pd\u001b[38;5;241m.\u001b[39mDataFrame(df\u001b[38;5;241m.\u001b[39miloc[\u001b[38;5;241m0\u001b[39m][\u001b[38;5;241m1\u001b[39m])\n\u001b[0;32m----> 4\u001b[0m df \u001b[38;5;241m=\u001b[39m \u001b[43mpd\u001b[49m\u001b[38;5;241;43m.\u001b[39;49m\u001b[43mjson_normalize\u001b[49m\u001b[43m(\u001b[49m\u001b[43mdf\u001b[49m\u001b[43m,\u001b[49m\u001b[43m \u001b[49m\u001b[43mrecord_path\u001b[49m\u001b[38;5;241;43m=\u001b[39;49m\u001b[38;5;124;43m'\u001b[39;49m\u001b[38;5;124;43mDriverStandings\u001b[39;49m\u001b[38;5;124;43m'\u001b[39;49m\u001b[43m)\u001b[49m\n",
      "File \u001b[0;32m~/miniconda3/envs/miw/lib/python3.10/site-packages/pandas/io/json/_normalize.py:518\u001b[0m, in \u001b[0;36m_json_normalize\u001b[0;34m(data, record_path, meta, meta_prefix, record_prefix, errors, sep, max_level)\u001b[0m\n\u001b[1;32m    515\u001b[0m                 meta_vals[key]\u001b[38;5;241m.\u001b[39mappend(meta_val)\n\u001b[1;32m    516\u001b[0m             records\u001b[38;5;241m.\u001b[39mextend(recs)\n\u001b[0;32m--> 518\u001b[0m \u001b[43m_recursive_extract\u001b[49m\u001b[43m(\u001b[49m\u001b[43mdata\u001b[49m\u001b[43m,\u001b[49m\u001b[43m \u001b[49m\u001b[43mrecord_path\u001b[49m\u001b[43m,\u001b[49m\u001b[43m \u001b[49m\u001b[43m{\u001b[49m\u001b[43m}\u001b[49m\u001b[43m,\u001b[49m\u001b[43m \u001b[49m\u001b[43mlevel\u001b[49m\u001b[38;5;241;43m=\u001b[39;49m\u001b[38;5;241;43m0\u001b[39;49m\u001b[43m)\u001b[49m\n\u001b[1;32m    520\u001b[0m result \u001b[38;5;241m=\u001b[39m DataFrame(records)\n\u001b[1;32m    522\u001b[0m \u001b[38;5;28;01mif\u001b[39;00m record_prefix \u001b[38;5;129;01mis\u001b[39;00m \u001b[38;5;129;01mnot\u001b[39;00m \u001b[38;5;28;01mNone\u001b[39;00m:\n",
      "File \u001b[0;32m~/miniconda3/envs/miw/lib/python3.10/site-packages/pandas/io/json/_normalize.py:500\u001b[0m, in \u001b[0;36m_json_normalize.<locals>._recursive_extract\u001b[0;34m(data, path, seen_meta, level)\u001b[0m\n\u001b[1;32m    498\u001b[0m \u001b[38;5;28;01melse\u001b[39;00m:\n\u001b[1;32m    499\u001b[0m     \u001b[38;5;28;01mfor\u001b[39;00m obj \u001b[38;5;129;01min\u001b[39;00m data:\n\u001b[0;32m--> 500\u001b[0m         recs \u001b[38;5;241m=\u001b[39m \u001b[43m_pull_records\u001b[49m\u001b[43m(\u001b[49m\u001b[43mobj\u001b[49m\u001b[43m,\u001b[49m\u001b[43m \u001b[49m\u001b[43mpath\u001b[49m\u001b[43m[\u001b[49m\u001b[38;5;241;43m0\u001b[39;49m\u001b[43m]\u001b[49m\u001b[43m)\u001b[49m\n\u001b[1;32m    501\u001b[0m         recs \u001b[38;5;241m=\u001b[39m [\n\u001b[1;32m    502\u001b[0m             nested_to_record(r, sep\u001b[38;5;241m=\u001b[39msep, max_level\u001b[38;5;241m=\u001b[39mmax_level)\n\u001b[1;32m    503\u001b[0m             \u001b[38;5;28;01mif\u001b[39;00m \u001b[38;5;28misinstance\u001b[39m(r, \u001b[38;5;28mdict\u001b[39m)\n\u001b[1;32m    504\u001b[0m             \u001b[38;5;28;01melse\u001b[39;00m r\n\u001b[1;32m    505\u001b[0m             \u001b[38;5;28;01mfor\u001b[39;00m r \u001b[38;5;129;01min\u001b[39;00m recs\n\u001b[1;32m    506\u001b[0m         ]\n\u001b[1;32m    508\u001b[0m         \u001b[38;5;66;03m# For repeating the metadata later\u001b[39;00m\n",
      "File \u001b[0;32m~/miniconda3/envs/miw/lib/python3.10/site-packages/pandas/io/json/_normalize.py:422\u001b[0m, in \u001b[0;36m_json_normalize.<locals>._pull_records\u001b[0;34m(js, spec)\u001b[0m\n\u001b[1;32m    416\u001b[0m \u001b[38;5;28;01mdef\u001b[39;00m \u001b[38;5;21m_pull_records\u001b[39m(js: \u001b[38;5;28mdict\u001b[39m[\u001b[38;5;28mstr\u001b[39m, Any], spec: \u001b[38;5;28mlist\u001b[39m \u001b[38;5;241m|\u001b[39m \u001b[38;5;28mstr\u001b[39m) \u001b[38;5;241m-\u001b[39m\u001b[38;5;241m>\u001b[39m \u001b[38;5;28mlist\u001b[39m:\n\u001b[1;32m    417\u001b[0m \u001b[38;5;250m    \u001b[39m\u001b[38;5;124;03m\"\"\"\u001b[39;00m\n\u001b[1;32m    418\u001b[0m \u001b[38;5;124;03m    Internal function to pull field for records, and similar to\u001b[39;00m\n\u001b[1;32m    419\u001b[0m \u001b[38;5;124;03m    _pull_field, but require to return list. And will raise error\u001b[39;00m\n\u001b[1;32m    420\u001b[0m \u001b[38;5;124;03m    if has non iterable value.\u001b[39;00m\n\u001b[1;32m    421\u001b[0m \u001b[38;5;124;03m    \"\"\"\u001b[39;00m\n\u001b[0;32m--> 422\u001b[0m     result \u001b[38;5;241m=\u001b[39m \u001b[43m_pull_field\u001b[49m\u001b[43m(\u001b[49m\u001b[43mjs\u001b[49m\u001b[43m,\u001b[49m\u001b[43m \u001b[49m\u001b[43mspec\u001b[49m\u001b[43m,\u001b[49m\u001b[43m \u001b[49m\u001b[43mextract_record\u001b[49m\u001b[38;5;241;43m=\u001b[39;49m\u001b[38;5;28;43;01mTrue\u001b[39;49;00m\u001b[43m)\u001b[49m\n\u001b[1;32m    424\u001b[0m     \u001b[38;5;66;03m# GH 31507 GH 30145, GH 26284 if result is not list, raise TypeError if not\u001b[39;00m\n\u001b[1;32m    425\u001b[0m     \u001b[38;5;66;03m# null, otherwise return an empty list\u001b[39;00m\n\u001b[1;32m    426\u001b[0m     \u001b[38;5;28;01mif\u001b[39;00m \u001b[38;5;129;01mnot\u001b[39;00m \u001b[38;5;28misinstance\u001b[39m(result, \u001b[38;5;28mlist\u001b[39m):\n",
      "File \u001b[0;32m~/miniconda3/envs/miw/lib/python3.10/site-packages/pandas/io/json/_normalize.py:399\u001b[0m, in \u001b[0;36m_json_normalize.<locals>._pull_field\u001b[0;34m(js, spec, extract_record)\u001b[0m\n\u001b[1;32m    397\u001b[0m             result \u001b[38;5;241m=\u001b[39m result[field]\n\u001b[1;32m    398\u001b[0m     \u001b[38;5;28;01melse\u001b[39;00m:\n\u001b[0;32m--> 399\u001b[0m         result \u001b[38;5;241m=\u001b[39m \u001b[43mresult\u001b[49m\u001b[43m[\u001b[49m\u001b[43mspec\u001b[49m\u001b[43m]\u001b[49m\n\u001b[1;32m    400\u001b[0m \u001b[38;5;28;01mexcept\u001b[39;00m \u001b[38;5;167;01mKeyError\u001b[39;00m \u001b[38;5;28;01mas\u001b[39;00m e:\n\u001b[1;32m    401\u001b[0m     \u001b[38;5;28;01mif\u001b[39;00m extract_record:\n",
      "\u001b[0;31mTypeError\u001b[0m: string indices must be integers"
     ]
    }
   ],
   "source": [
    "df = pd.read_json(result)\n",
    "df = pd.DataFrame(df.iloc[0][0])\n",
    "df = pd.DataFrame(df.iloc[0][1])\n",
    "df = pd.json_normalize(df, record_path='DriverStandings')\n",
    "# df = pd.json_normalize(result, record_path=\"MRData\")\n",
    "# print([header for header in df])\n",
    "# display(df.loc['StandingsTable'])\n",
    "# print(df)"
   ]
  },
  {
   "cell_type": "code",
   "execution_count": null,
   "id": "5ee9309c-dd13-486b-9529-dc3d70f73e79",
   "metadata": {},
   "outputs": [],
   "source": []
  }
 ],
 "metadata": {
  "kernelspec": {
   "display_name": "Python 3 (ipykernel)",
   "language": "python",
   "name": "python3"
  },
  "language_info": {
   "codemirror_mode": {
    "name": "ipython",
    "version": 3
   },
   "file_extension": ".py",
   "mimetype": "text/x-python",
   "name": "python",
   "nbconvert_exporter": "python",
   "pygments_lexer": "ipython3",
   "version": "3.10.9"
  }
 },
 "nbformat": 4,
 "nbformat_minor": 5
}
