{
 "cells": [
  {
   "attachments": {},
   "cell_type": "markdown",
   "metadata": {},
   "source": [
    "functie om de <i>coefficient of determination(R²) vanilla: </i> te berekenen."
   ]
  },
  {
   "cell_type": "code",
   "execution_count": null,
   "metadata": {},
   "outputs": [],
   "source": [
    "# functie om coefficient of determination(R²) vanilla: te berekenen\n",
    "# StDek\n",
    "\n",
    "def coefficient_R(x):\n",
    "        # how to train.\n",
    "    train, test = train_test_split(x, test_size=0.2, random_state=42) # random state 42 om steeds de zelfde split te maken.\n",
    "    \n",
    "    X = train.drop(['lifespan'], axis=1) # definieer de Xas. Drop de waarde die op de Y-as komt\n",
    "    y = train.lifespan # de waarde die op de y-as komt. \n",
    "    regr = linear_model.LinearRegression()\n",
    "    regr.fit(X, y) \n",
    "    score = regr.score(test.drop(['lifespan'],axis=1),test.lifespan)\n",
    "    print(f'coefficient of determination(R\\N{SUPERSCRIPT TWO}) vanilla:', score) # print de waarde die we willen zien."
   ]
  },
  {
   "attachments": {},
   "cell_type": "markdown",
   "metadata": {},
   "source": [
    "Invul voorkeeld. "
   ]
  },
  {
   "cell_type": "code",
   "execution_count": null,
   "metadata": {},
   "outputs": [],
   "source": [
    "df = df2.copy()\n",
    "coefficient_R(df)"
   ]
  }
 ],
 "metadata": {
  "language_info": {
   "name": "python"
  },
  "orig_nbformat": 4
 },
 "nbformat": 4,
 "nbformat_minor": 2
}
