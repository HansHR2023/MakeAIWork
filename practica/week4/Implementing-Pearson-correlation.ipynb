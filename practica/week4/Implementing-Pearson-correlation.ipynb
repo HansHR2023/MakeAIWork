{
 "cells": [
  {
   "cell_type": "markdown",
   "id": "d4334e7a",
   "metadata": {},
   "source": [
    "# Bron\n",
    "\n",
    "https://en.wikipedia.org/wiki/Correlation"
   ]
  },
  {
   "cell_type": "code",
   "execution_count": 22,
   "id": "ff9ebb2d",
   "metadata": {},
   "outputs": [],
   "source": [
    "import numpy as np\n",
    "import pandas as pd\n",
    "import math"
   ]
  },
  {
   "cell_type": "code",
   "execution_count": 2,
   "id": "d0490f02",
   "metadata": {},
   "outputs": [],
   "source": [
    "# According to the formula we need:\n",
    "\n",
    "# 1. Compute the average of X (avgX)\n",
    "# 2. Compute the average of Y (avgY)\n",
    "# 3. Compute the variation of X (stdX)\n",
    "# 4. Compute the variation of Y (stdY)\n",
    "\n",
    "# Once we have computed the ingredients above\n",
    "# we must compute the sum of (Xi - avgX) * (Yi - avgY) and divide by stdX * stdY"
   ]
  },
  {
   "cell_type": "code",
   "execution_count": 3,
   "id": "fdd9c6a7",
   "metadata": {},
   "outputs": [],
   "source": [
    "# Let's define our linear dataset\n",
    "X = np.array([0, 1, 2, 3, 4])\n",
    "Y = np.array([1, 2, 3, 4, 5])"
   ]
  },
  {
   "cell_type": "code",
   "execution_count": 4,
   "id": "9acff2f8",
   "metadata": {},
   "outputs": [
    {
     "data": {
      "text/plain": [
       "2.0"
      ]
     },
     "metadata": {},
     "output_type": "display_data"
    },
    {
     "data": {
      "text/plain": [
       "3.0"
      ]
     },
     "metadata": {},
     "output_type": "display_data"
    }
   ],
   "source": [
    "# 1. Compute the average of X (avgX)\n",
    "avgX = np.average(X)\n",
    "display(avgX)\n",
    "\n",
    "# 2. Compute the average of Y (avgY)\n",
    "avgY = np.average(Y)\n",
    "display(avgY)\n"
   ]
  },
  {
   "cell_type": "code",
   "execution_count": 16,
   "id": "5648b642-6fe8-422d-a193-7ca1f774b2ad",
   "metadata": {},
   "outputs": [
    {
     "name": "stdout",
     "output_type": "stream",
     "text": [
      "2.0\n"
     ]
    }
   ],
   "source": [
    "# vorige stap als loop:\n",
    "total = 0\n",
    "\n",
    "for x in X:\n",
    "    total += x\n",
    "    \n",
    "avg = total / len(X)\n",
    "\n",
    "print(avg)"
   ]
  },
  {
   "cell_type": "code",
   "execution_count": 19,
   "id": "a796ef8d-d234-49de-b362-d7932424eafe",
   "metadata": {},
   "outputs": [],
   "source": [
    "# vorige stap als functie:\n",
    "def average(N):\n",
    "    total = 0\n",
    "\n",
    "    for n in N:\n",
    "        total += n\n",
    "    \n",
    "    return total / len(N)\n"
   ]
  },
  {
   "cell_type": "code",
   "execution_count": 21,
   "id": "0ee376e2-b0f6-4f82-a2a9-501d4890285e",
   "metadata": {},
   "outputs": [
    {
     "data": {
      "text/plain": [
       "2.0"
      ]
     },
     "metadata": {},
     "output_type": "display_data"
    },
    {
     "data": {
      "text/plain": [
       "3.0"
      ]
     },
     "metadata": {},
     "output_type": "display_data"
    }
   ],
   "source": [
    "# functie gebruiken:\n",
    "avgX = average(X)\n",
    "display(avgX)\n",
    "\n",
    "avgY = average(Y)\n",
    "display(avgY)"
   ]
  },
  {
   "cell_type": "code",
   "execution_count": 5,
   "id": "6028b2a9",
   "metadata": {},
   "outputs": [
    {
     "data": {
      "text/plain": [
       "1.4142135623730951"
      ]
     },
     "metadata": {},
     "output_type": "display_data"
    },
    {
     "data": {
      "text/plain": [
       "1.4142135623730951"
      ]
     },
     "metadata": {},
     "output_type": "display_data"
    }
   ],
   "source": [
    "# 3. Compute the variation of X (stdX)\n",
    "# dit is de standaard deviatie !!!\n",
    "stdX = np.std(X)\n",
    "display(stdX)\n",
    "\n",
    "# 4. Compute the variation of Y (stdY)\n",
    "stdY = np.std(Y)\n",
    "display(stdY)"
   ]
  },
  {
   "cell_type": "code",
   "execution_count": 23,
   "id": "034cfcec-6ac2-456d-b3ab-b7e98fbb00a9",
   "metadata": {},
   "outputs": [
    {
     "data": {
      "text/plain": [
       "1.4142135623730951"
      ]
     },
     "metadata": {},
     "output_type": "display_data"
    }
   ],
   "source": [
    "# vorige stap als loop:\n",
    "# wat is de standaard deviatie? de spreiding als (x-avgX)**2 voor elke x dus alle x optellen\n",
    "# zie de formule: overal waar een som staat, heb je een for loop nodig\n",
    "\n",
    "total2 = 0\n",
    "\n",
    "for x in X:\n",
    "    total2 += (x - avgX)**2\n",
    "    \n",
    "sigma = math.sqrt(total / len(X))\n",
    "\n",
    "display(sigma)"
   ]
  },
  {
   "cell_type": "code",
   "execution_count": 24,
   "id": "79c44a3f-64f2-4fab-b0e9-af46ad2ab2a7",
   "metadata": {},
   "outputs": [],
   "source": [
    "# vorige stap als functie\n",
    "\n",
    "def variation(N):\n",
    "    total2 = 0\n",
    "\n",
    "    for x in X:\n",
    "        total2 += (x - avgX)**2\n",
    "        \n",
    "    return math.sqrt(total / len(X))\n",
    "\n",
    "    "
   ]
  },
  {
   "cell_type": "code",
   "execution_count": 28,
   "id": "55088024-88b6-4a13-9ae8-9ea852e94330",
   "metadata": {},
   "outputs": [],
   "source": [
    "# nu moet je avgX nog vervangen door avgN\n",
    "\n",
    "def variation1(N, avgN):\n",
    "    total2 = 0\n",
    "\n",
    "    for x in X:\n",
    "        total2 += (x - avgN)**2\n",
    "        \n",
    "    return math.sqrt(total / len(X))\n"
   ]
  },
  {
   "cell_type": "code",
   "execution_count": 29,
   "id": "98f70117-5bd1-445c-95fb-3f4bc12ada8e",
   "metadata": {},
   "outputs": [],
   "source": [
    "# nu moet je avgX nog vervangen door avgN, optie 2\n",
    "\n",
    "def variation2(N):\n",
    "    avgN = average(N)\n",
    "    total2 = 0\n",
    "\n",
    "    for x in X:\n",
    "        total2 += (x - avgN)**2\n",
    "        \n",
    "    return math.sqrt(total / len(X))\n"
   ]
  },
  {
   "cell_type": "code",
   "execution_count": 31,
   "id": "3603246e-3c40-4e87-9ad3-15d85b254faa",
   "metadata": {},
   "outputs": [
    {
     "data": {
      "text/plain": [
       "1.4142135623730951"
      ]
     },
     "metadata": {},
     "output_type": "display_data"
    },
    {
     "data": {
      "text/plain": [
       "1.4142135623730951"
      ]
     },
     "metadata": {},
     "output_type": "display_data"
    },
    {
     "data": {
      "text/plain": [
       "1.4142135623730951"
      ]
     },
     "metadata": {},
     "output_type": "display_data"
    }
   ],
   "source": [
    "# gebruik functie\n",
    "\n",
    "display(variation(X))\n",
    "display(variation1(X, avgX))\n",
    "display(variation2(X))"
   ]
  },
  {
   "cell_type": "code",
   "execution_count": 32,
   "id": "b7a34531-6a89-4132-88a1-4a01487b17d0",
   "metadata": {},
   "outputs": [
    {
     "data": {
      "text/plain": [
       "1.4142135623730951"
      ]
     },
     "metadata": {},
     "output_type": "display_data"
    },
    {
     "data": {
      "text/plain": [
       "1.4142135623730951"
      ]
     },
     "metadata": {},
     "output_type": "display_data"
    }
   ],
   "source": [
    "stdX = variation1(X, avgX)\n",
    "display(stdX)\n",
    "\n",
    "stdY = variation1(Y, avgY)\n",
    "display(stdY)\n"
   ]
  },
  {
   "cell_type": "code",
   "execution_count": 25,
   "id": "3d2a24f1",
   "metadata": {},
   "outputs": [
    {
     "data": {
      "text/plain": [
       "4.999999999999999"
      ]
     },
     "metadata": {},
     "output_type": "display_data"
    }
   ],
   "source": [
    "# Once we have computed the ingredients above\n",
    "# we must compute the sum of (Xi - avgX) * (Yi - avgY) and divide by stdX * stdY = p (Pearson)\n",
    "p = np.sum((X-avgX)*(Y-avgY)) / (stdX * stdY)\n",
    "display(p)"
   ]
  },
  {
   "cell_type": "code",
   "execution_count": 38,
   "id": "95dc78d3-6023-4e4c-bcb0-0a3c50ef10f9",
   "metadata": {},
   "outputs": [
    {
     "data": {
      "text/plain": [
       "0.9999999999999998"
      ]
     },
     "metadata": {},
     "output_type": "display_data"
    }
   ],
   "source": [
    "# vorige stap als loop:\n",
    "\n",
    "total3 = 0\n",
    "\n",
    "# for x,y in zip(X,Y):\n",
    "#     pass\n",
    "\n",
    "for x,y in zip(X,Y):\n",
    "    total3 += (x - avgX) * (y - avgY)\n",
    "    \n",
    "display(total / (len(X) *stdX * stdY))    "
   ]
  },
  {
   "cell_type": "code",
   "execution_count": 26,
   "id": "6b0dc187-6181-4e50-abfd-fdd991ff01cd",
   "metadata": {},
   "outputs": [
    {
     "data": {
      "text/plain": [
       "0.9999999999999998"
      ]
     },
     "metadata": {},
     "output_type": "display_data"
    }
   ],
   "source": [
    "# len X toevoegen want je moet n-1 uit de onderkant van de formule nog toevoegen, omdat wij rekenen vanf 1 en numpy vanaf 0. Nu is het result ongeveer 1.\n",
    "p = np.sum((X-avgX)*(Y-avgY)) / (len(X) * stdX * stdY)\n",
    "display(p)"
   ]
  },
  {
   "cell_type": "code",
   "execution_count": null,
   "id": "74e4bf60-c97c-456b-9aaa-2a49cb3571aa",
   "metadata": {},
   "outputs": [],
   "source": [
    "\n",
    "\n",
    "\n",
    "\n",
    "\n"
   ]
  },
  {
   "cell_type": "code",
   "execution_count": 13,
   "id": "2ff0774b",
   "metadata": {},
   "outputs": [],
   "source": [
    "# Let's define the pearson correlation as a function\n",
    "def pearsonsCorrelation(X, Y):\n",
    "    avgX = np.average(X)\n",
    "    avgY = np.average(Y)\n",
    "    stdX = np.std(X)\n",
    "    stdY = np.std(Y)\n",
    "    return np.sum((X-avgX)*(Y-avgY)) / (len(X) * stdX * stdY)\n"
   ]
  },
  {
   "cell_type": "code",
   "execution_count": 75,
   "id": "3fc71d50-00d9-447f-8133-d95747761eb8",
   "metadata": {},
   "outputs": [],
   "source": [
    "# vorige stap als loop:\n",
    "\n",
    "def pearsonsCorrelation2(N, M):\n",
    "    avgN = average(N)\n",
    "    avgM = average(M)\n",
    "    stdN = variation1(N, avgN)\n",
    "    stdM = variation1(M, avgM)\n",
    "    \n",
    "    total_5 = 0\n",
    "\n",
    "    for n,m in zip(N,M):\n",
    "        total_5 += (n - avgN) * (m - avgM)\n",
    "    \n",
    "    return total_5 / (len(N) *stdN * stdM)"
   ]
  },
  {
   "cell_type": "code",
   "execution_count": 73,
   "id": "d4c4cc95-3311-46f8-ae19-04997cf962f2",
   "metadata": {},
   "outputs": [
    {
     "data": {
      "text/plain": [
       "0.9999999999999998"
      ]
     },
     "metadata": {},
     "output_type": "display_data"
    }
   ],
   "source": [
    "display(pearsonsCorrelation2(X,Y))"
   ]
  },
  {
   "cell_type": "code",
   "execution_count": 52,
   "id": "ce3d731f",
   "metadata": {},
   "outputs": [],
   "source": [
    "# Let's use the dataset of project 1\n",
    "df = pd.read_csv('data-project-1-cleaned.csv')"
   ]
  },
  {
   "cell_type": "code",
   "execution_count": 53,
   "id": "624b17b7",
   "metadata": {},
   "outputs": [
    {
     "data": {
      "text/html": [
       "<div>\n",
       "<style scoped>\n",
       "    .dataframe tbody tr th:only-of-type {\n",
       "        vertical-align: middle;\n",
       "    }\n",
       "\n",
       "    .dataframe tbody tr th {\n",
       "        vertical-align: top;\n",
       "    }\n",
       "\n",
       "    .dataframe thead th {\n",
       "        text-align: right;\n",
       "    }\n",
       "</style>\n",
       "<table border=\"1\" class=\"dataframe\">\n",
       "  <thead>\n",
       "    <tr style=\"text-align: right;\">\n",
       "      <th></th>\n",
       "      <th>genetic</th>\n",
       "      <th>length</th>\n",
       "      <th>mass</th>\n",
       "      <th>exercise</th>\n",
       "      <th>smoking</th>\n",
       "      <th>alcohol</th>\n",
       "      <th>sugar</th>\n",
       "      <th>lifespan</th>\n",
       "    </tr>\n",
       "  </thead>\n",
       "  <tbody>\n",
       "    <tr>\n",
       "      <th>genetic</th>\n",
       "      <td>1.000000</td>\n",
       "      <td>-0.029606</td>\n",
       "      <td>0.000513</td>\n",
       "      <td>-0.035005</td>\n",
       "      <td>-0.015490</td>\n",
       "      <td>-0.013170</td>\n",
       "      <td>0.018785</td>\n",
       "      <td>0.949799</td>\n",
       "    </tr>\n",
       "    <tr>\n",
       "      <th>length</th>\n",
       "      <td>-0.029606</td>\n",
       "      <td>1.000000</td>\n",
       "      <td>0.000106</td>\n",
       "      <td>0.011401</td>\n",
       "      <td>-0.020691</td>\n",
       "      <td>-0.007162</td>\n",
       "      <td>0.007860</td>\n",
       "      <td>0.013155</td>\n",
       "    </tr>\n",
       "    <tr>\n",
       "      <th>mass</th>\n",
       "      <td>0.000513</td>\n",
       "      <td>0.000106</td>\n",
       "      <td>1.000000</td>\n",
       "      <td>0.008204</td>\n",
       "      <td>-0.009541</td>\n",
       "      <td>0.000726</td>\n",
       "      <td>0.005601</td>\n",
       "      <td>-0.066040</td>\n",
       "    </tr>\n",
       "    <tr>\n",
       "      <th>exercise</th>\n",
       "      <td>-0.035005</td>\n",
       "      <td>0.011401</td>\n",
       "      <td>0.008204</td>\n",
       "      <td>1.000000</td>\n",
       "      <td>0.021512</td>\n",
       "      <td>-0.024521</td>\n",
       "      <td>-0.008328</td>\n",
       "      <td>0.082986</td>\n",
       "    </tr>\n",
       "    <tr>\n",
       "      <th>smoking</th>\n",
       "      <td>-0.015490</td>\n",
       "      <td>-0.020691</td>\n",
       "      <td>-0.009541</td>\n",
       "      <td>0.021512</td>\n",
       "      <td>1.000000</td>\n",
       "      <td>-0.012298</td>\n",
       "      <td>0.008925</td>\n",
       "      <td>-0.246140</td>\n",
       "    </tr>\n",
       "    <tr>\n",
       "      <th>alcohol</th>\n",
       "      <td>-0.013170</td>\n",
       "      <td>-0.007162</td>\n",
       "      <td>0.000726</td>\n",
       "      <td>-0.024521</td>\n",
       "      <td>-0.012298</td>\n",
       "      <td>1.000000</td>\n",
       "      <td>0.003860</td>\n",
       "      <td>-0.063539</td>\n",
       "    </tr>\n",
       "    <tr>\n",
       "      <th>sugar</th>\n",
       "      <td>0.018785</td>\n",
       "      <td>0.007860</td>\n",
       "      <td>0.005601</td>\n",
       "      <td>-0.008328</td>\n",
       "      <td>0.008925</td>\n",
       "      <td>0.003860</td>\n",
       "      <td>1.000000</td>\n",
       "      <td>-0.010887</td>\n",
       "    </tr>\n",
       "    <tr>\n",
       "      <th>lifespan</th>\n",
       "      <td>0.949799</td>\n",
       "      <td>0.013155</td>\n",
       "      <td>-0.066040</td>\n",
       "      <td>0.082986</td>\n",
       "      <td>-0.246140</td>\n",
       "      <td>-0.063539</td>\n",
       "      <td>-0.010887</td>\n",
       "      <td>1.000000</td>\n",
       "    </tr>\n",
       "  </tbody>\n",
       "</table>\n",
       "</div>"
      ],
      "text/plain": [
       "           genetic    length      mass  exercise   smoking   alcohol  \\\n",
       "genetic   1.000000 -0.029606  0.000513 -0.035005 -0.015490 -0.013170   \n",
       "length   -0.029606  1.000000  0.000106  0.011401 -0.020691 -0.007162   \n",
       "mass      0.000513  0.000106  1.000000  0.008204 -0.009541  0.000726   \n",
       "exercise -0.035005  0.011401  0.008204  1.000000  0.021512 -0.024521   \n",
       "smoking  -0.015490 -0.020691 -0.009541  0.021512  1.000000 -0.012298   \n",
       "alcohol  -0.013170 -0.007162  0.000726 -0.024521 -0.012298  1.000000   \n",
       "sugar     0.018785  0.007860  0.005601 -0.008328  0.008925  0.003860   \n",
       "lifespan  0.949799  0.013155 -0.066040  0.082986 -0.246140 -0.063539   \n",
       "\n",
       "             sugar  lifespan  \n",
       "genetic   0.018785  0.949799  \n",
       "length    0.007860  0.013155  \n",
       "mass      0.005601 -0.066040  \n",
       "exercise -0.008328  0.082986  \n",
       "smoking   0.008925 -0.246140  \n",
       "alcohol   0.003860 -0.063539  \n",
       "sugar     1.000000 -0.010887  \n",
       "lifespan -0.010887  1.000000  "
      ]
     },
     "execution_count": 53,
     "metadata": {},
     "output_type": "execute_result"
    }
   ],
   "source": [
    "# Look at the correlations\n",
    "df.corr()"
   ]
  },
  {
   "cell_type": "code",
   "execution_count": 62,
   "id": "f413b160",
   "metadata": {},
   "outputs": [
    {
     "data": {
      "text/plain": [
       "0.949798954348127"
      ]
     },
     "metadata": {},
     "output_type": "display_data"
    }
   ],
   "source": [
    "# Let's check\n",
    "display(pearsonsCorrelation(df['genetic'], df['lifespan']))"
   ]
  },
  {
   "cell_type": "code",
   "execution_count": 74,
   "id": "99873ba7-897f-4cb2-b259-7f526a2d9a10",
   "metadata": {},
   "outputs": [
    {
     "data": {
      "text/plain": [
       "27.7006675608619"
      ]
     },
     "metadata": {},
     "output_type": "display_data"
    }
   ],
   "source": [
    "# als loop:\n",
    "\n",
    "display(pearsonsCorrelation2(df['genetic'], df['lifespan']))\n",
    "\n",
    "# moet 0.96309 zijn maar uitkomst klopt niet ... waar zit de fout?"
   ]
  },
  {
   "cell_type": "code",
   "execution_count": 15,
   "id": "b1831cd8",
   "metadata": {},
   "outputs": [
    {
     "data": {
      "text/plain": [
       "array([[1.        , 0.94979895],\n",
       "       [0.94979895, 1.        ]])"
      ]
     },
     "metadata": {},
     "output_type": "display_data"
    }
   ],
   "source": [
    "# Let's double check with the numpy method\n",
    "display(np.corrcoef(df['genetic'], df['lifespan']))"
   ]
  },
  {
   "cell_type": "code",
   "execution_count": null,
   "id": "5a90b34c-17a0-467f-8539-815c3b300fb7",
   "metadata": {},
   "outputs": [],
   "source": []
  }
 ],
 "metadata": {
  "kernelspec": {
   "display_name": "Python 3 (ipykernel)",
   "language": "python",
   "name": "python3"
  },
  "language_info": {
   "codemirror_mode": {
    "name": "ipython",
    "version": 3
   },
   "file_extension": ".py",
   "mimetype": "text/x-python",
   "name": "python",
   "nbconvert_exporter": "python",
   "pygments_lexer": "ipython3",
   "version": "3.10.9"
  }
 },
 "nbformat": 4,
 "nbformat_minor": 5
}
