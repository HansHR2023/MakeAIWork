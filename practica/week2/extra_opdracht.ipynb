{
 "cells": [
  {
   "cell_type": "code",
   "execution_count": null,
   "id": "e8621142-2934-4cf3-a47c-5c3ba39b972d",
   "metadata": {},
   "outputs": [],
   "source": []
  },
  {
   "cell_type": "code",
   "execution_count": null,
   "id": "729ab766-d007-4a82-91e9-1ac032abf44e",
   "metadata": {},
   "outputs": [],
   "source": [
    "https://www.w3schools.com/python/python_classes.asp"
   ]
  },
  {
   "cell_type": "code",
   "execution_count": 29,
   "id": "82f26bc6-b4c6-41ac-999a-79fa5bcbcaae",
   "metadata": {},
   "outputs": [],
   "source": [
    "class Person:\n",
    "    def __init__(self, name, age):\n",
    "        self.name = name\n",
    "        self.age = age\n",
    "        \n",
    "    def __string__(self):\n",
    "        return f\"{self.name}({self.age})\"\n",
    "        \n"
   ]
  },
  {
   "cell_type": "code",
   "execution_count": 30,
   "id": "896f50a7-1b9a-456a-b4ac-1c3bba46eca9",
   "metadata": {},
   "outputs": [
    {
     "name": "stdout",
     "output_type": "stream",
     "text": [
      "<__main__.Person object at 0x7f2c1d900490>\n"
     ]
    }
   ],
   "source": [
    "p1 = Person('John', 36)\n",
    "\n",
    "# print(p1.name)\n",
    "# print(p1.age)\n",
    "\n",
    "print(p1)"
   ]
  },
  {
   "cell_type": "code",
   "execution_count": null,
   "id": "767c7471-c7ce-4832-b7e9-fc0169e214d6",
   "metadata": {},
   "outputs": [],
   "source": []
  },
  {
   "cell_type": "code",
   "execution_count": null,
   "id": "1b919510-7f9c-438f-bca2-36e86bd4b5ce",
   "metadata": {},
   "outputs": [],
   "source": [
    "https://docs.python.org/3/library/dataclasses.html?highlight=dataclasses#module-dataclasses"
   ]
  },
  {
   "cell_type": "markdown",
   "id": "428dc74d-b747-49bc-a992-bf989c6c74ad",
   "metadata": {},
   "source": [
    "Maak een dataclass marslander aan\n",
    "\n",
    "marslander.py\n"
   ]
  },
  {
   "cell_type": "code",
   "execution_count": 18,
   "id": "88afeea8-2b66-4530-b2c7-25f501410d00",
   "metadata": {},
   "outputs": [],
   "source": [
    "# from dataclasses import dataclasses\n",
    "# dit werkt niet\n",
    "\n",
    "from dataclasses import dataclass\n"
   ]
  },
  {
   "cell_type": "code",
   "execution_count": 21,
   "id": "0026e6d0-b4bf-461a-b5f9-abf0afb701b9",
   "metadata": {},
   "outputs": [
    {
     "ename": "SyntaxError",
     "evalue": "incomplete input (1239029123.py, line 2)",
     "output_type": "error",
     "traceback": [
      "\u001b[0;36m  Cell \u001b[0;32mIn[21], line 2\u001b[0;36m\u001b[0m\n\u001b[0;31m    class dataclass:\u001b[0m\n\u001b[0m                    ^\u001b[0m\n\u001b[0;31mSyntaxError\u001b[0m\u001b[0;31m:\u001b[0m incomplete input\n"
     ]
    }
   ],
   "source": [
    "@dataclass\n",
    "class dataclass:"
   ]
  },
  {
   "cell_type": "code",
   "execution_count": null,
   "id": "c43cf71a-26fd-43d9-a908-92b877e8beff",
   "metadata": {},
   "outputs": [],
   "source": [
    "@dataclass\n",
    "class InventoryItem:\n",
    "    \"\"\"Class for keeping track of an item in inventory.\"\"\"\n",
    "    name: str\n",
    "    unit_price: float\n",
    "    quantity_on_hand: int = 0\n",
    "\n",
    "    def total_cost(self) -> float:\n",
    "        return self.unit_price * self.quantity_on_hand"
   ]
  },
  {
   "cell_type": "code",
   "execution_count": null,
   "id": "3db96cb5-57da-4b45-9c44-6b757748eb7a",
   "metadata": {},
   "outputs": [],
   "source": [
    "def __init__(self, name: str, unit_price: float, quantity_on_hand: int = 0):\n",
    "    self.name = name\n",
    "    self.unit_price = unit_price\n",
    "    self.quantity_on_hand = quantity_on_hand"
   ]
  },
  {
   "cell_type": "code",
   "execution_count": null,
   "id": "e1a3a157-4696-4ef3-9d97-4ed75d76c55d",
   "metadata": {},
   "outputs": [],
   "source": []
  }
 ],
 "metadata": {
  "kernelspec": {
   "display_name": "Python 3 (ipykernel)",
   "language": "python",
   "name": "python3"
  },
  "language_info": {
   "codemirror_mode": {
    "name": "ipython",
    "version": 3
   },
   "file_extension": ".py",
   "mimetype": "text/x-python",
   "name": "python",
   "nbconvert_exporter": "python",
   "pygments_lexer": "ipython3",
   "version": "3.10.9"
  }
 },
 "nbformat": 4,
 "nbformat_minor": 5
}
