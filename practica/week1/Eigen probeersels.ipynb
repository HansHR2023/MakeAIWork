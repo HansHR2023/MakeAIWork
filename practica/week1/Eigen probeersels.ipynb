{
 "cells": [
  {
   "cell_type": "code",
   "execution_count": 9,
   "id": "6af7cb84-0788-4889-89ce-1e0325630810",
   "metadata": {},
   "outputs": [],
   "source": [
    "number = 7\n",
    "spaces = number\n",
    "stars = 1"
   ]
  },
  {
   "cell_type": "code",
   "execution_count": 1,
   "id": "379c43ef-40bf-4ed1-bce8-eb96058b27b2",
   "metadata": {},
   "outputs": [],
   "source": [
    "s = \"*\""
   ]
  },
  {
   "cell_type": "code",
   "execution_count": 12,
   "id": "81eea6e6-3622-43d7-a6e8-da6492bcb622",
   "metadata": {},
   "outputs": [
    {
     "data": {
      "text/plain": [
       "'ooo*ooo'"
      ]
     },
     "execution_count": 12,
     "metadata": {},
     "output_type": "execute_result"
    }
   ],
   "source": [
    "s.center(7, \"o\")"
   ]
  },
  {
   "cell_type": "code",
   "execution_count": 13,
   "id": "f3c2bc9c-a57e-4bbf-92d3-054d57942847",
   "metadata": {},
   "outputs": [],
   "source": [
    "s = \"***\""
   ]
  },
  {
   "cell_type": "code",
   "execution_count": 14,
   "id": "22ea5698-50f7-46f4-877c-9f7b36685617",
   "metadata": {},
   "outputs": [
    {
     "data": {
      "text/plain": [
       "'oo***oo'"
      ]
     },
     "execution_count": 14,
     "metadata": {},
     "output_type": "execute_result"
    }
   ],
   "source": [
    "s.center(7, \"o\")"
   ]
  },
  {
   "cell_type": "code",
   "execution_count": null,
   "id": "61e00100-91be-45ac-9f2f-c67a05e61d24",
   "metadata": {},
   "outputs": [],
   "source": []
  },
  {
   "cell_type": "code",
   "execution_count": null,
   "id": "c665c0e0-9938-4afa-9a6a-70f8663f4984",
   "metadata": {},
   "outputs": [],
   "source": [
    "s.center(spaces, stars)"
   ]
  },
  {
   "cell_type": "code",
   "execution_count": 17,
   "id": "652239c4-a3da-4769-931e-37c396193965",
   "metadata": {},
   "outputs": [
    {
     "name": "stdin",
     "output_type": "stream",
     "text": [
      "provide amounts of digits 4\n"
     ]
    },
    {
     "name": "stdout",
     "output_type": "stream",
     "text": [
      "please provide an odd number\n",
      "    \n",
      " ** \n",
      "****\n",
      " ** \n",
      "please enter an odd number\n"
     ]
    }
   ],
   "source": [
    "# diamond maken , oplossing van Stephan met aanpassing van Jeroen\n",
    "\n",
    "#def diamond\n",
    "\n",
    "height = int(input('provide amounts of digits'))\n",
    "\n",
    "if height % 2 == 0:\n",
    "    print('please provide an odd number')\n",
    "    #return ''\n",
    "\n",
    "line = 0\n",
    "space_rep = 1+ height //2\n",
    "\n",
    "while line < height:\n",
    "    line +=1\n",
    "    space_rep -=1\n",
    "    space_rep_abs = abs(space_rep)\n",
    "    print(' ' * space_rep_abs, '*' *(height-2*space_rep_abs),' ' * space_rep_abs, sep = '')\n",
    "else:\n",
    "    print('please enter an odd number')\n",
    "    \n",
    "    \n",
    "# diamond()"
   ]
  },
  {
   "cell_type": "code",
   "execution_count": null,
   "id": "ce7cb00a-2a77-426d-8c41-14c43ffb0cc4",
   "metadata": {},
   "outputs": [],
   "source": [
    "# Je kan er ook een functie diamond van maken\n",
    "\n",
    "# def diamond hierboven"
   ]
  },
  {
   "cell_type": "code",
   "execution_count": null,
   "id": "17c9b232-1c35-4195-8e49-73c2e25404ef",
   "metadata": {},
   "outputs": [],
   "source": []
  },
  {
   "cell_type": "code",
   "execution_count": null,
   "id": "230f0891-dba1-4664-90ae-a2ae240af532",
   "metadata": {},
   "outputs": [],
   "source": []
  },
  {
   "cell_type": "code",
   "execution_count": 19,
   "id": "0e37330a-1035-4557-ac25-6748bd07143d",
   "metadata": {},
   "outputs": [],
   "source": [
    "import os\n"
   ]
  },
  {
   "cell_type": "code",
   "execution_count": 21,
   "id": "8ecf4231-b136-444f-a23b-022a776d8853",
   "metadata": {},
   "outputs": [
    {
     "data": {
      "text/plain": [
       "'posix'"
      ]
     },
     "execution_count": 21,
     "metadata": {},
     "output_type": "execute_result"
    }
   ],
   "source": [
    "os.name"
   ]
  },
  {
   "cell_type": "code",
   "execution_count": null,
   "id": "92bc8710-940b-40ab-b073-6ffe42c1c859",
   "metadata": {},
   "outputs": [],
   "source": [
    "os.mkdir(os.path.join((\"C:\\\\\", \"MyPythonProject\"))"
   ]
  },
  {
   "cell_type": "code",
   "execution_count": 23,
   "id": "463f8c23-6f6d-4cda-b02b-7343b557159b",
   "metadata": {},
   "outputs": [
    {
     "data": {
      "text/plain": [
       "'/home/pans/MakeAIWork/practica/week1'"
      ]
     },
     "execution_count": 23,
     "metadata": {},
     "output_type": "execute_result"
    }
   ],
   "source": [
    "os.getcwd()"
   ]
  },
  {
   "cell_type": "code",
   "execution_count": null,
   "id": "a33f3a19-b02c-4c96-9b2e-d939605dab63",
   "metadata": {},
   "outputs": [],
   "source": [
    "# In windows krijg je dubbele quotes omdat je escape chars toegevoged krijgt"
   ]
  },
  {
   "cell_type": "code",
   "execution_count": null,
   "id": "3e24cffb-2d16-4d50-a589-793697794fe7",
   "metadata": {},
   "outputs": [],
   "source": [
    "# Je kan ook geen current dir weggooien, dan naar parent en dan de onderliggende dir weggooien."
   ]
  },
  {
   "cell_type": "code",
   "execution_count": 26,
   "id": "fa22c9ac-e494-4b74-b18b-9f0db24400ba",
   "metadata": {},
   "outputs": [
    {
     "data": {
      "text/plain": [
       "['.ipynb_checkpoints',\n",
       " 'week1',\n",
       " 'csv',\n",
       " 'geo',\n",
       " 'week2',\n",
       " 'json',\n",
       " 'week2-copy',\n",
       " 'pics',\n",
       " 'pip']"
      ]
     },
     "execution_count": 26,
     "metadata": {},
     "output_type": "execute_result"
    }
   ],
   "source": [
    "os.listdir(\"../\")"
   ]
  },
  {
   "cell_type": "code",
   "execution_count": 27,
   "id": "821ee836-4663-48ec-a719-55b0b5952eb4",
   "metadata": {},
   "outputs": [
    {
     "data": {
      "text/plain": [
       "'/home/pans/miniconda3/envs/miw/bin:/home/pans/miniconda3/condabin:/usr/local/sbin:/usr/local/bin:/usr/sbin:/usr/bin:/sbin:/bin:/usr/games:/usr/local/games:/snap/bin'"
      ]
     },
     "execution_count": 27,
     "metadata": {},
     "output_type": "execute_result"
    }
   ],
   "source": [
    "os.getenv(\"PATH\")"
   ]
  },
  {
   "cell_type": "code",
   "execution_count": null,
   "id": "5c0b163d-5a27-4315-9f25-2f113e358a9a",
   "metadata": {},
   "outputs": [],
   "source": [
    "os.system('ls')"
   ]
  },
  {
   "cell_type": "code",
   "execution_count": 29,
   "id": "fd0e7c24-37fb-4fc8-8536-170161ca8667",
   "metadata": {},
   "outputs": [
    {
     "name": "stderr",
     "output_type": "stream",
     "text": [
      "/usr/bin/ls: /usr/bin/ls: cannot execute binary file\n"
     ]
    },
    {
     "data": {
      "text/plain": [
       "32256"
      ]
     },
     "execution_count": 29,
     "metadata": {},
     "output_type": "execute_result"
    }
   ],
   "source": [
    "os.system('bash ls')"
   ]
  },
  {
   "cell_type": "code",
   "execution_count": null,
   "id": "6cada559-df73-4910-a5bd-dfdaf014e304",
   "metadata": {},
   "outputs": [],
   "source": [
    "uname -a"
   ]
  },
  {
   "cell_type": "markdown",
   "id": "cfd8aa04-aac6-4b54-8e3a-5af6322cb44b",
   "metadata": {},
   "source": []
  },
  {
   "cell_type": "code",
   "execution_count": null,
   "id": "9a114739-2cc9-4fb0-b992-da184249b8cd",
   "metadata": {},
   "outputs": [],
   "source": []
  }
 ],
 "metadata": {
  "kernelspec": {
   "display_name": "Python 3 (ipykernel)",
   "language": "python",
   "name": "python3"
  },
  "language_info": {
   "codemirror_mode": {
    "name": "ipython",
    "version": 3
   },
   "file_extension": ".py",
   "mimetype": "text/x-python",
   "name": "python",
   "nbconvert_exporter": "python",
   "pygments_lexer": "ipython3",
   "version": "3.10.9"
  }
 },
 "nbformat": 4,
 "nbformat_minor": 5
}
