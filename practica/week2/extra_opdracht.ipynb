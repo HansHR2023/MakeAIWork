{
 "cells": [
  {
   "cell_type": "code",
   "execution_count": null,
   "id": "e8621142-2934-4cf3-a47c-5c3ba39b972d",
   "metadata": {},
   "outputs": [],
   "source": []
  },
  {
   "cell_type": "code",
   "execution_count": null,
   "id": "729ab766-d007-4a82-91e9-1ac032abf44e",
   "metadata": {},
   "outputs": [],
   "source": [
    "https://www.w3schools.com/python/python_classes.asp"
   ]
  },
  {
   "cell_type": "code",
   "execution_count": 1,
   "id": "82f26bc6-b4c6-41ac-999a-79fa5bcbcaae",
   "metadata": {},
   "outputs": [],
   "source": [
    "class Person:\n",
    "    def __init__(self, name, age):\n",
    "        self.name = name\n",
    "        self.age = age\n",
    "        \n",
    "    def __str__(self):\n",
    "        return f\"{self.name}({self.age})\"\n",
    "        \n"
   ]
  },
  {
   "cell_type": "code",
   "execution_count": 2,
   "id": "896f50a7-1b9a-456a-b4ac-1c3bba46eca9",
   "metadata": {},
   "outputs": [
    {
     "name": "stdout",
     "output_type": "stream",
     "text": [
      "John(36)\n"
     ]
    }
   ],
   "source": [
    "p1 = Person('John', 36)\n",
    "\n",
    "# print(p1.name)\n",
    "# print(p1.age)\n",
    "\n",
    "print(p1)"
   ]
  },
  {
   "cell_type": "code",
   "execution_count": 4,
   "id": "767c7471-c7ce-4832-b7e9-fc0169e214d6",
   "metadata": {},
   "outputs": [],
   "source": [
    "class Person:\n",
    "    def __init__(self, name, age):\n",
    "        self.name = name\n",
    "        self.age = age\n",
    "        \n",
    "    def my_func(self):\n",
    "        print('Hello, my name is ' + self.name)\n",
    "        "
   ]
  },
  {
   "cell_type": "code",
   "execution_count": 5,
   "id": "e62247c6-80ed-4ce1-ba0e-4623d4f33a81",
   "metadata": {},
   "outputs": [
    {
     "name": "stdout",
     "output_type": "stream",
     "text": [
      "Hello, my name is John\n"
     ]
    }
   ],
   "source": [
    "p1 = Person('John', 36)\n",
    "\n",
    "p1.my_func()"
   ]
  },
  {
   "cell_type": "code",
   "execution_count": 6,
   "id": "131286f3-636b-4da6-86cc-6e72c3b684f5",
   "metadata": {},
   "outputs": [],
   "source": [
    "class Person:\n",
    "    def __init__(myObject, name, age):\n",
    "        myObject.name = name\n",
    "        myObject.age = age\n",
    "        \n",
    "    def myFunc(abc):\n",
    "        print('Hello, my name is ' + abc.name)\n",
    "            "
   ]
  },
  {
   "cell_type": "code",
   "execution_count": 21,
   "id": "bc1860ae-9041-4800-a0c2-889dcfbab3d4",
   "metadata": {},
   "outputs": [
    {
     "name": "stdout",
     "output_type": "stream",
     "text": [
      "Hello, my name is John\n",
      "None\n"
     ]
    }
   ],
   "source": [
    "p1 = Person('John', 36)\n",
    "            \n",
    "print(p1.myFunc())"
   ]
  },
  {
   "cell_type": "code",
   "execution_count": 24,
   "id": "af252e6c-fbbd-47c8-9b98-e87649c051bd",
   "metadata": {},
   "outputs": [
    {
     "data": {
      "text/plain": [
       "40"
      ]
     },
     "execution_count": 24,
     "metadata": {},
     "output_type": "execute_result"
    }
   ],
   "source": [
    "p1.age = 40\n",
    "p1.age"
   ]
  },
  {
   "cell_type": "code",
   "execution_count": 25,
   "id": "af967215-7213-4167-a366-7c86719aaba9",
   "metadata": {},
   "outputs": [],
   "source": [
    "class Person:\n",
    "    pass"
   ]
  },
  {
   "cell_type": "code",
   "execution_count": 30,
   "id": "99c856f6-5bcd-417e-9c8b-11172a0753ec",
   "metadata": {},
   "outputs": [],
   "source": [
    "class Person:\n",
    "    def __init__(self, fname, lname):\n",
    "        self.firstname = fname\n",
    "        self.lastname = lname\n",
    "        \n",
    "    def printname(self):\n",
    "        print(self.firstname, self.lastname)\n",
    "        "
   ]
  },
  {
   "cell_type": "code",
   "execution_count": 31,
   "id": "fa85ea1b-8e50-4097-aaab-0f1c0eccd813",
   "metadata": {},
   "outputs": [
    {
     "name": "stdout",
     "output_type": "stream",
     "text": [
      "John Doe\n"
     ]
    }
   ],
   "source": [
    "x = Person('John', 'Doe')\n",
    "x.printname()"
   ]
  },
  {
   "cell_type": "code",
   "execution_count": null,
   "id": "83a99793-1042-43fe-8d1f-4331037bcfa7",
   "metadata": {},
   "outputs": [],
   "source": []
  },
  {
   "cell_type": "code",
   "execution_count": null,
   "id": "304ae872-b994-433c-b60c-6d64c5fddc9c",
   "metadata": {},
   "outputs": [],
   "source": []
  },
  {
   "cell_type": "code",
   "execution_count": null,
   "id": "1b919510-7f9c-438f-bca2-36e86bd4b5ce",
   "metadata": {},
   "outputs": [],
   "source": [
    "https://docs.python.org/3/library/dataclasses.html?highlight=dataclasses#module-dataclasses"
   ]
  },
  {
   "cell_type": "markdown",
   "id": "428dc74d-b747-49bc-a992-bf989c6c74ad",
   "metadata": {},
   "source": [
    "Maak een dataclass marslander aan\n",
    "\n",
    "marslander.py\n"
   ]
  },
  {
   "cell_type": "code",
   "execution_count": 18,
   "id": "88afeea8-2b66-4530-b2c7-25f501410d00",
   "metadata": {},
   "outputs": [],
   "source": [
    "# from dataclasses import dataclasses\n",
    "# dit werkt niet\n",
    "\n",
    "from dataclasses import dataclass\n"
   ]
  },
  {
   "cell_type": "code",
   "execution_count": 21,
   "id": "0026e6d0-b4bf-461a-b5f9-abf0afb701b9",
   "metadata": {},
   "outputs": [
    {
     "ename": "SyntaxError",
     "evalue": "incomplete input (1239029123.py, line 2)",
     "output_type": "error",
     "traceback": [
      "\u001b[0;36m  Cell \u001b[0;32mIn[21], line 2\u001b[0;36m\u001b[0m\n\u001b[0;31m    class dataclass:\u001b[0m\n\u001b[0m                    ^\u001b[0m\n\u001b[0;31mSyntaxError\u001b[0m\u001b[0;31m:\u001b[0m incomplete input\n"
     ]
    }
   ],
   "source": [
    "@dataclass\n",
    "class dataclass:"
   ]
  },
  {
   "cell_type": "code",
   "execution_count": null,
   "id": "c43cf71a-26fd-43d9-a908-92b877e8beff",
   "metadata": {},
   "outputs": [],
   "source": [
    "@dataclass\n",
    "class InventoryItem:\n",
    "    \"\"\"Class for keeping track of an item in inventory.\"\"\"\n",
    "    name: str\n",
    "    unit_price: float\n",
    "    quantity_on_hand: int = 0\n",
    "\n",
    "    def total_cost(self) -> float:\n",
    "        return self.unit_price * self.quantity_on_hand"
   ]
  },
  {
   "cell_type": "code",
   "execution_count": null,
   "id": "3db96cb5-57da-4b45-9c44-6b757748eb7a",
   "metadata": {},
   "outputs": [],
   "source": [
    "def __init__(self, name: str, unit_price: float, quantity_on_hand: int = 0):\n",
    "    self.name = name\n",
    "    self.unit_price = unit_price\n",
    "    self.quantity_on_hand = quantity_on_hand"
   ]
  },
  {
   "cell_type": "code",
   "execution_count": null,
   "id": "e1a3a157-4696-4ef3-9d97-4ed75d76c55d",
   "metadata": {},
   "outputs": [],
   "source": [
    "\n",
    "\n",
    "\n",
    "\n",
    "from dataclasses import dataclass, fields\n",
    "\n",
    "\n",
    "@dataclass\n",
    "class Marslander:\n",
    "    length: int\n",
    "    width: float\n",
    "    weight: int\n",
    "    deckHeight: int\n",
    "    robotArmLength: float\n",
    "    numberOfSolarPanels: int\n",
    "    \n",
    "    "
   ]
  },
  {
   "cell_type": "code",
   "execution_count": null,
   "id": "94290a27-83ba-4951-aefd-38a4a121f965",
   "metadata": {},
   "outputs": [],
   "source": [
    "from marslander imprt Marslander"
   ]
  },
  {
   "cell_type": "code",
   "execution_count": null,
   "id": "d391d49a-3f82-4919-9dea-14059f1a5c3f",
   "metadata": {},
   "outputs": [],
   "source": [
    "want er is een marslander.py met class Marslander"
   ]
  },
  {
   "cell_type": "code",
   "execution_count": null,
   "id": "3286762f-e4e8-417d-b450-f66f06b46250",
   "metadata": {},
   "outputs": [],
   "source": [
    "daar kan je objecten mee genereren"
   ]
  },
  {
   "cell_type": "code",
   "execution_count": null,
   "id": "aa523095-1f38-4bac-82e1-a9282834c2e4",
   "metadata": {},
   "outputs": [],
   "source": [
    "marslander = Marslander(marslanderSpecs.get('height')\n",
    "                        \n",
    "print(marslanderSecs.height)"
   ]
  },
  {
   "cell_type": "code",
   "execution_count": null,
   "id": "6d1fe2ac-9a62-49bd-b099-bc6600fb5cbf",
   "metadata": {},
   "outputs": [],
   "source": []
  },
  {
   "cell_type": "code",
   "execution_count": null,
   "id": "24ad9e67-4069-42cd-9a49-3f9be2b5a836",
   "metadata": {},
   "outputs": [],
   "source": []
  },
  {
   "cell_type": "code",
   "execution_count": null,
   "id": "6d12648d-d4e0-49ec-a2e9-df33e0be54e0",
   "metadata": {},
   "outputs": [],
   "source": [
    "class Marslander:\n",
    "    def __init__(self, length, weight, height):\n",
    "        self.length = length\n",
    "        self.weight = weight\n",
    "        self.height = height\n",
    "        \n",
    "    def __str__(self):\n",
    "        return self.length * self.height\n",
    "    \n",
    "    def __main__()\n",
    "        pass\n",
    "    \n",
    "    if __name__ == main():\n",
    "        main()\n",
    "        \n",
    "        "
   ]
  },
  {
   "cell_type": "code",
   "execution_count": null,
   "id": "c74f3e01-94a7-4280-8601-533765bddadc",
   "metadata": {},
   "outputs": [],
   "source": [
    "#bovenstaande code maar nu met kwargs\n",
    "\n",
    "class Marslander:\n",
    "    def __init__(self, **kwargs):\n",
    "        self.length = kwargs['length']\n",
    "        self.weight = kwargs['weight']\n",
    "        self.height = kwargs['height']\n",
    "        \n",
    "    def __str__(self):\n",
    "        return self.length * self.height\n",
    "    \n",
    "    def __main__()\n",
    "        pass\n",
    "    \n",
    "    if __name__ == main():\n",
    "        main()"
   ]
  },
  {
   "cell_type": "code",
   "execution_count": null,
   "id": "167b5cbf-2e29-406e-9eae-ba81a1733239",
   "metadata": {},
   "outputs": [],
   "source": [
    "# je kan ipv **kwargs ook een valDict erin zetten"
   ]
  },
  {
   "cell_type": "markdown",
   "id": "e7705983-5579-4f0e-a49e-7132faccd1de",
   "metadata": {},
   "source": [
    "print(sorted(marslanderList)) geeft foutmelding omdat je tegen python nogniet hebt verteld hoe die moet sorteren."
   ]
  },
  {
   "cell_type": "code",
   "execution_count": null,
   "id": "a7fca8cc-9067-41f7-bd55-8dc6a3b48e42",
   "metadata": {},
   "outputs": [],
   "source": [
    "in je class :\n",
    "    def __eq__(self, other):\n",
    "        if self.length > other.length:\n",
    "            return array_eq(self, Marslander)"
   ]
  }
 ],
 "metadata": {
  "kernelspec": {
   "display_name": "Python 3 (ipykernel)",
   "language": "python",
   "name": "python3"
  },
  "language_info": {
   "codemirror_mode": {
    "name": "ipython",
    "version": 3
   },
   "file_extension": ".py",
   "mimetype": "text/x-python",
   "name": "python",
   "nbconvert_exporter": "python",
   "pygments_lexer": "ipython3",
   "version": "3.10.9"
  }
 },
 "nbformat": 4,
 "nbformat_minor": 5
}
