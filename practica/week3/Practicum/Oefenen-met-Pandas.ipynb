{
 "cells": [
  {
   "cell_type": "markdown",
   "id": "6ab111a7",
   "metadata": {},
   "source": [
    "# Oefenen met Pandas"
   ]
  },
  {
   "attachments": {
    "konfu.jpg": {
     "image/jpeg": "[encoded data removed]"
    }
   },
   "cell_type": "markdown",
   "id": "95e31da6",
   "metadata": {},
   "source": [
    "![konfu.jpg](attachment:konfu.jpg)"
   ]
  },
  {
   "cell_type": "markdown",
   "id": "3cd380a6",
   "metadata": {},
   "source": [
    "## Bron"
   ]
  },
  {
   "cell_type": "markdown",
   "id": "1738764d",
   "metadata": {},
   "source": [
    "De Comodity Prices dataset komt van Kaggle:\n",
    "\n",
    "https://www.kaggle.com/datasets/elmoallistair/commodity-prices-19602021"
   ]
  },
  {
   "cell_type": "markdown",
   "id": "fbd7b9a4",
   "metadata": {},
   "source": [
    "## Beschrijving"
   ]
  },
  {
   "cell_type": "markdown",
   "id": "4d27c03e",
   "metadata": {},
   "source": [
    "De dataset bevat de gemiddelde jaarprijs van **30** grondstoffen tussen **1960-2021**."
   ]
  },
  {
   "cell_type": "markdown",
   "id": "34782382",
   "metadata": {},
   "source": [
    "## Opdracht 1: inlezen"
   ]
  },
  {
   "cell_type": "markdown",
   "id": "2c32094c",
   "metadata": {},
   "source": [
    "Lees de Comodity Prices dataset in."
   ]
  },
  {
   "cell_type": "code",
   "execution_count": 129,
   "id": "89b76579-1f44-426c-a1f6-6c1e93d51673",
   "metadata": {},
   "outputs": [],
   "source": [
    "import pandas as pd\n",
    "import matplotlib.pyplot as plt"
   ]
  },
  {
   "cell_type": "code",
   "execution_count": 9,
   "id": "e8243116",
   "metadata": {},
   "outputs": [
    {
     "data": {
      "text/html": [
       "<div>\n",
       "<style scoped>\n",
       "    .dataframe tbody tr th:only-of-type {\n",
       "        vertical-align: middle;\n",
       "    }\n",
       "\n",
       "    .dataframe tbody tr th {\n",
       "        vertical-align: top;\n",
       "    }\n",
       "\n",
       "    .dataframe thead th {\n",
       "        text-align: right;\n",
       "    }\n",
       "</style>\n",
       "<table border=\"1\" class=\"dataframe\">\n",
       "  <thead>\n",
       "    <tr style=\"text-align: right;\">\n",
       "      <th></th>\n",
       "      <th>Year</th>\n",
       "      <th>Cocoa</th>\n",
       "      <th>Coffee</th>\n",
       "      <th>Tea</th>\n",
       "      <th>Crude Oil</th>\n",
       "      <th>Coal</th>\n",
       "      <th>Natural Gas</th>\n",
       "      <th>Banana</th>\n",
       "      <th>Sugar</th>\n",
       "      <th>Orange</th>\n",
       "      <th>...</th>\n",
       "      <th>Silver</th>\n",
       "      <th>Cotton</th>\n",
       "      <th>Rubber</th>\n",
       "      <th>Tobacco</th>\n",
       "      <th>Coconut Oil</th>\n",
       "      <th>Groundnut Oil</th>\n",
       "      <th>Palm Oil</th>\n",
       "      <th>Soybean</th>\n",
       "      <th>Logs</th>\n",
       "      <th>Sawnwood</th>\n",
       "    </tr>\n",
       "  </thead>\n",
       "  <tbody>\n",
       "    <tr>\n",
       "      <th>0</th>\n",
       "      <td>1960</td>\n",
       "      <td>0.59</td>\n",
       "      <td>0.92</td>\n",
       "      <td>1.03</td>\n",
       "      <td>1.63</td>\n",
       "      <td>NaN</td>\n",
       "      <td>0.14</td>\n",
       "      <td>0.14</td>\n",
       "      <td>0.07</td>\n",
       "      <td>0.13</td>\n",
       "      <td>...</td>\n",
       "      <td>0.91</td>\n",
       "      <td>0.65</td>\n",
       "      <td>0.78</td>\n",
       "      <td>1736.87</td>\n",
       "      <td>312.33</td>\n",
       "      <td>327.00</td>\n",
       "      <td>224.42</td>\n",
       "      <td>223.92</td>\n",
       "      <td>31.94</td>\n",
       "      <td>149.17</td>\n",
       "    </tr>\n",
       "    <tr>\n",
       "      <th>1</th>\n",
       "      <td>1961</td>\n",
       "      <td>0.48</td>\n",
       "      <td>0.90</td>\n",
       "      <td>0.95</td>\n",
       "      <td>1.57</td>\n",
       "      <td>NaN</td>\n",
       "      <td>0.15</td>\n",
       "      <td>0.13</td>\n",
       "      <td>0.06</td>\n",
       "      <td>0.13</td>\n",
       "      <td>...</td>\n",
       "      <td>0.92</td>\n",
       "      <td>0.67</td>\n",
       "      <td>0.60</td>\n",
       "      <td>1563.19</td>\n",
       "      <td>253.42</td>\n",
       "      <td>330.25</td>\n",
       "      <td>228.42</td>\n",
       "      <td>287.33</td>\n",
       "      <td>33.06</td>\n",
       "      <td>151.98</td>\n",
       "    </tr>\n",
       "    <tr>\n",
       "      <th>2</th>\n",
       "      <td>1962</td>\n",
       "      <td>0.46</td>\n",
       "      <td>0.83</td>\n",
       "      <td>0.97</td>\n",
       "      <td>1.52</td>\n",
       "      <td>NaN</td>\n",
       "      <td>0.16</td>\n",
       "      <td>0.13</td>\n",
       "      <td>0.06</td>\n",
       "      <td>0.11</td>\n",
       "      <td>...</td>\n",
       "      <td>1.08</td>\n",
       "      <td>0.65</td>\n",
       "      <td>0.56</td>\n",
       "      <td>1404.90</td>\n",
       "      <td>251.22</td>\n",
       "      <td>274.34</td>\n",
       "      <td>216.24</td>\n",
       "      <td>227.00</td>\n",
       "      <td>36.39</td>\n",
       "      <td>160.06</td>\n",
       "    </tr>\n",
       "    <tr>\n",
       "      <th>3</th>\n",
       "      <td>1963</td>\n",
       "      <td>0.55</td>\n",
       "      <td>0.81</td>\n",
       "      <td>0.95</td>\n",
       "      <td>1.50</td>\n",
       "      <td>NaN</td>\n",
       "      <td>0.16</td>\n",
       "      <td>0.14</td>\n",
       "      <td>0.18</td>\n",
       "      <td>0.09</td>\n",
       "      <td>...</td>\n",
       "      <td>1.28</td>\n",
       "      <td>0.65</td>\n",
       "      <td>0.52</td>\n",
       "      <td>1343.61</td>\n",
       "      <td>286.33</td>\n",
       "      <td>268.50</td>\n",
       "      <td>222.39</td>\n",
       "      <td>223.58</td>\n",
       "      <td>35.49</td>\n",
       "      <td>157.85</td>\n",
       "    </tr>\n",
       "    <tr>\n",
       "      <th>4</th>\n",
       "      <td>1964</td>\n",
       "      <td>0.51</td>\n",
       "      <td>1.01</td>\n",
       "      <td>0.93</td>\n",
       "      <td>1.45</td>\n",
       "      <td>NaN</td>\n",
       "      <td>0.15</td>\n",
       "      <td>0.17</td>\n",
       "      <td>0.13</td>\n",
       "      <td>0.08</td>\n",
       "      <td>...</td>\n",
       "      <td>1.29</td>\n",
       "      <td>0.65</td>\n",
       "      <td>0.49</td>\n",
       "      <td>1488.30</td>\n",
       "      <td>296.48</td>\n",
       "      <td>315.38</td>\n",
       "      <td>239.45</td>\n",
       "      <td>233.00</td>\n",
       "      <td>30.26</td>\n",
       "      <td>144.83</td>\n",
       "    </tr>\n",
       "    <tr>\n",
       "      <th>...</th>\n",
       "      <td>...</td>\n",
       "      <td>...</td>\n",
       "      <td>...</td>\n",
       "      <td>...</td>\n",
       "      <td>...</td>\n",
       "      <td>...</td>\n",
       "      <td>...</td>\n",
       "      <td>...</td>\n",
       "      <td>...</td>\n",
       "      <td>...</td>\n",
       "      <td>...</td>\n",
       "      <td>...</td>\n",
       "      <td>...</td>\n",
       "      <td>...</td>\n",
       "      <td>...</td>\n",
       "      <td>...</td>\n",
       "      <td>...</td>\n",
       "      <td>...</td>\n",
       "      <td>...</td>\n",
       "      <td>...</td>\n",
       "      <td>...</td>\n",
       "    </tr>\n",
       "    <tr>\n",
       "      <th>57</th>\n",
       "      <td>2017</td>\n",
       "      <td>2.03</td>\n",
       "      <td>3.32</td>\n",
       "      <td>3.15</td>\n",
       "      <td>52.81</td>\n",
       "      <td>88.52</td>\n",
       "      <td>2.96</td>\n",
       "      <td>1.08</td>\n",
       "      <td>0.35</td>\n",
       "      <td>0.81</td>\n",
       "      <td>...</td>\n",
       "      <td>17.07</td>\n",
       "      <td>1.84</td>\n",
       "      <td>2.00</td>\n",
       "      <td>4627.36</td>\n",
       "      <td>1650.65</td>\n",
       "      <td>1460.79</td>\n",
       "      <td>750.81</td>\n",
       "      <td>850.40</td>\n",
       "      <td>265.43</td>\n",
       "      <td>702.11</td>\n",
       "    </tr>\n",
       "    <tr>\n",
       "      <th>58</th>\n",
       "      <td>2018</td>\n",
       "      <td>2.29</td>\n",
       "      <td>2.93</td>\n",
       "      <td>2.85</td>\n",
       "      <td>68.35</td>\n",
       "      <td>107.02</td>\n",
       "      <td>3.16</td>\n",
       "      <td>1.15</td>\n",
       "      <td>0.28</td>\n",
       "      <td>0.79</td>\n",
       "      <td>...</td>\n",
       "      <td>15.71</td>\n",
       "      <td>2.01</td>\n",
       "      <td>1.57</td>\n",
       "      <td>4865.96</td>\n",
       "      <td>996.77</td>\n",
       "      <td>1446.05</td>\n",
       "      <td>638.66</td>\n",
       "      <td>789.12</td>\n",
       "      <td>269.70</td>\n",
       "      <td>727.94</td>\n",
       "    </tr>\n",
       "    <tr>\n",
       "      <th>59</th>\n",
       "      <td>2019</td>\n",
       "      <td>2.34</td>\n",
       "      <td>2.88</td>\n",
       "      <td>2.56</td>\n",
       "      <td>61.41</td>\n",
       "      <td>77.89</td>\n",
       "      <td>2.57</td>\n",
       "      <td>1.14</td>\n",
       "      <td>0.28</td>\n",
       "      <td>0.56</td>\n",
       "      <td>...</td>\n",
       "      <td>16.22</td>\n",
       "      <td>1.72</td>\n",
       "      <td>1.64</td>\n",
       "      <td>4579.36</td>\n",
       "      <td>735.65</td>\n",
       "      <td>1407.37</td>\n",
       "      <td>601.37</td>\n",
       "      <td>765.44</td>\n",
       "      <td>273.10</td>\n",
       "      <td>695.89</td>\n",
       "    </tr>\n",
       "    <tr>\n",
       "      <th>60</th>\n",
       "      <td>2020</td>\n",
       "      <td>2.37</td>\n",
       "      <td>3.32</td>\n",
       "      <td>2.70</td>\n",
       "      <td>41.26</td>\n",
       "      <td>60.79</td>\n",
       "      <td>2.01</td>\n",
       "      <td>1.22</td>\n",
       "      <td>0.28</td>\n",
       "      <td>0.60</td>\n",
       "      <td>...</td>\n",
       "      <td>20.54</td>\n",
       "      <td>1.59</td>\n",
       "      <td>1.73</td>\n",
       "      <td>4336.28</td>\n",
       "      <td>1010.40</td>\n",
       "      <td>1697.81</td>\n",
       "      <td>751.77</td>\n",
       "      <td>837.76</td>\n",
       "      <td>278.94</td>\n",
       "      <td>699.71</td>\n",
       "    </tr>\n",
       "    <tr>\n",
       "      <th>61</th>\n",
       "      <td>2021</td>\n",
       "      <td>2.43</td>\n",
       "      <td>4.51</td>\n",
       "      <td>2.69</td>\n",
       "      <td>69.07</td>\n",
       "      <td>138.05</td>\n",
       "      <td>3.85</td>\n",
       "      <td>1.21</td>\n",
       "      <td>0.39</td>\n",
       "      <td>0.65</td>\n",
       "      <td>...</td>\n",
       "      <td>25.16</td>\n",
       "      <td>2.23</td>\n",
       "      <td>2.07</td>\n",
       "      <td>4154.74</td>\n",
       "      <td>1636.31</td>\n",
       "      <td>2075.09</td>\n",
       "      <td>1130.58</td>\n",
       "      <td>1385.41</td>\n",
       "      <td>271.35</td>\n",
       "      <td>749.95</td>\n",
       "    </tr>\n",
       "  </tbody>\n",
       "</table>\n",
       "<p>62 rows × 31 columns</p>\n",
       "</div>"
      ],
      "text/plain": [
       "    Year  Cocoa  Coffee   Tea  Crude Oil    Coal  Natural Gas  Banana  Sugar  \\\n",
       "0   1960   0.59    0.92  1.03       1.63     NaN         0.14    0.14   0.07   \n",
       "1   1961   0.48    0.90  0.95       1.57     NaN         0.15    0.13   0.06   \n",
       "2   1962   0.46    0.83  0.97       1.52     NaN         0.16    0.13   0.06   \n",
       "3   1963   0.55    0.81  0.95       1.50     NaN         0.16    0.14   0.18   \n",
       "4   1964   0.51    1.01  0.93       1.45     NaN         0.15    0.17   0.13   \n",
       "..   ...    ...     ...   ...        ...     ...          ...     ...    ...   \n",
       "57  2017   2.03    3.32  3.15      52.81   88.52         2.96    1.08   0.35   \n",
       "58  2018   2.29    2.93  2.85      68.35  107.02         3.16    1.15   0.28   \n",
       "59  2019   2.34    2.88  2.56      61.41   77.89         2.57    1.14   0.28   \n",
       "60  2020   2.37    3.32  2.70      41.26   60.79         2.01    1.22   0.28   \n",
       "61  2021   2.43    4.51  2.69      69.07  138.05         3.85    1.21   0.39   \n",
       "\n",
       "    Orange  ...  Silver  Cotton  Rubber  Tobacco  Coconut Oil  Groundnut Oil  \\\n",
       "0     0.13  ...    0.91    0.65    0.78  1736.87       312.33         327.00   \n",
       "1     0.13  ...    0.92    0.67    0.60  1563.19       253.42         330.25   \n",
       "2     0.11  ...    1.08    0.65    0.56  1404.90       251.22         274.34   \n",
       "3     0.09  ...    1.28    0.65    0.52  1343.61       286.33         268.50   \n",
       "4     0.08  ...    1.29    0.65    0.49  1488.30       296.48         315.38   \n",
       "..     ...  ...     ...     ...     ...      ...          ...            ...   \n",
       "57    0.81  ...   17.07    1.84    2.00  4627.36      1650.65        1460.79   \n",
       "58    0.79  ...   15.71    2.01    1.57  4865.96       996.77        1446.05   \n",
       "59    0.56  ...   16.22    1.72    1.64  4579.36       735.65        1407.37   \n",
       "60    0.60  ...   20.54    1.59    1.73  4336.28      1010.40        1697.81   \n",
       "61    0.65  ...   25.16    2.23    2.07  4154.74      1636.31        2075.09   \n",
       "\n",
       "    Palm Oil  Soybean    Logs  Sawnwood  \n",
       "0     224.42   223.92   31.94    149.17  \n",
       "1     228.42   287.33   33.06    151.98  \n",
       "2     216.24   227.00   36.39    160.06  \n",
       "3     222.39   223.58   35.49    157.85  \n",
       "4     239.45   233.00   30.26    144.83  \n",
       "..       ...      ...     ...       ...  \n",
       "57    750.81   850.40  265.43    702.11  \n",
       "58    638.66   789.12  269.70    727.94  \n",
       "59    601.37   765.44  273.10    695.89  \n",
       "60    751.77   837.76  278.94    699.71  \n",
       "61   1130.58  1385.41  271.35    749.95  \n",
       "\n",
       "[62 rows x 31 columns]"
      ]
     },
     "metadata": {},
     "output_type": "display_data"
    }
   ],
   "source": [
    "# Read csv file\n",
    "\n",
    "df = pd.read_csv('data/commodity_prices.csv')\n",
    "\n",
    "display(df)"
   ]
  },
  {
   "cell_type": "markdown",
   "id": "7a177b3b",
   "metadata": {},
   "source": [
    "## Opdracht 2: exploreren"
   ]
  },
  {
   "cell_type": "markdown",
   "id": "c9df9ad1",
   "metadata": {},
   "source": [
    "Welke kolommen bevat deze dataset?"
   ]
  },
  {
   "cell_type": "code",
   "execution_count": 10,
   "id": "85548535",
   "metadata": {},
   "outputs": [
    {
     "data": {
      "text/plain": [
       "Index(['Year', 'Cocoa', 'Coffee', 'Tea', 'Crude Oil', 'Coal', 'Natural Gas',\n",
       "       'Banana', 'Sugar', 'Orange', 'Barley', 'Maize', 'Sorghum', 'Rice',\n",
       "       'Wheat', 'Beef', 'Chicken', 'Lamb', 'Shrimps', 'Gold', 'Platinum',\n",
       "       'Silver', 'Cotton', 'Rubber', 'Tobacco', 'Coconut Oil', 'Groundnut Oil',\n",
       "       'Palm Oil', 'Soybean', 'Logs', 'Sawnwood'],\n",
       "      dtype='object')"
      ]
     },
     "execution_count": 10,
     "metadata": {},
     "output_type": "execute_result"
    }
   ],
   "source": [
    "# Print info\n",
    "\n",
    "df.columns"
   ]
  },
  {
   "cell_type": "markdown",
   "id": "3422b46b",
   "metadata": {},
   "source": [
    "Welk datatype heeft elke kolom?"
   ]
  },
  {
   "cell_type": "code",
   "execution_count": 17,
   "id": "f2109393",
   "metadata": {},
   "outputs": [
    {
     "data": {
      "text/plain": [
       "Year               int64\n",
       "Cocoa            float64\n",
       "Coffee           float64\n",
       "Tea              float64\n",
       "Crude Oil        float64\n",
       "Coal             float64\n",
       "Natural Gas      float64\n",
       "Banana           float64\n",
       "Sugar            float64\n",
       "Orange           float64\n",
       "Barley           float64\n",
       "Maize            float64\n",
       "Sorghum          float64\n",
       "Rice             float64\n",
       "Wheat            float64\n",
       "Beef             float64\n",
       "Chicken          float64\n",
       "Lamb             float64\n",
       "Shrimps          float64\n",
       "Gold             float64\n",
       "Platinum         float64\n",
       "Silver           float64\n",
       "Cotton           float64\n",
       "Rubber           float64\n",
       "Tobacco          float64\n",
       "Coconut Oil      float64\n",
       "Groundnut Oil    float64\n",
       "Palm Oil         float64\n",
       "Soybean          float64\n",
       "Logs             float64\n",
       "Sawnwood         float64\n",
       "dtype: object"
      ]
     },
     "execution_count": 17,
     "metadata": {},
     "output_type": "execute_result"
    }
   ],
   "source": [
    "# Beschrijf datatype\n",
    "\n",
    "type(df.columns)\n",
    "\n",
    "df.dtypes"
   ]
  },
  {
   "cell_type": "markdown",
   "id": "6a0b4d2b",
   "metadata": {},
   "source": [
    "Wat is de gemiddelde prijs voor ruwe olie over de jaren?"
   ]
  },
  {
   "cell_type": "code",
   "execution_count": 89,
   "id": "c12adf9b",
   "metadata": {},
   "outputs": [
    {
     "data": {
      "text/html": [
       "<div>\n",
       "<style scoped>\n",
       "    .dataframe tbody tr th:only-of-type {\n",
       "        vertical-align: middle;\n",
       "    }\n",
       "\n",
       "    .dataframe tbody tr th {\n",
       "        vertical-align: top;\n",
       "    }\n",
       "\n",
       "    .dataframe thead th {\n",
       "        text-align: right;\n",
       "    }\n",
       "</style>\n",
       "<table border=\"1\" class=\"dataframe\">\n",
       "  <thead>\n",
       "    <tr style=\"text-align: right;\">\n",
       "      <th></th>\n",
       "      <th>Year</th>\n",
       "      <th>Cocoa</th>\n",
       "      <th>Coffee</th>\n",
       "      <th>Tea</th>\n",
       "      <th>Crude Oil</th>\n",
       "      <th>Coal</th>\n",
       "      <th>Natural Gas</th>\n",
       "      <th>Banana</th>\n",
       "      <th>Sugar</th>\n",
       "      <th>Orange</th>\n",
       "      <th>...</th>\n",
       "      <th>Silver</th>\n",
       "      <th>Cotton</th>\n",
       "      <th>Rubber</th>\n",
       "      <th>Tobacco</th>\n",
       "      <th>Coconut Oil</th>\n",
       "      <th>Groundnut Oil</th>\n",
       "      <th>Palm Oil</th>\n",
       "      <th>Soybean</th>\n",
       "      <th>Logs</th>\n",
       "      <th>Sawnwood</th>\n",
       "    </tr>\n",
       "  </thead>\n",
       "  <tbody>\n",
       "  </tbody>\n",
       "</table>\n",
       "<p>0 rows × 31 columns</p>\n",
       "</div>"
      ],
      "text/plain": [
       "Empty DataFrame\n",
       "Columns: [Year, Cocoa, Coffee, Tea, Crude Oil, Coal, Natural Gas, Banana, Sugar, Orange, Barley, Maize, Sorghum, Rice, Wheat, Beef, Chicken, Lamb, Shrimps, Gold, Platinum, Silver, Cotton, Rubber, Tobacco, Coconut Oil, Groundnut Oil, Palm Oil, Soybean, Logs, Sawnwood]\n",
       "Index: []\n",
       "\n",
       "[0 rows x 31 columns]"
      ]
     },
     "metadata": {},
     "output_type": "display_data"
    },
    {
     "data": {
      "text/plain": [
       "30.89145161290322"
      ]
     },
     "metadata": {},
     "output_type": "display_data"
    }
   ],
   "source": [
    "# Zoek in de Pandas documentatie een geschikte functie\n",
    "# Hint: https://pandas.pydata.org/docs/reference/series.html\n",
    "\n",
    "# https://pandas.pydata.org/pandas-docs/stable/reference/api/pandas.Series.mean.html\n",
    "\n",
    "# Voer deze functie uit op het veld 'Crude Oil' en print het resultaat\n",
    "\n",
    "display(df[df['Crude Oil'].isna()])\n",
    "\n",
    "display(df['Crude Oil'].mean())"
   ]
  },
  {
   "cell_type": "markdown",
   "id": "488685d1",
   "metadata": {},
   "source": [
    "Wanneer was de olieprijs op zijn hoogst? En op zijn laagst?"
   ]
  },
  {
   "cell_type": "code",
   "execution_count": 44,
   "id": "05562833",
   "metadata": {},
   "outputs": [
    {
     "name": "stdout",
     "output_type": "stream",
     "text": [
      "105.01\n",
      "1.21\n",
      "\n",
      "2012\n",
      "1970\n"
     ]
    }
   ],
   "source": [
    "# Print highest and lowest price\n",
    "\n",
    "print(df['Crude Oil'].max())\n",
    "print(df['Crude Oil'].min())\n",
    "\n",
    "# Print het jaar van de hoogste en laagste prijs\n",
    "\n",
    "print()\n",
    "\n",
    "print(df['Year'][df['Crude Oil'] == 105.01].values[0])\n",
    "print(df['Year'][df['Crude Oil'] == 1.21].values[0])\n"
   ]
  },
  {
   "cell_type": "markdown",
   "id": "3d8c2c21",
   "metadata": {},
   "source": [
    "Net als SQL kan Pandas ook queries uitvoeren en filteren.\n",
    "\n",
    "Zoek alle jaren waarin de olieprijs tussen 50 en 80 dollar was."
   ]
  },
  {
   "cell_type": "code",
   "execution_count": 109,
   "id": "94b759e4",
   "metadata": {},
   "outputs": [
    {
     "data": {
      "text/plain": [
       "45    2005\n",
       "46    2006\n",
       "47    2007\n",
       "48    2008\n",
       "49    2009\n",
       "      ... \n",
       "57    2017\n",
       "58    2018\n",
       "59    2019\n",
       "60    2020\n",
       "61    2021\n",
       "Name: Year, Length: 72, dtype: int64"
      ]
     },
     "metadata": {},
     "output_type": "display_data"
    }
   ],
   "source": [
    "# Hint: filter jaren waar de prijs tussen 50 en 80 was\n",
    "\n",
    "# 1 : met een query en dat werkt alleen door een backtric te gebruiken (linksboven op het toetsenbord)\n",
    "df3 = df.query('`Crude Oil` > 50 and `Crude Oil` < 80')\n",
    "\n",
    "\n",
    "# 2: een join kan alleen in een dataframe, maar voor Series bestaat concat\n",
    "\n",
    "df1 = df['Year'][df['Crude Oil'] > 50]\n",
    "\n",
    "df2 = df['Year'][df['Crude Oil'] < 80]\n",
    "\n",
    "df4 = pd.concat([df1, df2], axis=0)\n",
    "\n",
    "display(df4)\n",
    "\n",
    "# 3: met & want and werkt hier niet\n",
    "\n",
    "df5 = df['Year'][df['Crude Oil'] > 50.0] & df['Year'][df['Crude Oil'] < 80.0]\n"
   ]
  },
  {
   "cell_type": "markdown",
   "id": "8c1bf859",
   "metadata": {},
   "source": [
    "## Opdracht 3: samenstellen"
   ]
  },
  {
   "cell_type": "markdown",
   "id": "644ad10b",
   "metadata": {},
   "source": [
    "Stel dat Nutella zou bestaan uit 50% cacao, 20% suiker, 5% mais en 25% kokosolie.\n",
    "\n",
    "Verder is gegeven:\n",
    "\n",
    "- voor deze grondstoffen is de prijs per kilogram\n",
    "- een pot bevat 800 gram Nutella\n",
    "\n",
    "Wat is dan de prijs voor een pot Nutella in elk jaar?"
   ]
  },
  {
   "cell_type": "code",
   "execution_count": 172,
   "id": "86bfd7e8",
   "metadata": {},
   "outputs": [
    {
     "name": "stdout",
     "output_type": "stream",
     "text": [
      "<class 'pandas.core.frame.DataFrame'>\n",
      "RangeIndex: 62 entries, 0 to 61\n",
      "Data columns (total 32 columns):\n",
      " #   Column         Non-Null Count  Dtype  \n",
      "---  ------         --------------  -----  \n",
      " 0   Year           62 non-null     int64  \n",
      " 1   Cocoa          62 non-null     float64\n",
      " 2   Coffee         62 non-null     float64\n",
      " 3   Tea            62 non-null     float64\n",
      " 4   Crude Oil      62 non-null     float64\n",
      " 5   Coal           52 non-null     float64\n",
      " 6   Natural Gas    62 non-null     float64\n",
      " 7   Banana         62 non-null     float64\n",
      " 8   Sugar          62 non-null     float64\n",
      " 9   Orange         62 non-null     float64\n",
      " 10  Barley         61 non-null     float64\n",
      " 11  Maize          62 non-null     float64\n",
      " 12  Sorghum        61 non-null     float64\n",
      " 13  Rice           62 non-null     float64\n",
      " 14  Wheat          62 non-null     float64\n",
      " 15  Beef           62 non-null     float64\n",
      " 16  Chicken        62 non-null     float64\n",
      " 17  Lamb           51 non-null     float64\n",
      " 18  Shrimps        62 non-null     float64\n",
      " 19  Gold           62 non-null     float64\n",
      " 20  Platinum       62 non-null     float64\n",
      " 21  Silver         62 non-null     float64\n",
      " 22  Cotton         62 non-null     float64\n",
      " 23  Rubber         62 non-null     float64\n",
      " 24  Tobacco        62 non-null     float64\n",
      " 25  Coconut Oil    62 non-null     float64\n",
      " 26  Groundnut Oil  62 non-null     float64\n",
      " 27  Palm Oil       62 non-null     float64\n",
      " 28  Soybean        62 non-null     float64\n",
      " 29  Logs           62 non-null     float64\n",
      " 30  Sawnwood       62 non-null     float64\n",
      " 31  Nutella        62 non-null     int64  \n",
      "dtypes: float64(30), int64(2)\n",
      "memory usage: 15.6 KB\n",
      "0     0.311446\n",
      "1     0.254082\n",
      "2     0.245790\n",
      "3     0.308217\n",
      "4     0.286281\n",
      "        ...   \n",
      "57    1.204311\n",
      "58    1.166730\n",
      "59    1.134733\n",
      "60    1.201499\n",
      "61    1.372044\n",
      "Name: Nutella, Length: 62, dtype: float64\n"
     ]
    }
   ],
   "source": [
    "# Voeg een kolom 'Nutella' toe aan het DataFrame:\n",
    "\n",
    "df['Nutella'] = 0\n",
    "\n",
    "# Bereken de prijs voor een pot van 800 gram over de jaren heen:\n",
    "\n",
    "# pot Nutella = 0.8 * (0.5 * cacao + 0.2 * suiker + 0.05 * mais/1000 + 0.25 * kokosolie/1000)\n",
    "# want mais en kokosnootolie worden per ton gegeven\n",
    "\n",
    "# Begin met checken of er velden met lege waardes zijn:\n",
    "df.info()\n",
    "\n",
    "# Voor de grondstoffen in deze berekening zijn er geen lege velden\n",
    "cacao = df['Cocoa']\n",
    "suiker = df['Sugar']\n",
    "mais = df['Maize']\n",
    "kokosolie = df['Coconut Oil']\n",
    "\n",
    "df['Nutella'] = 0.8 * (0.5 * cacao + 0.2 * suiker + 0.05 * mais/1000 + 0.25 * kokosolie/1000)\n",
    "\n",
    "print(df['Nutella'])"
   ]
  },
  {
   "cell_type": "markdown",
   "id": "8476bac1",
   "metadata": {},
   "source": [
    "## Opdracht 4: aanvullen"
   ]
  },
  {
   "cell_type": "markdown",
   "id": "1688d93a",
   "metadata": {},
   "source": [
    "Zoals je ziet, ontbreekt de data voor kolen.\n",
    "\n",
    "- Tussen welke jaartallen is dat?"
   ]
  },
  {
   "cell_type": "code",
   "execution_count": 128,
   "id": "3b72b0c9",
   "metadata": {},
   "outputs": [
    {
     "data": {
      "text/plain": [
       "0    1960\n",
       "1    1961\n",
       "2    1962\n",
       "3    1963\n",
       "4    1964\n",
       "5    1965\n",
       "6    1966\n",
       "7    1967\n",
       "8    1968\n",
       "9    1969\n",
       "Name: Year, dtype: int64"
      ]
     },
     "metadata": {},
     "output_type": "display_data"
    }
   ],
   "source": [
    "# Gebruik Pandas voor deze analyse:\n",
    "\n",
    "# via df.info() zie je dat er 10 waarden missen bij Coal\n",
    "\n",
    "df6 = df[df['Coal'].isna() == True]\n",
    "\n",
    "display(df6['Year'])"
   ]
  },
  {
   "cell_type": "markdown",
   "id": "00ebfe0d",
   "metadata": {},
   "source": [
    "Plot de data voor de grondstoffen."
   ]
  },
  {
   "cell_type": "code",
   "execution_count": 187,
   "id": "9b1d6569",
   "metadata": {},
   "outputs": [
    {
     "data": {
      "text/plain": [
       "<AxesSubplot: xlabel='Year'>"
      ]
     },
     "execution_count": 187,
     "metadata": {},
     "output_type": "execute_result"
    },
    {
     "data": {
      "image/png": "[encoded data removed]",
      "text/plain": [
       "<Figure size 640x480 with 1 Axes>"
      ]
     },
     "metadata": {},
     "output_type": "display_data"
    }
   ],
   "source": [
    "# Plot de data:\n",
    "\n",
    "df.plot.line(x='Year', legend=False)\n",
    "\n",
    "# deze plot bevat teveel informatie"
   ]
  },
  {
   "cell_type": "code",
   "execution_count": 190,
   "id": "6b7e2498-bccd-40d3-b871-a172d14b9b6e",
   "metadata": {},
   "outputs": [
    {
     "data": {
      "text/plain": [
       "<AxesSubplot: xlabel='Year'>"
      ]
     },
     "execution_count": 190,
     "metadata": {},
     "output_type": "execute_result"
    },
    {
     "data": {
      "image/png": "[encoded data removed]",
      "text/plain": [
       "<Figure size 640x480 with 1 Axes>"
      ]
     },
     "metadata": {},
     "output_type": "display_data"
    }
   ],
   "source": [
    "# nu een selectie van minder grondstoffen, maar die wel relevant zijn voor een vergelijking met Coal:\n",
    "\n",
    "df[['Year', 'Crude Oil', 'Coal', 'Natural Gas']].plot.line(x='Year')"
   ]
  },
  {
   "cell_type": "markdown",
   "id": "f95dba3d",
   "metadata": {},
   "source": [
    "Maak op basis van de aanwezige data een schatting van de ontbrekende waarden:\n",
    "\n",
    "1. Kun je op basis van de curve een schatting maken?\n",
    "2. Loopt de prijs van kolen op met een andere grondstof?\n",
    "3. Kun je die als schatting gebruiken?\n",
    "4. Vul de data aan in de set en sla de set op"
   ]
  },
  {
   "cell_type": "code",
   "execution_count": 214,
   "id": "a59dd8bc",
   "metadata": {},
   "outputs": [
    {
     "data": {
      "text/plain": [
       "7.8"
      ]
     },
     "metadata": {},
     "output_type": "display_data"
    },
    {
     "data": {
      "text/plain": [
       "1.21"
      ]
     },
     "metadata": {},
     "output_type": "display_data"
    },
    {
     "data": {
      "text/plain": [
       "6.446280991735537"
      ]
     },
     "metadata": {},
     "output_type": "display_data"
    },
    {
     "data": {
      "text/plain": [
       "8.68"
      ]
     },
     "metadata": {},
     "output_type": "display_data"
    },
    {
     "data": {
      "text/plain": [
       "1.69"
      ]
     },
     "metadata": {},
     "output_type": "display_data"
    },
    {
     "data": {
      "text/plain": [
       "5.136094674556213"
      ]
     },
     "metadata": {},
     "output_type": "display_data"
    },
    {
     "data": {
      "text/plain": [
       "9.6"
      ]
     },
     "metadata": {},
     "output_type": "display_data"
    },
    {
     "data": {
      "text/plain": [
       "1.82"
      ]
     },
     "metadata": {},
     "output_type": "display_data"
    },
    {
     "data": {
      "text/plain": [
       "5.274725274725275"
      ]
     },
     "metadata": {},
     "output_type": "display_data"
    },
    {
     "name": "stdout",
     "output_type": "stream",
     "text": [
      "5.62\n"
     ]
    },
    {
     "name": "stderr",
     "output_type": "stream",
     "text": [
      "/tmp/ipykernel_17236/1262180848.py:39: SettingWithCopyWarning: \n",
      "A value is trying to be set on a copy of a slice from a DataFrame.\n",
      "Try using .loc[row_indexer,col_indexer] = value instead\n",
      "\n",
      "See the caveats in the documentation: https://pandas.pydata.org/pandas-docs/stable/user_guide/indexing.html#returning-a-view-versus-a-copy\n",
      "  df[10:20]['Coal'] = df[10:20]['Crude Oil'] * 5.62\n"
     ]
    }
   ],
   "source": [
    "# Analyseer de curves by 'eyeballing':\n",
    "\n",
    "# Coal lijkt de lijn van Crude Oil redelijk te volgen\n",
    "\n",
    "# Maak een schatting van de waarden:\n",
    "\n",
    "# Coal in de periode 1960 - 1970 volgt redelijk de waarden van Crude Oil in de periode 1960 - 1970\n",
    "\n",
    "# Gebruik Pandas om de data aan te vullen en op te slaan:\n",
    "\n",
    "# ...\n",
    "\n",
    "display(df['Coal'][10])\n",
    "display(df['Crude Oil'][10])\n",
    "\n",
    "display(df['Coal'][10]/df['Crude Oil'][10])\n",
    "\n",
    "display(df['Coal'][11])\n",
    "display(df['Crude Oil'][11])\n",
    "\n",
    "display(df['Coal'][11]/df['Crude Oil'][11])\n",
    "\n",
    "display(df['Coal'][12])\n",
    "display(df['Crude Oil'][12])\n",
    "\n",
    "display(df['Coal'][12]/df['Crude Oil'][12])\n",
    "\n",
    "\n",
    "print((6.45 + 5.14 + 5.27)/3)\n",
    "# dit geeft een gemiddelde waarde weer voor de verhouding tussen Crude Oil en Coal.\n",
    "\n",
    "# dus if 'Coal' == NaN then 'Coal' = 'Crude Oil'* 5.62\n",
    "df_copy = df.copy\n",
    "\n",
    "# if df.copy['Coal'].isna() == True:\n",
    "#         df_copy['Coal'] = df_copy['Crude Oil'] * 5.62\n",
    "        \n",
    "\n",
    "df[10:20]['Coal'] = df[10:20]['Crude Oil'] * 5.62"
   ]
  },
  {
   "cell_type": "markdown",
   "id": "720160f7",
   "metadata": {},
   "source": [
    "## Gefeliciteerd!"
   ]
  },
  {
   "cell_type": "markdown",
   "id": "4e07fbe2",
   "metadata": {},
   "source": [
    "Je ben nu een kung fu panda."
   ]
  }
 ],
 "metadata": {
  "kernelspec": {
   "display_name": "Python 3 (ipykernel)",
   "language": "python",
   "name": "python3"
  },
  "language_info": {
   "codemirror_mode": {
    "name": "ipython",
    "version": 3
   },
   "file_extension": ".py",
   "mimetype": "text/x-python",
   "name": "python",
   "nbconvert_exporter": "python",
   "pygments_lexer": "ipython3",
   "version": "3.10.9"
  }
 },
 "nbformat": 4,
 "nbformat_minor": 5
}
