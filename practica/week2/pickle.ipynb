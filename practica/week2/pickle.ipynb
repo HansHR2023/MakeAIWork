{
 "cells": [
  {
   "cell_type": "code",
   "execution_count": null,
   "id": "a139e593-c48d-4c7d-89cf-cbaf638cff8a",
   "metadata": {},
   "outputs": [],
   "source": [
    "# Onderzoek de Python library pickle"
   ]
  },
  {
   "cell_type": "code",
   "execution_count": null,
   "id": "a0535c1e-7072-4d51-9887-f601e87869db",
   "metadata": {},
   "outputs": [],
   "source": [
    "# !pip install pickle werkt niet want je moet een versie meegeven, bijvoorbeeld 4"
   ]
  },
  {
   "cell_type": "code",
   "execution_count": 1,
   "id": "c0ed1ff9-d744-4b23-8456-d45a1a7a5279",
   "metadata": {},
   "outputs": [
    {
     "name": "stdout",
     "output_type": "stream",
     "text": [
      "Collecting pickle4\n",
      "  Downloading pickle4-0.0.1.tar.gz (19 kB)\n",
      "  Preparing metadata (setup.py) ... \u001b[?25ldone\n",
      "\u001b[?25hRequirement already satisfied: setuptools in /home/pans/miniconda3/envs/miw/lib/python3.10/site-packages (from pickle4) (65.6.3)\n",
      "Building wheels for collected packages: pickle4\n",
      "  Building wheel for pickle4 (setup.py) ... \u001b[?25ldone\n",
      "\u001b[?25h  Created wheel for pickle4: filename=pickle4-0.0.1-py2.py3-none-any.whl size=19699 sha256=a4a53cab0a0ac0767e347b7b25b657ab0231d587d4935fc6e2fc570f4b8390b1\n",
      "  Stored in directory: /home/pans/.cache/pip/wheels/6b/93/f8/812cf2affd2a7621f013bffacd7502d42ff3583a05a8fc0647\n",
      "Successfully built pickle4\n",
      "Installing collected packages: pickle4\n",
      "Successfully installed pickle4-0.0.1\n"
     ]
    }
   ],
   "source": [
    "!pip install pickle4"
   ]
  },
  {
   "cell_type": "code",
   "execution_count": 2,
   "id": "9ed3ee8f-cc14-4146-a1f0-1ae3e69f635c",
   "metadata": {},
   "outputs": [],
   "source": [
    "import pickle"
   ]
  },
  {
   "cell_type": "code",
   "execution_count": null,
   "id": "d2f27de4-6ef7-48a0-a09a-06e34c9de017",
   "metadata": {},
   "outputs": [],
   "source": [
    "# Wat kan je met pickle?"
   ]
  },
  {
   "cell_type": "code",
   "execution_count": 4,
   "id": "1237ad36-2623-4c39-8717-ce0b595f535d",
   "metadata": {},
   "outputs": [],
   "source": [
    "# docs.python.org en zoek op pickle:\n",
    "\n",
    "# https://docs.python.org/3/library/pickle.html?highlight=pickle#module-pickle\n"
   ]
  },
  {
   "cell_type": "code",
   "execution_count": null,
   "id": "ca21b882-334e-4334-a80c-4dfa04f86ced",
   "metadata": {},
   "outputs": [],
   "source": [
    "Bestanden lezen en schrijven. Een bijzondere eigenschap is dat je een getraind model kan dumpen in een file."
   ]
  },
  {
   "cell_type": "markdown",
   "id": "c5b9e0ec-7af6-4726-9933-9c1a419f7747",
   "metadata": {},
   "source": [
    "\n",
    "\n",
    "Warning\n",
    "\n",
    "The pickle module is not secure. Only unpickle data you trust.\n",
    "\n",
    "It is possible to construct malicious pickle data which will execute arbitrary code during unpickling. Never unpickle data that could have come from an untrusted source, or that could have been tampered with.\n",
    "\n",
    "Consider signing data with hmac if you need to ensure that it has not been tampered with.\n",
    "\n",
    "Safer serialization formats such as json may be more appropriate if you are processing untrusted data. See Comparison with json.\n"
   ]
  },
  {
   "cell_type": "code",
   "execution_count": null,
   "id": "2a891a0f-4a14-47b1-af84-fe8982135ce8",
   "metadata": {},
   "outputs": [],
   "source": [
    "# Welke methods zijn er? Tik pickle.<tab>"
   ]
  },
  {
   "cell_type": "code",
   "execution_count": null,
   "id": "747b4230-bc7b-4f56-a79c-78c89f447ef8",
   "metadata": {},
   "outputs": [],
   "source": [
    "pickle."
   ]
  },
  {
   "cell_type": "code",
   "execution_count": null,
   "id": "66712917-6493-4bf8-a0d9-12c8030ee6f6",
   "metadata": {},
   "outputs": [],
   "source": [
    "https://www.benfrederickson.com/dont-pickle-your-data/"
   ]
  },
  {
   "cell_type": "code",
   "execution_count": null,
   "id": "ee7ecc3a-268a-4aa1-a4b7-ac118774ff97",
   "metadata": {},
   "outputs": [],
   "source": [
    "https://stackoverflow.com/questions/21752259/python-why-pickle#21752597"
   ]
  },
  {
   "cell_type": "code",
   "execution_count": null,
   "id": "480d00b7-e704-43e9-ad66-4a82a828e713",
   "metadata": {},
   "outputs": [],
   "source": [
    "\n",
    "\n",
    "I have been using pickle and was very happy, then I saw this article: Don't Pickle Your Data\n",
    "\n",
    "Reading further it seems like:\n",
    "\n",
    "    Pickle is slow\n",
    "    Pickle is unsafe\n",
    "    Pickle isn’t human readable\n",
    "    Pickle isn’t language-agnostic\n",
    "\n",
    "I’ve switched to saving my data as JSON, but I wanted to know about best practice:\n",
    "\n",
    "Given all these issues, when would you ever use pickle? What specific situations call for using it?\n"
   ]
  },
  {
   "cell_type": "code",
   "execution_count": null,
   "id": "d68d6684-7b53-4cf4-868e-e59976e3f933",
   "metadata": {},
   "outputs": [],
   "source": [
    "\n",
    "- ik wil nu stoppen met een lopend process en later weer doorgaan\n",
    "\n",
    "- ik wil van een single processor naar een multiprocessor om sneller klaar te zijn met een proces\n",
    "\n",
    "- ik wil een dump van een proces of een trained model opslaan en aan een ander teamlid overdragen\n",
    "\n",
    "\n",
    "\n",
    "\n",
    "Pickle is unsafe because it constructs arbitrary Python objects by invoking arbitrary functions. However, this is also gives it the power to serialize almost any Python object, without any boilerplate or even white-/black-listing (in the common case). That's very desirable for some use cases:\n",
    "\n",
    "    Quick & easy serialization, for example for pausing and resuming a long-running but simple script. None of the concerns matter here, you just want to dump the program's state as-is and load it later.\n",
    "    Sending arbitrary Python data to other processes or computers, as in multiprocessing. The security concerns may apply (but mostly don't), the generality is absolutely necessary, and humans won't have to read it.\n",
    "\n",
    "In other cases, none of the drawbacks is quite enough to justify the work of mapping your stuff to JSON or another restrictive data model. Maybe you don't expect to need human readability/safety/cross-language compatibility or maybe you can do without. Remember, You Ain't Gonna Need It. Using JSON would be the right thing™ but right doesn't always equal good.\n",
    "\n",
    "You'll notice that I completely ignored the \"slow\" downside. That's because it's partially misleading: Pickle is indeed slower for data that fits the JSON model (strings, numbers, arrays, maps) perfectly, but if your data's like that you should use JSON for other reasons anyway. If your data isn't like that (very likely), you also need to take into account the custom code you'll need to turn your objects into JSON data, and the custom code you'll need to turn JSON data back into your objects. It adds both engineering effort and run-time overhead, which must be quantified on a case-by-case basis.\n"
   ]
  },
  {
   "cell_type": "code",
   "execution_count": 7,
   "id": "a5204021-5c30-4cbc-ade0-2fa609eb9724",
   "metadata": {},
   "outputs": [
    {
     "name": "stdout",
     "output_type": "stream",
     "text": [
      "lorem ipsum\n"
     ]
    }
   ],
   "source": [
    "string_a = 'lorem ipsum'\n",
    "print(string_a)"
   ]
  },
  {
   "cell_type": "code",
   "execution_count": 8,
   "id": "b45a6cb2-1dbb-4630-8b03-ab173ca561af",
   "metadata": {},
   "outputs": [],
   "source": [
    "f = open('test.pkl', 'wb')\n",
    "pickle.dump(string_a, f)\n",
    "f.close()"
   ]
  },
  {
   "cell_type": "code",
   "execution_count": 10,
   "id": "c905f471-e6e2-47ff-9c15-af8c4b9f426d",
   "metadata": {},
   "outputs": [
    {
     "name": "stdout",
     "output_type": "stream",
     "text": [
      "leeg\n"
     ]
    }
   ],
   "source": [
    "string_a = 'leeg'\n",
    "print(string_a)"
   ]
  },
  {
   "cell_type": "code",
   "execution_count": 12,
   "id": "ce5ec939-c861-407e-abcf-65c068c092df",
   "metadata": {},
   "outputs": [],
   "source": [
    "f = open('test.pkl', 'rb')\n",
    "new = pickle.load(f)\n",
    "f.close()"
   ]
  },
  {
   "cell_type": "code",
   "execution_count": 13,
   "id": "33ec3e4b-fb5d-43d6-893c-04fd64206730",
   "metadata": {},
   "outputs": [
    {
     "name": "stdout",
     "output_type": "stream",
     "text": [
      "lorem ipsum\n"
     ]
    }
   ],
   "source": [
    "print(new)"
   ]
  },
  {
   "cell_type": "markdown",
   "id": "9120d5c5-e601-422e-8f56-2e2a6e7edbaf",
   "metadata": {},
   "source": [
    "Variant: gebruik with open want dan is f(close) niet nodig"
   ]
  },
  {
   "cell_type": "code",
   "execution_count": 19,
   "id": "4a3f6e42-8e1f-48ad-8511-f973b86d209b",
   "metadata": {},
   "outputs": [
    {
     "name": "stdout",
     "output_type": "stream",
     "text": [
      "True\n"
     ]
    }
   ],
   "source": [
    "a = {'hello': 'world'}\n",
    "\n",
    "with open('filename.pickle', 'wb') as handle:\n",
    "    pickle.dump(a, handle, protocol=pickle.HIGHEST_PROTOCOL)\n",
    "\n",
    "with open('filename.pickle', 'rb') as handle:\n",
    "    b = pickle.load(handle)\n",
    "\n",
    "print (a == b)"
   ]
  },
  {
   "cell_type": "code",
   "execution_count": null,
   "id": "7c724e25-3b7e-431f-b83e-328f637047c3",
   "metadata": {},
   "outputs": [],
   "source": []
  },
  {
   "cell_type": "code",
   "execution_count": 15,
   "id": "f14cdd75-621e-4565-98ad-95c0b02e8d4b",
   "metadata": {},
   "outputs": [
    {
     "name": "stdout",
     "output_type": "stream",
     "text": [
      "Collecting xgboost\n",
      "  Downloading xgboost-1.7.3-py3-none-manylinux2014_x86_64.whl (193.6 MB)\n",
      "\u001b[2K     \u001b[38;2;114;156;31m━━━━━━━━━━━━━━━━━━━━━━━━━━━━━━━━━━━━━━━\u001b[0m \u001b[32m193.6/193.6 MB\u001b[0m \u001b[31m2.4 MB/s\u001b[0m eta \u001b[36m0:00:00\u001b[0mm eta \u001b[36m0:00:01\u001b[0m[36m0:00:02\u001b[0m\n",
      "\u001b[?25hRequirement already satisfied: scipy in /home/pans/miniconda3/envs/miw/lib/python3.10/site-packages (from xgboost) (1.10.0)\n",
      "Requirement already satisfied: numpy in /home/pans/miniconda3/envs/miw/lib/python3.10/site-packages (from xgboost) (1.23.5)\n",
      "Installing collected packages: xgboost\n",
      "Successfully installed xgboost-1.7.3\n"
     ]
    }
   ],
   "source": [
    "!pip install xgboost"
   ]
  },
  {
   "cell_type": "code",
   "execution_count": 16,
   "id": "f6180e40-36d7-474d-940d-8afe248e7af9",
   "metadata": {},
   "outputs": [],
   "source": [
    "import pandas as pd\n",
    "import pickle\n",
    "from sklearn.datasets import load_diabetes\n",
    "from sklearn.model_selection import train_test_split\n",
    "from xgboost import XGBClassifier\n"
   ]
  },
  {
   "cell_type": "markdown",
   "id": "f40f6fda-e70c-4626-a387-df382255b838",
   "metadata": {},
   "source": [
    "Opslaan van trained model in sklearn\n",
    "\n",
    "https://practicaldatascience.co.uk/machine-learning/how-to-save-and-load-machine-learning-models-using-pickle\n",
    "\n",
    "Train een model met een dataset"
   ]
  },
  {
   "cell_type": "code",
   "execution_count": null,
   "id": "c6326720-90c9-4fe2-b5ca-2131de03b1d9",
   "metadata": {},
   "outputs": [],
   "source": [
    "pickle.dump(model, open('model.pkl', 'wb'))\n"
   ]
  },
  {
   "cell_type": "code",
   "execution_count": null,
   "id": "95faa71f-baa4-41ac-a6ae-93fd17947cf2",
   "metadata": {},
   "outputs": [],
   "source": [
    "pickled_model = pickle.load(open('model.pkl', 'rb'))\n",
    "pickled_model.predict(X_test)\n"
   ]
  },
  {
   "cell_type": "code",
   "execution_count": null,
   "id": "d341dcfd-855e-460d-941a-adcebd6e68ea",
   "metadata": {},
   "outputs": [],
   "source": []
  },
  {
   "cell_type": "markdown",
   "id": "e4b9e575-03bd-422a-876c-1d9271c2feb1",
   "metadata": {},
   "source": [
    "https://www.datacamp.com/tutorial/pickle-python-tutorial\n",
    "\n",
    "Compressing pickle Files\n",
    "\n",
    "If you are saving a large dataset and your pickled file takes up a lot of space, you may want to compress it. This can be done using bzip2 or gzip. They both compress files, but bzip2 is a bit slower. gzip, however, produces files about twice as large as bzip2. You'll be using bzip2 in this tutorial.\n",
    "\n",
    "Remember that compression and serialization is not the same! You can go back to the beginning of the tutorial to refresh your memory if necessary.\n",
    "\n",
    "Start by importing bzip2 with import bz2. Importing pickle is done the same way as in the beginning of this tutorial."
   ]
  },
  {
   "cell_type": "code",
   "execution_count": null,
   "id": "bdd5a007-8986-4cc8-adf3-43c319d49be0",
   "metadata": {},
   "outputs": [],
   "source": [
    "import bz2\n",
    "import pickle\n",
    "\n",
    "sfile = bz2.BZ2File('smallerfile', 'w')\n",
    "pickle.dump(dogs_dict, sfile)\n"
   ]
  },
  {
   "cell_type": "markdown",
   "id": "0fd8597e-cca0-4f48-acd9-586d48f7c307",
   "metadata": {},
   "source": [
    "A new file named smallerfile should have appeared. Keep in mind that the difference in file size compared to an uncompressed version will not be noticeable with small object structures."
   ]
  },
  {
   "cell_type": "markdown",
   "id": "c71af101-12f1-4e9d-9f96-4206f4170d4c",
   "metadata": {},
   "source": [
    "Een pickle file is een BLOB, een binary large object"
   ]
  }
 ],
 "metadata": {
  "kernelspec": {
   "display_name": "Python 3 (ipykernel)",
   "language": "python",
   "name": "python3"
  },
  "language_info": {
   "codemirror_mode": {
    "name": "ipython",
    "version": 3
   },
   "file_extension": ".py",
   "mimetype": "text/x-python",
   "name": "python",
   "nbconvert_exporter": "python",
   "pygments_lexer": "ipython3",
   "version": "3.10.9"
  }
 },
 "nbformat": 4,
 "nbformat_minor": 5
}
