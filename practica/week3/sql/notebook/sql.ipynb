{
 "cells": [
  {
   "cell_type": "markdown",
   "id": "ce776e9e-e316-4a03-ad68-d9e0a090b894",
   "metadata": {},
   "source": [
    "<div>\n",
    "    <img src='../pics/banner.PNG'/>\n",
    "</div>\n",
    "<div>\n",
    "    <img width=\"10%\" height=\"10%\" src='../pics/python-programming.png'/>\n",
    "    <img src='../pics/miw.PNG'/>\n",
    "</div>\n",
    "<div>\n",
    "    <em>Author: Jeroen Boogaard</em>\n",
    "</div>"
   ]
  },
  {
   "cell_type": "markdown",
   "id": "b57ce072-c647-44a4-8078-07045ee55df9",
   "metadata": {},
   "source": [
    "<h1>Practicum SQL </h1>"
   ]
  },
  {
   "cell_type": "markdown",
   "id": "9f080c20-09e7-415e-b4b8-91b340464972",
   "metadata": {},
   "source": [
    "<h2>Imports<h2>"
   ]
  },
  {
   "cell_type": "code",
   "execution_count": 100,
   "id": "91986813",
   "metadata": {},
   "outputs": [
    {
     "name": "stdout",
     "output_type": "stream",
     "text": [
      "Requirement already satisfied: pysqlite3 in /home/pans/miniconda3/envs/miw/lib/python3.10/site-packages (0.5.0)\n",
      "Requirement already satisfied: pip in /home/pans/miniconda3/envs/miw/lib/python3.10/site-packages (23.0.1)\n"
     ]
    },
    {
     "data": {
      "text/plain": [
       "0"
      ]
     },
     "execution_count": 100,
     "metadata": {},
     "output_type": "execute_result"
    }
   ],
   "source": [
    "from os import system as sys\n",
    "sys('pip install pysqlite3 --upgrade pip')"
   ]
  },
  {
   "cell_type": "code",
   "execution_count": 101,
   "id": "fc9cc22c-9b16-4f97-be97-65fa68a4f5b6",
   "metadata": {},
   "outputs": [],
   "source": [
    "from matplotlib import pyplot as plt\n",
    "from matplotlib_venn import venn2, venn3\n",
    "from PIL import Image\n",
    "import pandas as pd\n",
    "import sqlite3"
   ]
  },
  {
   "cell_type": "markdown",
   "id": "206be2e2-1646-4b41-bc5d-e23ca9ce2199",
   "metadata": {},
   "source": [
    "<h2>Extract, Transform and Load</h2>"
   ]
  },
  {
   "cell_type": "markdown",
   "id": "27681fa7-135e-4301-9eb3-b0d945ca7f45",
   "metadata": {},
   "source": [
    "<h3>Extract</h3>"
   ]
  },
  {
   "cell_type": "code",
   "execution_count": 145,
   "id": "3dc0221e-2539-46d5-9b46-f5031b987547",
   "metadata": {},
   "outputs": [],
   "source": [
    "# https://raw.githubusercontent.com/ajturner/acetate/master/places/Countries-Europe.csv\n",
    "csvFile = \"../csv/countries_europe.csv\"\n",
    "euCsvFile = \"../csv/european_union.csv\"\n",
    "\n",
    " # Create Pandas DataFrames\n",
    "europeDF = pd.read_csv(csvFile)\n",
    "euDF = pd.read_csv(euCsvFile)\n",
    "#print(europeDF)\n",
    "#print(euDF)"
   ]
  },
  {
   "cell_type": "markdown",
   "id": "620dd73e-33e6-42b4-89aa-c80a12833ad1",
   "metadata": {},
   "source": [
    "<h3>Transform</h3>"
   ]
  },
  {
   "cell_type": "markdown",
   "id": "184e4908-ac20-4417-8a04-60d0a2a80f44",
   "metadata": {},
   "source": [
    "<h3>Exercise 1</h3>\n",
    "<h4>Gegeven</h4>"
   ]
  },
  {
   "cell_type": "code",
   "execution_count": 146,
   "id": "649e4d4f-bcf5-40ad-9f58-55a1481b9d8d",
   "metadata": {},
   "outputs": [],
   "source": [
    "benelux = {\"Belgium\", \"Netherlands\", \"Luxembourg\"}\n",
    "nordics = {\"Denmark\", \"Finland\", \"Iceland\", \"Norway\"}\n",
    "baltics = {\"Estonia\", \"Latvia\", \"Lithuania\"}"
   ]
  },
  {
   "cell_type": "code",
   "execution_count": 104,
   "id": "aeae5129-38e7-42b2-ab1f-14cb9fd0c9c3",
   "metadata": {},
   "outputs": [
    {
     "name": "stdout",
     "output_type": "stream",
     "text": [
      "Luxembourg\n",
      "Belgium\n",
      "Netherlands\n"
     ]
    }
   ],
   "source": [
    "for i in benelux:\n",
    "    print(i)"
   ]
  },
  {
   "cell_type": "markdown",
   "id": "cefd609d-415b-40ce-9aa8-56cf98e386ab",
   "metadata": {},
   "source": [
    "<h4>Gevraagd</h4>\n",
    "<ol>\n",
    "    <li>Voeg de kolom <u>group</u> toe aan de dataset <u>europeDF</u> met daarin de groep waartoe een land behoort volgens bovenstaande sets</li>\n",
    "    <li>Ga na of er nog meer landengroepen zijn binnen Europa en voeg die ook toe</li>\n",
    "    <li>Sla deze verrijkte dataset op in een nieuw CSV bestand</li>\n",
    "</ol>"
   ]
  },
  {
   "cell_type": "markdown",
   "id": "950cd16a-4697-4e10-9a29-34e54145de68",
   "metadata": {},
   "source": [
    "<h4>Oplossing</h4>"
   ]
  },
  {
   "cell_type": "code",
   "execution_count": 147,
   "id": "53b02739-f585-4a33-b4b0-dcf06bf6a1c9",
   "metadata": {},
   "outputs": [],
   "source": [
    "# Oplossing\n",
    "\n",
    "europeDF['groups'] = '' \n",
    "\n",
    "# NB group is een commandoi in sql dus maak er groups van"
   ]
  },
  {
   "cell_type": "code",
   "execution_count": 106,
   "id": "db0dc955-594d-4b6f-9f18-187f92b0458f",
   "metadata": {},
   "outputs": [
    {
     "data": {
      "text/plain": [
       "Index(['zoom', 'name', 'abbreviation', 'Code', 'ISO numeric', 'land area km',\n",
       "       'population', 'latitude', 'longitude', 'continent', 'group'],\n",
       "      dtype='object')"
      ]
     },
     "execution_count": 106,
     "metadata": {},
     "output_type": "execute_result"
    }
   ],
   "source": [
    "europeDF.columns"
   ]
  },
  {
   "cell_type": "code",
   "execution_count": 148,
   "id": "d081a928-fbce-45ea-8c99-66ecd7093f53",
   "metadata": {},
   "outputs": [],
   "source": [
    "    \n",
    "# df.loc[df[<some_column_name>] == <condition>, [<another_column_name>]] = <value_to_add>\n",
    "# europeDF.loc[europeDF['name'] == 'Belgium', ['group']] = 'benelux'\n",
    "\n",
    "for i in benelux:\n",
    "    europeDF.loc[europeDF['name'] == i, ['groups']] = 'benelux'\n",
    "    \n",
    "for i in nordics:\n",
    "    europeDF.loc[europeDF['name'] == i, ['groups']] = 'nordics'\n",
    "    \n",
    "for i in baltics:\n",
    "    europeDF.loc[europeDF['name'] == i, ['groups']] = 'baltics'\n",
    "    "
   ]
  },
  {
   "cell_type": "code",
   "execution_count": 122,
   "id": "0b281ff2-8012-438c-86d3-581638f47994",
   "metadata": {},
   "outputs": [],
   "source": [
    "# poging om drie loops in 1 dubbele loop om te zetten:\n",
    "if cSet in [benelux, nordics, baltics]:\n",
    "    for i in x:\n",
    "        print(type(i))\n",
    "        europeDF.loc[europeDF['name'] == i, ['group']] = cSet\n"
   ]
  },
  {
   "cell_type": "code",
   "execution_count": 108,
   "id": "a178a741-1a38-48bf-9a50-ff885c8dbaf1",
   "metadata": {},
   "outputs": [
    {
     "name": "stdout",
     "output_type": "stream",
     "text": [
      "{'Iceland', 'Belgium', 'Norway', 'Netherlands', 'Latvia', 'Denmark', 'Finland', 'Luxembourg', 'Lithuania', 'Estonia'}\n"
     ]
    }
   ],
   "source": [
    "# list comprehension kan ook als je er eerst een list van maakt."
   ]
  },
  {
   "cell_type": "code",
   "execution_count": 1,
   "id": "251baa18-262b-4e6a-ac84-eb7804356522",
   "metadata": {},
   "outputs": [],
   "source": [
    "# alternatief: een functie maken en dan 3 x aanroepen met telkens een andere set\n"
   ]
  },
  {
   "cell_type": "code",
   "execution_count": 1,
   "id": "66484a6a-3d5d-4947-ba8a-2b447fccf3b1",
   "metadata": {},
   "outputs": [],
   "source": [
    "# alternatief: oplossing van Jeroen\n",
    "\n",
    "Goedemorgen Hans, n.a.v. jouw vraag gisteren over een efficientere for-loop voor het toevoegen van groups, hierbij mijn uitwerking:\n",
    " \n",
    "\n",
    "# Maak een Dictionary van groups\n",
    "groupsDict = { \"benelux\": benelux, \"nordics\": nordics, \"baltics\": baltics }\n",
    "print(groupsDict)\n",
    "\n",
    " \n",
    "\n",
    "# Maak een lijst met lege Strings\n",
    "nrOfCountries = len(europeDF)\n",
    "groupsList = nrOfCountries * [\"\"]\n",
    "\n",
    " \n",
    "\n",
    "# Ga voor alle landen uit europeDF na of ze onderdeel zijn van 1 van de groepen uit groupsDict\n",
    "for i, country in enumerate(europeDF[\"name\"]):\n",
    "    \n",
    "    for group, countries in groupsDict.items():\n",
    "    \n",
    "        if country in countries:\n",
    "            groupsList[i] = group\n",
    "        \n",
    "print(groupsList)\n",
    "        \n",
    "# Voeg de kolom groups toe aan Dataframe europeDF \n",
    "europeDF.insert(loc=0, column='groups', value=groupsList)\n",
    "print(europeDF)"
   ]
  },
  {
   "cell_type": "code",
   "execution_count": 2,
   "id": "54686f37-7975-4162-8b27-eb462ef78c1c",
   "metadata": {},
   "outputs": [
    {
     "ename": "NameError",
     "evalue": "name 'europeDF' is not defined",
     "output_type": "error",
     "traceback": [
      "\u001b[0;31m---------------------------------------------------------------------------\u001b[0m",
      "\u001b[0;31mNameError\u001b[0m                                 Traceback (most recent call last)",
      "Cell \u001b[0;32mIn[2], line 1\u001b[0m\n\u001b[0;32m----> 1\u001b[0m \u001b[43meuropeDF\u001b[49m\n",
      "\u001b[0;31mNameError\u001b[0m: name 'europeDF' is not defined"
     ]
    }
   ],
   "source": [
    "europeDF"
   ]
  },
  {
   "cell_type": "markdown",
   "id": "3915f0da-d771-4470-93e7-8b0337b472af",
   "metadata": {},
   "source": [
    "<h3>Load</h3>"
   ]
  },
  {
   "cell_type": "markdown",
   "id": "c50ff7d2-c034-43fd-b19d-24a3f4d1513f",
   "metadata": {},
   "source": [
    "<p>Maak een lege database</p>"
   ]
  },
  {
   "cell_type": "code",
   "execution_count": 150,
   "id": "a2d3575c-af21-4bb5-8585-6da463a42fdf",
   "metadata": {},
   "outputs": [
    {
     "data": {
      "text/plain": [
       "0"
      ]
     },
     "execution_count": 150,
     "metadata": {},
     "output_type": "execute_result"
    }
   ],
   "source": [
    "sys('sqlite3 ../db/europe.db \"VACUUM;\"')"
   ]
  },
  {
   "cell_type": "code",
   "execution_count": 151,
   "id": "2e63c59f-e85b-41c7-87a5-b1973ffa5652",
   "metadata": {},
   "outputs": [],
   "source": [
    "# Connect to SQLite database\n",
    "dbConnection = sqlite3.connect('../db/europe.db')"
   ]
  },
  {
   "cell_type": "markdown",
   "id": "a851f75c-1b37-4bec-9f92-146f45457533",
   "metadata": {},
   "source": [
    "<p>Maak tabellen o.b.v. de dataset</p>"
   ]
  },
  {
   "cell_type": "code",
   "execution_count": 152,
   "id": "0372fa16-5ba5-4aac-874f-67566b093721",
   "metadata": {},
   "outputs": [
    {
     "data": {
      "text/plain": [
       "27"
      ]
     },
     "execution_count": 152,
     "metadata": {},
     "output_type": "execute_result"
    }
   ],
   "source": [
    "europeDF.to_sql('countries', dbConnection, if_exists='replace', index = False)\n",
    "euDF.to_sql('eu', dbConnection, if_exists='replace', index = False)"
   ]
  },
  {
   "cell_type": "code",
   "execution_count": 153,
   "id": "5e61d66c-78ec-4798-87ec-16a553d286ae",
   "metadata": {},
   "outputs": [
    {
     "name": "stdout",
     "output_type": "stream",
     "text": [
      "[(3, 'France', 'Fr.', 'FRA', 250, 547030.0, 64768389, 46.0, 2.0, 'eu', '', 'FRA', 'France', '1958-01-01'), (3, 'Spain', 'Spain', 'ESP', 724, 504782.0, 46505963, 40.0, -4.0, 'eu', '', 'ESP', 'Spain', '1986-01-01'), (3, 'Sweden', 'Swe.', 'SWE', 752, 449964.0, 9045000, 62.0, 15.0, 'eu', '', 'SWE', 'Sweden', '1995-01-01'), (3, 'Germany', 'Ger.', 'DEU', 276, 357021.0, 82369000, 51.5, 10.5, 'eu', '', 'DEU', 'Germany', '1958-01-01'), (3, 'Finland', 'Fin.', 'FIN', 246, 337030.0, 5244000, 64.0, 26.0, 'eu', 'nordics', 'FIN', 'Finland', '1995-01-01'), (3, 'Poland', 'Pol.', 'POL', 616, 312685.0, 38500000, 52.0, 20.0, 'eu', '', 'POL', 'Poland', '2004-05-01'), (3, 'Italy', 'Italy', 'ITA', 380, 301230.0, 58145000, 42.83, 12.83, 'eu', '', 'ITA', 'Italy', '1958-01-01'), (3, 'Romania', 'Rom.', 'ROU', 642, 237500.0, 21959278, 46.0, 25.0, 'eu', '', 'ROU', 'Romania', '2007-01-01'), (3, 'Greece', 'Grc.', 'GRC', 300, 131940.0, 11000000, 39.0, 22.0, 'eu', '', 'GRC', 'Greece', '1981-01-01'), (3, 'Bulgaria', 'Blg.', 'BGR', 100, 110910.0, 7148785, 43.0, 25.0, 'eu', '', 'BGR', 'Bulgaria', '2007-01-01'), (3, 'Portugal', 'Port.', 'PRT', 620, 92391.0, 10676000, 39.5, -8.0, 'eu', '', 'PRT', 'Portugal', '1986-01-01'), (3, 'Czech Republic', 'Czech Rep.', 'CZE', 203, 78866.0, 10476000, 49.75, 15.0, 'eu', '', 'CZE', 'Czechia', '2004-05-01'), (3, 'Denmark', 'Den.', 'DNK', 208, 43094.0, 5484000, 56.0, 10.0, 'eu', 'nordics', 'DNK', 'Denmark', '1973-01-01'), (4, 'Hungary', 'Hung.', 'HUN', 348, 93030.0, 9930000, 47.0, 20.0, 'eu', '', 'HUN', 'Hungary', '2004-05-01'), (4, 'Austria', 'Aus.', 'AUT', 40, 83858.0, 8205000, 47.33, 13.33, 'eu', '', 'AUT', 'Austria', '1995-01-01'), (4, 'Ireland', 'Ire.', 'IRL', 372, 70280.0, 4622917, 53.0, -8.0, 'eu', '', 'IRL', 'Ireland', '1973-01-01'), (4, 'Lithuania', 'Lith.', 'LTU', 440, 65200.0, 3565000, 56.0, 24.0, 'eu', 'baltics', 'LTU', 'Lithuania', '2004-05-01'), (4, 'Latvia', 'Lat.', 'LVA', 428, 64589.0, 2217969, 57.0, 25.0, 'eu', 'baltics', 'LVA', 'Latvia', '2004-05-01'), (4, 'Croatia', 'Cro.', 'HRV', 191, 56542.0, 4491000, 45.17, 15.5, 'eu', '', 'HRV', 'Croatia', '2013-07-01'), (4, 'Slovakia', 'Slvk.', 'SVK', 703, 48845.0, 5455000, 48.67, 19.5, 'eu', '', 'SVK', 'Slovakia', '2004-05-01'), (4, 'Estonia', 'Est.', 'EST', 233, 45226.0, 1291170, 59.0, 26.0, 'eu', 'baltics', 'EST', 'Estonia', '2004-05-01'), (4, 'Netherlands', 'Neth.', 'NLD', 528, 41526.0, 16645000, 52.5, 5.75, 'eu', 'benelux', 'NLD', 'Netherlands', '1958-01-01'), (4, 'Belgium', 'Bel.', 'BEL', 56, 30510.0, 10403000, 50.83, 4.0, 'eu', 'benelux', 'BEL', 'Belgium', '1958-01-01'), (4, 'Slovenia', 'Slvn.', 'SVN', 705, 20273.0, 2007000, 46.25, 15.17, 'eu', '', 'SVN', 'Slovenia', '2004-05-01'), (4, 'Cyprus', 'Cyp.', 'CYP', 196, 9250.0, 1102677, 35.0, 33.0, 'asia', '', 'CYP', 'Cyprus', '2004-05-01'), (4, 'Luxembourg', 'Lux.', 'LUX', 442, 2586.0, 497538, 49.75, 6.17, 'eu', 'benelux', 'LUX', 'Luxembourg', '1958-01-01'), (4, 'Malta', 'Malta', 'MLT', 470, 316.0, 403000, 35.92, 14.43, 'eu', '', 'MLT', 'Malta', '2004-05-01')]\n",
      "<class 'list'>\n"
     ]
    }
   ],
   "source": [
    "dbCursor = dbConnection.cursor()\n",
    "\n",
    "query = \"\"\"\n",
    "    SELECT *\n",
    "    FROM countries\n",
    "    INNER JOIN eu\n",
    "    ON countries.Code = eu.Code\n",
    "\"\"\"\n",
    "\n",
    "result = dbCursor.execute(query).fetchall()\n",
    "print(result)\n",
    "print(type(result))"
   ]
  },
  {
   "cell_type": "code",
   "execution_count": 154,
   "id": "bc044c71-ee05-45b2-b200-9a06a98ed6dd",
   "metadata": {},
   "outputs": [
    {
     "name": "stdout",
     "output_type": "stream",
     "text": [
      "[('UKR',), ('FRA',), ('ESP',), ('SWE',), ('DEU',), ('FIN',), ('NOR',), ('POL',), ('ITA',), ('GBR',), ('ROU',), ('BLR',), ('GRC',), ('BGR',), ('ISL',), ('PRT',), ('CZE',), ('DNK',), ('HUN',), ('SRB',), ('AUT',), ('IRL',), ('LTU',), ('LVA',), ('HRV',), ('BIH',), ('SVK',), ('EST',), ('NLD',), ('CHE',), ('MDA',), ('BEL',), ('ALB',), ('MKD',), ('SVN',), ('MNE',), ('CYP',), ('LUX',), ('FRO',), ('AND',), ('MLT',), ('LIE',), ('GGY',), ('SMR',), ('GIB',), ('MCO',), ('VAT',)]\n",
      "<class 'list'>\n"
     ]
    }
   ],
   "source": [
    "query = \"\"\"\n",
    "    SELECT Code\n",
    "    FROM countries\n",
    "\"\"\"\n",
    "\n",
    "result = dbCursor.execute(query).fetchall()\n",
    "print(result)\n",
    "print(type(result))"
   ]
  },
  {
   "cell_type": "markdown",
   "id": "2a6640a3-38f5-4561-a6f1-3a4b26e2f39c",
   "metadata": {},
   "source": [
    "<h3>Exercise 2</h3>\n",
    "<p>\n",
    "    Gebruik SQL queries voor het verkrijgen van\n",
    "<ol>\n",
    "    <li>het aantal landen dat onderdeel is van de Nordics</li>\n",
    "    <li>het aantal Europese landen dat lid is van de Europese Unie</li>\n",
    "    <li>het aantal EU-landen dat deel uitmaakt van de Nordics</li>\n",
    "</ol>\n",
    "</p>"
   ]
  },
  {
   "cell_type": "code",
   "execution_count": 161,
   "id": "5c1c1e7a-4668-42ec-8749-9a84fad8940c",
   "metadata": {},
   "outputs": [
    {
     "name": "stdout",
     "output_type": "stream",
     "text": [
      "[('Finland', 'nordics'), ('Norway', 'nordics'), ('Iceland', 'nordics'), ('Denmark', 'nordics')]\n",
      "4\n"
     ]
    }
   ],
   "source": [
    "# 1\n",
    "\n",
    "query = \"\"\"\n",
    "    SELECT name, groups\n",
    "    FROM countries\n",
    "    WHERE groups = 'nordics'\n",
    "\"\"\"\n",
    "\n",
    "result = dbCursor.execute(query).fetchall()\n",
    "print(result)\n",
    "print(len(result))"
   ]
  },
  {
   "cell_type": "code",
   "execution_count": 176,
   "id": "415f9383-c5d7-44cd-b02a-1cbc9d24ebd4",
   "metadata": {},
   "outputs": [
    {
     "name": "stdout",
     "output_type": "stream",
     "text": [
      "[('Austria',), ('Belgium',), ('Bulgaria',), ('Croatia',), ('Cyprus',), ('Czechia',), ('Denmark',), ('Estonia',), ('Finland',), ('France',), ('Germany',), ('Greece',), ('Hungary',), ('Ireland',), ('Italy',), ('Latvia',), ('Lithuania',), ('Luxembourg',), ('Malta',), ('Netherlands',), ('Poland',), ('Portugal',), ('Romania',), ('Slovakia',), ('Slovenia',), ('Spain',), ('Sweden',)]\n",
      "27\n",
      "[('Ukraine',), ('France',), ('Spain',), ('Sweden',), ('Germany',), ('Finland',), ('Norway',), ('Poland',), ('Italy',), ('United Kingdom',), ('Romania',), ('Belarus',), ('Greece',), ('Bulgaria',), ('Iceland',), ('Portugal',), ('Czech Republic',), ('Denmark',), ('Hungary',), ('Serbia',), ('Austria',), ('Ireland',), ('Lithuania',), ('Latvia',), ('Croatia',), ('Bosnia and Herzegovina',), ('Slovakia',), ('Estonia',), ('Netherlands',), ('Switzerland',), ('Moldova',), ('Belgium',), ('Albania',), ('Macedonia',), ('Slovenia',), ('Montenegro',), ('Cyprus',), ('Luxembourg',), ('Faroe Is.',), ('Andorra',), ('Malta',), ('Liechtenstein',), ('Guernsey',), ('San Marino',), ('Gibraltar',), ('Monaco',), ('Vatican City',)]\n",
      "47\n",
      "[('France',), ('Spain',), ('Sweden',), ('Germany',), ('Finland',), ('Poland',), ('Italy',), ('Romania',), ('Greece',), ('Bulgaria',), ('Portugal',), ('Czech Republic',), ('Denmark',), ('Hungary',), ('Austria',), ('Ireland',), ('Lithuania',), ('Latvia',), ('Croatia',), ('Slovakia',), ('Estonia',), ('Netherlands',), ('Belgium',), ('Slovenia',), ('Cyprus',), ('Luxembourg',), ('Malta',)]\n",
      "27\n",
      "[('France',), ('Spain',), ('Sweden',), ('Germany',), ('Finland',), ('Poland',), ('Italy',), ('Romania',), ('Greece',), ('Bulgaria',), ('Portugal',), ('Denmark',), ('Hungary',), ('Austria',), ('Ireland',), ('Lithuania',), ('Latvia',), ('Croatia',), ('Slovakia',), ('Estonia',), ('Netherlands',), ('Belgium',), ('Slovenia',), ('Cyprus',), ('Luxembourg',), ('Malta',)]\n",
      "26\n"
     ]
    }
   ],
   "source": [
    "# 2\n",
    "\n",
    "query = \"\"\"\n",
    "    SELECT name\n",
    "    FROM eu\n",
    "    \n",
    "\"\"\"\n",
    "\n",
    "result = dbCursor.execute(query).fetchall()\n",
    "print(result)\n",
    "print(len(result))\n",
    "\n",
    "query = \"\"\"\n",
    "    SELECT name\n",
    "    FROM countries\n",
    "    \n",
    "\"\"\"\n",
    "\n",
    "result = dbCursor.execute(query).fetchall()\n",
    "print(result)\n",
    "print(len(result))\n",
    "\n",
    "query = \"\"\"\n",
    "    SELECT countries.name\n",
    "    FROM countries\n",
    "    INNER JOIN eu\n",
    "    ON countries.Code = eu.Code\n",
    "\"\"\"\n",
    "\n",
    "result = dbCursor.execute(query).fetchall()\n",
    "print(result)\n",
    "print(len(result))\n",
    "\n",
    "query = \"\"\"\n",
    "    SELECT countries.name\n",
    "    FROM countries\n",
    "    INNER JOIN eu\n",
    "    ON countries.name = eu.Name\n",
    "\"\"\"\n",
    "\n",
    "result = dbCursor.execute(query).fetchall()\n",
    "print(result)\n",
    "print(len(result))\n",
    "\n",
    "# een join op Name geeft een ander resultaat dan een join op Code !!!"
   ]
  },
  {
   "cell_type": "code",
   "execution_count": 178,
   "id": "ee5c326a-bda3-4774-937f-09cb4c4edd90",
   "metadata": {},
   "outputs": [
    {
     "name": "stdout",
     "output_type": "stream",
     "text": [
      "[('Finland',), ('Denmark',)]\n",
      "2\n"
     ]
    }
   ],
   "source": [
    "# 3\n",
    "\n",
    "query = \"\"\"\n",
    "   SELECT countries.name\n",
    "    FROM countries\n",
    "    INNER JOIN eu\n",
    "    ON countries.Code = eu.Code\n",
    "\tWHERE countries.groups = 'nordics'\n",
    "    \n",
    "\"\"\"\n",
    "\n",
    "result = dbCursor.execute(query).fetchall()\n",
    "print(result)\n",
    "print(len(result))\n"
   ]
  },
  {
   "cell_type": "code",
   "execution_count": 116,
   "id": "f57f3aef-7b89-4d09-a064-c63c777bebcf",
   "metadata": {},
   "outputs": [],
   "source": [
    "# Close connection to SQLite database\n",
    "dbConnection.close()"
   ]
  }
 ],
 "metadata": {
  "kernelspec": {
   "display_name": "Python 3 (ipykernel)",
   "language": "python",
   "name": "python3"
  },
  "language_info": {
   "codemirror_mode": {
    "name": "ipython",
    "version": 3
   },
   "file_extension": ".py",
   "mimetype": "text/x-python",
   "name": "python",
   "nbconvert_exporter": "python",
   "pygments_lexer": "ipython3",
   "version": "3.10.9"
  },
  "vscode": {
   "interpreter": {
    "hash": "9d3afc9f718536a562acca7e4195db7e432105a6a5bfa793add3486ed553a0c5"
   }
  }
 },
 "nbformat": 4,
 "nbformat_minor": 5
}
