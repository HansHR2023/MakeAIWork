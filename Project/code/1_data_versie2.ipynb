{
 "cells": [
  {
   "cell_type": "code",
   "execution_count": null,
   "id": "dba16eb0-3ae8-488a-bf30-69be004cd91a",
   "metadata": {},
   "outputs": [],
   "source": []
  },
  {
   "cell_type": "code",
   "execution_count": null,
   "id": "c8aec775-0561-46ef-a479-2600a3eff748",
   "metadata": {},
   "outputs": [],
   "source": []
  },
  {
   "cell_type": "code",
   "execution_count": null,
   "id": "b729d719-890f-438f-a425-bcdf30f735cd",
   "metadata": {},
   "outputs": [],
   "source": []
  },
  {
   "cell_type": "code",
   "execution_count": 9,
   "id": "0a718f78-114f-47e4-aa01-4e36273709c5",
   "metadata": {},
   "outputs": [],
   "source": [
    "import requests\n",
    "import json\n",
    "import pandas as pd"
   ]
  },
  {
   "cell_type": "code",
   "execution_count": 3,
   "id": "9975b5e5-6d05-461b-b671-811f9ce72b47",
   "metadata": {},
   "outputs": [],
   "source": [
    "request = requests.get('http://localhost:8080/medish_centrum_randstad/api/netlify?page=1')"
   ]
  },
  {
   "cell_type": "code",
   "execution_count": 5,
   "id": "d2e00db7-d0c1-40ea-b818-b712af7e7620",
   "metadata": {},
   "outputs": [
    {
     "data": {
      "text/plain": [
       "200"
      ]
     },
     "execution_count": 5,
     "metadata": {},
     "output_type": "execute_result"
    }
   ],
   "source": [
    "request.status_code"
   ]
  },
  {
   "cell_type": "code",
   "execution_count": 7,
   "id": "0b92d1c4-9d27-47cd-a046-5be4aadb2a94",
   "metadata": {},
   "outputs": [
    {
     "data": {
      "text/plain": [
       "'application/json'"
      ]
     },
     "execution_count": 7,
     "metadata": {},
     "output_type": "execute_result"
    }
   ],
   "source": [
    "request.headers['content-type']"
   ]
  },
  {
   "cell_type": "code",
   "execution_count": 10,
   "id": "8106d220-08f2-4df0-a292-ea54cf9f9f1b",
   "metadata": {},
   "outputs": [],
   "source": [
    "df = pd.read_json(request.text)"
   ]
  },
  {
   "cell_type": "code",
   "execution_count": 11,
   "id": "d29e2e32-7f90-415d-b56f-b90aade4a555",
   "metadata": {},
   "outputs": [
    {
     "name": "stdout",
     "output_type": "stream",
     "text": [
      "<class 'pandas.core.frame.DataFrame'>\n",
      "RangeIndex: 8192 entries, 0 to 8191\n",
      "Data columns (total 6 columns):\n",
      " #   Column               Non-Null Count  Dtype \n",
      "---  ------               --------------  ----- \n",
      " 0   status               8192 non-null   int64 \n",
      " 1   total_nr_of_records  8192 non-null   int64 \n",
      " 2   nr_of_pages          8192 non-null   int64 \n",
      " 3   page_size            8192 non-null   int64 \n",
      " 4   next                 8192 non-null   object\n",
      " 5   data                 8192 non-null   object\n",
      "dtypes: int64(4), object(2)\n",
      "memory usage: 384.1+ KB\n"
     ]
    }
   ],
   "source": [
    "df.info()"
   ]
  },
  {
   "cell_type": "code",
   "execution_count": 13,
   "id": "0cba1756-403a-4446-9f80-caaf47df5372",
   "metadata": {},
   "outputs": [],
   "source": [
    "data = df.data"
   ]
  },
  {
   "cell_type": "code",
   "execution_count": 14,
   "id": "11de1cc5-8b09-457e-9cc7-b48b2662c144",
   "metadata": {},
   "outputs": [
    {
     "data": {
      "text/plain": [
       "0       {'genetic': 84, 'length': 180, 'mass': 90, 'ex...\n",
       "1       {'genetic': 84, 'length': 204, 'mass': 79, 'ex...\n",
       "2       {'genetic': 84, 'length': 174, 'mass': 74, 'ex...\n",
       "3       {'genetic': 84, 'length': 187, 'mass': 78, 'ex...\n",
       "4       {'genetic': 84, 'length': 187, 'mass': 89, 'ex...\n",
       "                              ...                        \n",
       "8187    {'genetic': 82, 'length': 185, 'mass': 67, 'ex...\n",
       "8188    {'genetic': 82, 'length': 183, 'mass': 72, 'ex...\n",
       "8189    {'genetic': 83, 'length': 192, 'mass': 92, 'ex...\n",
       "8190    {'genetic': 81, 'length': 175, 'mass': 60, 'ex...\n",
       "8191    {'genetic': 83, 'length': 204, 'mass': 76, 'ex...\n",
       "Name: data, Length: 8192, dtype: object"
      ]
     },
     "execution_count": 14,
     "metadata": {},
     "output_type": "execute_result"
    }
   ],
   "source": [
    "data"
   ]
  },
  {
   "cell_type": "code",
   "execution_count": null,
   "id": "19f868b6-3ac3-47c1-bc02-5cf5ce472c02",
   "metadata": {},
   "outputs": [],
   "source": []
  }
 ],
 "metadata": {
  "kernelspec": {
   "display_name": "Python 3 (ipykernel)",
   "language": "python",
   "name": "python3"
  },
  "language_info": {
   "codemirror_mode": {
    "name": "ipython",
    "version": 3
   },
   "file_extension": ".py",
   "mimetype": "text/x-python",
   "name": "python",
   "nbconvert_exporter": "python",
   "pygments_lexer": "ipython3",
   "version": "3.10.9"
  }
 },
 "nbformat": 4,
 "nbformat_minor": 5
}
