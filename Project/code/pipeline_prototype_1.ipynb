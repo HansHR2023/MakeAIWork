{
 "cells": [
  {
   "cell_type": "code",
   "execution_count": 1,
   "id": "e064ed2d-3f50-4725-abcd-28a4d7c486e5",
   "metadata": {},
   "outputs": [],
   "source": [
    "# ... import the required librairies\n",
    "\n",
    "\n",
    "import seaborn as sns # Samuel Norman \"Sam\" Seaborn is a fictional character portrayed by Rob Lowe on the television serial drama The West Wing. Hence: sns\n",
    "import pandas as pd\n",
    "import datetime as dt"
   ]
  },
  {
   "cell_type": "code",
   "execution_count": 2,
   "id": "41a5c225-55b3-4abd-bf56-51ec21e83342",
   "metadata": {},
   "outputs": [
    {
     "data": {
      "text/html": [
       "<div>\n",
       "<style scoped>\n",
       "    .dataframe tbody tr th:only-of-type {\n",
       "        vertical-align: middle;\n",
       "    }\n",
       "\n",
       "    .dataframe tbody tr th {\n",
       "        vertical-align: top;\n",
       "    }\n",
       "\n",
       "    .dataframe thead th {\n",
       "        text-align: right;\n",
       "    }\n",
       "</style>\n",
       "<table border=\"1\" class=\"dataframe\">\n",
       "  <thead>\n",
       "    <tr style=\"text-align: right;\">\n",
       "      <th></th>\n",
       "      <th>genetic</th>\n",
       "      <th>length</th>\n",
       "      <th>mass</th>\n",
       "      <th>exercise</th>\n",
       "      <th>smoking</th>\n",
       "      <th>alcohol</th>\n",
       "      <th>sugar</th>\n",
       "      <th>lifespan</th>\n",
       "    </tr>\n",
       "  </thead>\n",
       "  <tbody>\n",
       "    <tr>\n",
       "      <th>0</th>\n",
       "      <td>73.9</td>\n",
       "      <td>185</td>\n",
       "      <td>99.7</td>\n",
       "      <td>0.9</td>\n",
       "      <td>0.0</td>\n",
       "      <td>2.4</td>\n",
       "      <td>6.9</td>\n",
       "      <td>73.1</td>\n",
       "    </tr>\n",
       "    <tr>\n",
       "      <th>1</th>\n",
       "      <td>86.0</td>\n",
       "      <td>172</td>\n",
       "      <td>105.4</td>\n",
       "      <td>1.8</td>\n",
       "      <td>8.1</td>\n",
       "      <td>0.4</td>\n",
       "      <td>4.2</td>\n",
       "      <td>85.0</td>\n",
       "    </tr>\n",
       "    <tr>\n",
       "      <th>2</th>\n",
       "      <td>83.3</td>\n",
       "      <td>176</td>\n",
       "      <td>111.4</td>\n",
       "      <td>1.1</td>\n",
       "      <td>0.8</td>\n",
       "      <td>4.6</td>\n",
       "      <td>7.5</td>\n",
       "      <td>81.6</td>\n",
       "    </tr>\n",
       "    <tr>\n",
       "      <th>3</th>\n",
       "      <td>82.8</td>\n",
       "      <td>164</td>\n",
       "      <td>111.4</td>\n",
       "      <td>4.7</td>\n",
       "      <td>11.8</td>\n",
       "      <td>1.0</td>\n",
       "      <td>2.9</td>\n",
       "      <td>81.0</td>\n",
       "    </tr>\n",
       "    <tr>\n",
       "      <th>4</th>\n",
       "      <td>78.7</td>\n",
       "      <td>178</td>\n",
       "      <td>71.6</td>\n",
       "      <td>1.5</td>\n",
       "      <td>8.3</td>\n",
       "      <td>4.9</td>\n",
       "      <td>5.5</td>\n",
       "      <td>75.0</td>\n",
       "    </tr>\n",
       "  </tbody>\n",
       "</table>\n",
       "</div>"
      ],
      "text/plain": [
       "  genetic length   mass exercise  smoking alcohol sugar  lifespan\n",
       "0    73.9    185   99.7      0.9      0.0     2.4   6.9      73.1\n",
       "1    86.0    172  105.4      1.8      8.1     0.4   4.2      85.0\n",
       "2    83.3    176  111.4      1.1      0.8     4.6   7.5      81.6\n",
       "3    82.8    164  111.4      4.7     11.8     1.0   2.9      81.0\n",
       "4    78.7    178   71.6      1.5      8.3     4.9   5.5      75.0"
      ]
     },
     "execution_count": 2,
     "metadata": {},
     "output_type": "execute_result"
    }
   ],
   "source": [
    "# ... import the required .csv file. Change the name to the file you prefer to look at. \n",
    "\n",
    "df= pd.read_csv('data/raw_data_2.csv',skipinitialspace=True)\n",
    "df.head()"
   ]
  },
  {
   "cell_type": "code",
   "execution_count": 4,
   "id": "31835ea6-8ba0-4639-b9ab-33528c858d72",
   "metadata": {},
   "outputs": [
    {
     "data": {
      "text/html": [
       "<div>\n",
       "<style scoped>\n",
       "    .dataframe tbody tr th:only-of-type {\n",
       "        vertical-align: middle;\n",
       "    }\n",
       "\n",
       "    .dataframe tbody tr th {\n",
       "        vertical-align: top;\n",
       "    }\n",
       "\n",
       "    .dataframe thead th {\n",
       "        text-align: right;\n",
       "    }\n",
       "</style>\n",
       "<table border=\"1\" class=\"dataframe\">\n",
       "  <thead>\n",
       "    <tr style=\"text-align: right;\">\n",
       "      <th></th>\n",
       "      <th>smoking</th>\n",
       "      <th>lifespan</th>\n",
       "    </tr>\n",
       "  </thead>\n",
       "  <tbody>\n",
       "    <tr>\n",
       "      <th>count</th>\n",
       "      <td>4096.000000</td>\n",
       "      <td>4096.000000</td>\n",
       "    </tr>\n",
       "    <tr>\n",
       "      <th>mean</th>\n",
       "      <td>9.807446</td>\n",
       "      <td>80.127783</td>\n",
       "    </tr>\n",
       "    <tr>\n",
       "      <th>std</th>\n",
       "      <td>6.921461</td>\n",
       "      <td>8.042270</td>\n",
       "    </tr>\n",
       "    <tr>\n",
       "      <th>min</th>\n",
       "      <td>0.000000</td>\n",
       "      <td>-1.000000</td>\n",
       "    </tr>\n",
       "    <tr>\n",
       "      <th>25%</th>\n",
       "      <td>3.300000</td>\n",
       "      <td>75.000000</td>\n",
       "    </tr>\n",
       "    <tr>\n",
       "      <th>50%</th>\n",
       "      <td>9.500000</td>\n",
       "      <td>79.700000</td>\n",
       "    </tr>\n",
       "    <tr>\n",
       "      <th>75%</th>\n",
       "      <td>15.900000</td>\n",
       "      <td>85.200000</td>\n",
       "    </tr>\n",
       "    <tr>\n",
       "      <th>max</th>\n",
       "      <td>22.200000</td>\n",
       "      <td>105.100000</td>\n",
       "    </tr>\n",
       "  </tbody>\n",
       "</table>\n",
       "</div>"
      ],
      "text/plain": [
       "           smoking     lifespan\n",
       "count  4096.000000  4096.000000\n",
       "mean      9.807446    80.127783\n",
       "std       6.921461     8.042270\n",
       "min       0.000000    -1.000000\n",
       "25%       3.300000    75.000000\n",
       "50%       9.500000    79.700000\n",
       "75%      15.900000    85.200000\n",
       "max      22.200000   105.100000"
      ]
     },
     "execution_count": 4,
     "metadata": {},
     "output_type": "execute_result"
    }
   ],
   "source": [
    "df.describe()"
   ]
  },
  {
   "cell_type": "code",
   "execution_count": 5,
   "id": "14871204-8987-46b5-a959-442998b7af68",
   "metadata": {},
   "outputs": [
    {
     "name": "stdout",
     "output_type": "stream",
     "text": [
      "<class 'pandas.core.frame.DataFrame'>\n",
      "RangeIndex: 4096 entries, 0 to 4095\n",
      "Data columns (total 8 columns):\n",
      " #   Column    Non-Null Count  Dtype  \n",
      "---  ------    --------------  -----  \n",
      " 0   genetic   4096 non-null   object \n",
      " 1   length    4096 non-null   object \n",
      " 2   mass      4096 non-null   object \n",
      " 3   exercise  4096 non-null   object \n",
      " 4   smoking   4096 non-null   float64\n",
      " 5   alcohol   4096 non-null   object \n",
      " 6   sugar     4096 non-null   object \n",
      " 7   lifespan  4096 non-null   float64\n",
      "dtypes: float64(2), object(6)\n",
      "memory usage: 256.1+ KB\n"
     ]
    }
   ],
   "source": [
    "df.info()"
   ]
  },
  {
   "cell_type": "code",
   "execution_count": 6,
   "id": "8f9ae2d4-d627-421b-b202-b4f40de98762",
   "metadata": {},
   "outputs": [
    {
     "data": {
      "text/plain": [
       "genetic     float64\n",
       "length      float64\n",
       "mass        float64\n",
       "exercise    float64\n",
       "smoking     float64\n",
       "alcohol     float64\n",
       "sugar       float64\n",
       "lifespan    float64\n",
       "dtype: object"
      ]
     },
     "execution_count": 6,
     "metadata": {},
     "output_type": "execute_result"
    }
   ],
   "source": [
    "\n",
    "# ... removes turns non-int/non-flo to NaN and removes NaN\n",
    "\n",
    "df['genetic'] = pd.to_numeric(df['genetic'], errors='coerce')\n",
    "df['length'] = pd.to_numeric(df['length'], errors='coerce')\n",
    "df['mass'] = pd.to_numeric(df['mass'], errors='coerce')\n",
    "df['exercise'] = pd.to_numeric(df['exercise'], errors='coerce')\n",
    "df['alcohol'] = pd.to_numeric(df['alcohol'], errors='coerce')\n",
    "df['sugar'] = pd.to_numeric(df['sugar'], errors='coerce')\n",
    "\n",
    "\n",
    "df.astype('float64').dtypes\n",
    "\n"
   ]
  },
  {
   "cell_type": "code",
   "execution_count": null,
   "id": "bae58dee-e944-4700-bf43-43a106f23c2b",
   "metadata": {},
   "outputs": [],
   "source": [
    "# ## ... not used atm \n",
    "# # ... maak een column bmi en een column bmi_category om te kijken of dat impact heeft.  \n",
    "\n",
    "# df['bmi'] = df['mass']/(df['length']/100)**2\n",
    "# df.head()"
   ]
  },
  {
   "cell_type": "code",
   "execution_count": null,
   "id": "f51fad18-c38e-4d64-9f29-9df7c692bd3a",
   "metadata": {},
   "outputs": [],
   "source": [
    "\n",
    "# ... select value to be looked at.\n",
    "\n",
    "key = df.keys()\n",
    "\n",
    "pipe = input('please type the name of the column you want to look at')\n",
    "if pipe in key:\n",
    "    print (f'We will be looking at \"{pipe}\" this time.')\n",
    "else:\n",
    "    print ('Please rerun this field and suply a valid column key.')"
   ]
  },
  {
   "cell_type": "code",
   "execution_count": null,
   "id": "4f79e351-79a9-410c-b57b-73ff54563f27",
   "metadata": {},
   "outputs": [],
   "source": [
    "# # ... get a loc  not used atm\n",
    "# dx=df.columns.get_loc(pipe)\n",
    "# print (dx)"
   ]
  },
  {
   "cell_type": "code",
   "execution_count": null,
   "id": "de2ee502-c15c-4826-9d1e-e20b9a7c3df7",
   "metadata": {},
   "outputs": [],
   "source": [
    "print(df.head())\n",
    "print(df.describe())"
   ]
  },
  {
   "cell_type": "code",
   "execution_count": null,
   "id": "7ffbd593-4625-42fa-a377-c30dcee8e752",
   "metadata": {},
   "outputs": [],
   "source": [
    "# ... test plot not used atm\n",
    "\n",
    "# got any outliers?\n",
    "# sns.boxplot(x=df['lifespan'])\n",
    "\n",
    "# sns.boxplot(df[pipe])\n",
    "\n",
    "\n",
    "#... alles buiten de lijnen is een outlier. "
   ]
  },
  {
   "cell_type": "code",
   "execution_count": null,
   "id": "eff94190-96e9-4b5f-9931-29987622bf91",
   "metadata": {},
   "outputs": [],
   "source": [
    "# ... safe the data from this notebook as a csv in the folder output \n",
    "\n",
    "df.to_csv('../data/output_data/data_{}_{}.csv'.format(pipe,dt.datetime.now().strftime(\"%Y-%m-%d %H-%M\")), index=False,sep=';')"
   ]
  },
  {
   "cell_type": "code",
   "execution_count": null,
   "id": "5586203d-4808-42d9-bb19-0ce4c73d783a",
   "metadata": {},
   "outputs": [],
   "source": []
  },
  {
   "cell_type": "code",
   "execution_count": null,
   "id": "f2166ee4-e476-4a5c-ac28-b6afe99ae8cd",
   "metadata": {},
   "outputs": [],
   "source": [
    "import requests\n",
    "import pandas as pd\n",
    "import seaborn as sns\n",
    "import matplotlib.pyplot as plt\n",
    "import numpy as np\n",
    "from scipy import stats"
   ]
  },
  {
   "cell_type": "markdown",
   "id": "73eb64e6-a19a-4038-9b93-b6c447ae67d2",
   "metadata": {},
   "source": [
    "<h3> Step 0: Data Sanitation </h3>\n",
    "<li> null values (Nan), duplicates, object -> float/int</li>"
   ]
  },
  {
   "cell_type": "code",
   "execution_count": null,
   "id": "2407d685-5d3c-4e81-adf8-6156ff84b3b9",
   "metadata": {},
   "outputs": [],
   "source": [
    "df = df.copy()\n",
    "df.isnull().sum() #why is it missing, is it random? : input (impute) or delete? (some decisions come later outlier analysis, but some can be taken now)\n",
    "df.duplicated().sum()\n",
    "# dupli_rows = df[df.duplicated()]\n",
    "# df.drop.duplicates() \n",
    "# check for special characters ??/>, delete and convert to int/float etc."
   ]
  },
  {
   "cell_type": "markdown",
   "id": "851cfbcf-ff4f-4b72-881e-d02325aa83a3",
   "metadata": {},
   "source": [
    "<h3>Step 1: Simply Look at the Data and state what you already can see</h3>"
   ]
  },
  {
   "cell_type": "code",
   "execution_count": null,
   "id": "1a64d65f-777b-4d96-9c6b-f24ab02f2a97",
   "metadata": {},
   "outputs": [],
   "source": [
    "df.type\n",
    "df.describe()  #mean,sd, min,max"
   ]
  },
  {
   "cell_type": "code",
   "execution_count": null,
   "id": "717a926b-6d09-49d0-a33b-06e03676597f",
   "metadata": {},
   "outputs": [],
   "source": [
    "#jointplot with distribution and regression line\n",
    "sns.jointplot(data=df, x=\"alcohol\", y=\"lifespan\",marginal_kws=dict(bins=35), kind='reg')"
   ]
  },
  {
   "cell_type": "markdown",
   "id": "bab90dd6-2d3b-4d27-a2ce-aa9a98167ab9",
   "metadata": {},
   "source": [
    "<li>Decision: imputing do we detect strange outliers in the data do we impute or delete?</li>"
   ]
  },
  {
   "cell_type": "markdown",
   "id": "2eed2c0c-70c9-4e47-85d5-aeb77cb87e2d",
   "metadata": {},
   "source": [
    "<li> Quick Overall Graphical Overview (!warning, takes ~2min or more)</li>"
   ]
  },
  {
   "cell_type": "code",
   "execution_count": null,
   "id": "f26a4601-714e-47ec-acb3-e05518f0aa69",
   "metadata": {},
   "outputs": [],
   "source": [
    "g = sns.PairGrid(df)\n",
    "g.map(sns.lineplot)"
   ]
  },
  {
   "cell_type": "markdown",
   "id": "82b6ecbd-aae7-48d0-b647-f93b04566f77",
   "metadata": {},
   "source": [
    "<h3> Step 2: Zoom in on individual features </h3>\n",
    "<li> Outliers </li>\n",
    "<li> Strange data points </li>\n",
    "<li> look for correlations: linear/log/etc.</li>\n",
    "<li> Is the feature normally distributed </li>"
   ]
  },
  {
   "cell_type": "code",
   "execution_count": null,
   "id": "fc0cf989-b881-4be1-bb3c-039b12515356",
   "metadata": {},
   "outputs": [],
   "source": [
    "#Show scatter, boxplot a\n",
    "fig, axes = plt.subplots(1,2,figsize=(15,5))\n",
    "sns.stripplot(df, x='alcohol', y='lifespan',size=1, color=\".8\",ax=axes[0])\n",
    "sns.boxplot(df[['alcohol']],ax=axes[1])"
   ]
  },
  {
   "cell_type": "code",
   "execution_count": null,
   "id": "5b5e5401-3fe5-455f-8fc2-2e8328382e47",
   "metadata": {},
   "outputs": [],
   "source": [
    "#Show lineplot and/or jointplot, check for correlation (linear, positive/negative)\n",
    "sns.lineplot(df,x='alcohol',y='lifespan')"
   ]
  },
  {
   "cell_type": "code",
   "execution_count": null,
   "id": "f1b3d1c7-05ae-4e0e-b904-03e17ae74813",
   "metadata": {},
   "outputs": [],
   "source": [
    "sns.jointplot(df, x=\"alcohol\", y=\"lifespan\",marginal_kws=dict(bins=35), kind='reg')"
   ]
  },
  {
   "cell_type": "code",
   "execution_count": null,
   "id": "798191e2-7c71-411c-9595-719b35631c23",
   "metadata": {},
   "outputs": [],
   "source": [
    "#Show Q-Q plot and draw conclusion on linearity and if linear regression is applicable \n",
    "from seaborn_qqplot import pplot\n",
    "myplot = pplot(df, x=\"lifespan\", y=\"alcohol\", kind='qq', height=5)"
   ]
  },
  {
   "cell_type": "markdown",
   "id": "3df5812d-b1e5-45c2-9fbd-db744b914d1f",
   "metadata": {},
   "source": [
    "<h3> Step 4: Correlations of independent variables with dependent variable lifespan</h3>\n",
    "\n",
    "__[Correlation Coefficient](https://en.wikipedia.org/wiki/Pearson_correlation_coefficient)__\n",
    "\n",
    "$ \\rho_{x,y} = \\frac{cov(x,y)}{\\sigma_{x}\\sigma{y}}$\n",
    "\n"
   ]
  },
  {
   "cell_type": "code",
   "execution_count": null,
   "id": "451b887d-0343-411f-98e5-f4167680edea",
   "metadata": {},
   "outputs": [],
   "source": [
    "#colorfull matrix, showing correlations\n",
    "df_corr = df[['lifespan', 'genetic', \n",
    "      #'length', 'mass', \n",
    "      'exercise', 'smoking',\n",
    "       'alcohol', 'sugar', 'BMI']].dropna().corr()\n",
    "df_corr.style.background_gradient(cmap='RdBu')"
   ]
  },
  {
   "cell_type": "code",
   "execution_count": null,
   "id": "bb0c6a78-490c-429d-b8a0-90be863ebf7c",
   "metadata": {},
   "outputs": [],
   "source": [
    "#graphical correlation matrix view\n",
    "sns.heatmap(df_corr,annot=True)"
   ]
  },
  {
   "cell_type": "markdown",
   "id": "f0fba366-2627-42ab-967b-e2c82f95c8cb",
   "metadata": {},
   "source": [
    "<li>Calculate P-values</li>\n",
    "\n",
    "If p<0.05 (almost 0) the correlation for the feature is extremely likely to happen again if we collect more sample data and thus representative for the entire set\n"
   ]
  },
  {
   "cell_type": "code",
   "execution_count": null,
   "id": "118d5d40-624f-4cd7-9c48-42d9d85bbcd6",
   "metadata": {},
   "outputs": [],
   "source": [
    "r,p = stats.pearsonr(df.lifespan,df.smoking)\n",
    "print('smoking corr:',round(r,4))\n",
    "print('smoking p-val:',round(p,4))\n",
    "r,p = stats.pearsonr(df.lifespan,df.exercise)\n",
    "print('exercise corr:',round(r,4))\n",
    "print('exercise p-val:',round(p,4))\n",
    "r,p = stats.pearsonr(df.lifespan,df.genetic) #capital sensitive .<columnname>\n",
    "print('BMI corr:',round(r,4))\n",
    "print('BMI p-val:',round(p,4))"
   ]
  },
  {
   "cell_type": "markdown",
   "id": "e3675499-80a8-48bb-b40c-30141b6843ba",
   "metadata": {},
   "source": [
    "<h3>Step 5: If correlated, linear-ish graph vs lifespan, normal-ish distributed and continuous in R then we can apply linear regression</h3>\n",
    "- Inputs: Smoking, Exercise<br>\n",
    "- Output: Lifespan<br>\n",
    "\n",
    "$ y=\\alpha*x_{smoking}+\\beta*x_{exercise}+c $"
   ]
  },
  {
   "cell_type": "code",
   "execution_count": null,
   "id": "2befe8f2-3a2e-4d71-a842-a4d4dc1bafaf",
   "metadata": {},
   "outputs": [],
   "source": [
    "from sklearn import linear_model \n",
    "from sklearn.model_selection import train_test_split\n",
    "\n",
    "train, test = train_test_split(df, test_size=0.2, random_state=0)\n",
    "\n",
    "X = train[['smoking', 'exercise']]\n",
    "y = train.lifespan\n",
    "regr = linear_model.LinearRegression()\n",
    "regr.fit(X, y) "
   ]
  },
  {
   "cell_type": "code",
   "execution_count": null,
   "id": "621842e7-5593-40de-a6e9-1b28d4c8f928",
   "metadata": {},
   "outputs": [],
   "source": [
    "# The coefficients\n",
    "print('Coefficients: \\n', regr.coef_)\n",
    "print(f'c would be:',regr.predict([[0,0]]))"
   ]
  },
  {
   "cell_type": "markdown",
   "id": "99e8a5de-3de6-4405-9d1b-bebb1006628d",
   "metadata": {},
   "source": [
    "In regression, the $R^{2}$ coefficient of determination is a statistical measure of how well the regression predictions approximate the real data points.  <br>\n",
    "Close to 1 means there is a strong correlation between the independent variables smoking, exercise and the dependent variable lifespan."
   ]
  },
  {
   "cell_type": "code",
   "execution_count": null,
   "id": "a4bddd0b-dafb-4847-8c01-0b5cdc9e41ad",
   "metadata": {},
   "outputs": [],
   "source": [
    "print(train.shape, test.shape)\n",
    "score = regr.score(test[['smoking', 'exercise']],test.lifespan)\n",
    "print(f'coefficient of determination(R\\N{SUPERSCRIPT TWO}):', score)"
   ]
  },
  {
   "cell_type": "markdown",
   "id": "19751559-9e0f-4446-bede-061db07dde2a",
   "metadata": {},
   "source": [
    "<h3>Step 6: Calculate the PremiumFactor for the insurance </h3><br>\n",
    "\n",
    "$ PremiumFactor=\\frac{genetic}{lifespan} $"
   ]
  },
  {
   "cell_type": "code",
   "execution_count": null,
   "id": "2168608f-35a8-437c-a392-1a60858e4f98",
   "metadata": {
    "tags": []
   },
   "outputs": [],
   "source": [
    "import requests\n",
    "import json\n",
    "import pandas as pd\n",
    "import numpy as np\n",
    "import seaborn as sns\n",
    "import matplotlib.pyplot as plt\n",
    "%matplotlib inline\n",
    "sns.set(color_codes=True)"
   ]
  },
  {
   "cell_type": "markdown",
   "id": "8accba29-eb34-4fd7-b30d-4f38ca4816d9",
   "metadata": {},
   "source": [
    "Step 1. Get the data from API and make a dataframe"
   ]
  },
  {
   "cell_type": "code",
   "execution_count": null,
   "id": "7b003428-6250-4451-b619-fd19d1907811",
   "metadata": {
    "tags": []
   },
   "outputs": [],
   "source": [
    "# Make request to an URL\n",
    "response = requests.get('http://localhost:8080/medish_centrum_randstad/api/netlify?page=1')"
   ]
  },
  {
   "cell_type": "code",
   "execution_count": null,
   "id": "4b92f657-a33c-463c-b788-7c6c9a7a0e6a",
   "metadata": {
    "tags": []
   },
   "outputs": [],
   "source": [
    "file_contents= response.json()  #dictionary\n",
    "print(type(file_contents))\n",
    "print(len(file_contents))"
   ]
  },
  {
   "cell_type": "code",
   "execution_count": null,
   "id": "20417fed-ab57-4074-8728-8932e42708df",
   "metadata": {
    "tags": []
   },
   "outputs": [],
   "source": [
    "df = pd.DataFrame.from_dict(file_contents['data']) #all the needed info was condensed into one data column called 'data'\n",
    "display(df.head())\n",
    "display(df.shape)"
   ]
  },
  {
   "cell_type": "code",
   "execution_count": null,
   "id": "7e129e33-b90a-47c7-8711-f9ad31db87b1",
   "metadata": {
    "tags": []
   },
   "outputs": [],
   "source": [
    "df= df[['genetic','length','mass','exercise','smoking','alcohol','sugar','lifespan']]\n",
    "df.dropna(inplace=True)\n",
    "print(df)"
   ]
  },
  {
   "cell_type": "markdown",
   "id": "405ca5b4-1e1a-481e-8ff6-b657ac6e6238",
   "metadata": {},
   "source": [
    "Step 3. Define BMI and Exploratory Data Analysis "
   ]
  },
  {
   "cell_type": "code",
   "execution_count": null,
   "id": "8225c8ce-dac3-4849-b117-c36496791c5a",
   "metadata": {
    "tags": []
   },
   "outputs": [],
   "source": [
    "#Define BMI\n",
    "df['BMI'] = df['mass']/(df['length']/100)**2\n",
    "display(df.head())"
   ]
  },
  {
   "cell_type": "code",
   "execution_count": null,
   "id": "155f43ee-7091-4fb7-a431-f2d93377ff58",
   "metadata": {
    "tags": []
   },
   "outputs": [],
   "source": [
    "#Why is it missing? Is it random?\n",
    "#Impute or delete?\n",
    "df = df.dropna()\n",
    "df.head()"
   ]
  },
  {
   "cell_type": "markdown",
   "id": "804a16e6-27bd-4a98-b2e3-85f0be9c5571",
   "metadata": {},
   "source": [
    "From boxplot we can check the outliers. I tried 2 ways to remove the outliers. One way is using IQR. The ohter way is using DBSCAN cluster. According to correlation gradient there were no differences in coreelation.  Therefore outliers does not make any difference. I decided to keep the outliers."
   ]
  },
  {
   "cell_type": "code",
   "execution_count": null,
   "id": "547aa9be-4cc8-42c2-8bff-f3ab3fddb89c",
   "metadata": {
    "tags": []
   },
   "outputs": [],
   "source": [
    "sns.boxplot(y=df['exercise'])"
   ]
  },
  {
   "cell_type": "markdown",
   "id": "60c6b08d-d3c7-42b7-b1b2-98f42e56401f",
   "metadata": {
    "tags": []
   },
   "source": [
    "#Q1=df['exercise'].quantile(0.25)\n",
    "#print(\"Q1:\", Q1)"
   ]
  },
  {
   "cell_type": "markdown",
   "id": "41ec92c8-32d4-4c86-a4ed-59978ee42397",
   "metadata": {
    "tags": []
   },
   "source": [
    "#Q3=df['exercise'].quantile(0.75)\n",
    "#print(\"Q3:\", Q3)"
   ]
  },
  {
   "cell_type": "markdown",
   "id": "d0172598-05ef-4740-8616-606412966370",
   "metadata": {
    "tags": []
   },
   "source": [
    "#IQR=Q3-Q1\n",
    "#print(\"IQR: \", IQR)"
   ]
  },
  {
   "cell_type": "markdown",
   "id": "665d32a2-675c-499f-ac3e-3e7f907051f8",
   "metadata": {
    "tags": []
   },
   "source": [
    "#lower_bound = Q1 - 1.5*IQR\n",
    "#print(\"Lower Bound:\", lower_bound)"
   ]
  },
  {
   "cell_type": "markdown",
   "id": "d51dabea-12eb-4f2e-8101-1e144d63a398",
   "metadata": {
    "tags": []
   },
   "source": [
    "#upper_bound = Q3 + 1.5*IQR\n",
    "#print(\"Upper Bound:\", upper_bound)"
   ]
  },
  {
   "cell_type": "raw",
   "id": "ee513550-c7b2-4df0-acdf-4230acbfaa87",
   "metadata": {
    "tags": []
   },
   "source": [
    "#df_clean = df[(df['exercise']>lower_bound)&(df['exercise']<upper_bound)]\n",
    "#sns.boxplot(y = df_clean['exercise'])\n",
    "\n",
    "* Clean up outliers."
   ]
  },
  {
   "cell_type": "code",
   "execution_count": null,
   "id": "86d04e32-4009-49c1-a1e8-f447cb56b26d",
   "metadata": {
    "tags": []
   },
   "outputs": [],
   "source": [
    "from sklearn.cluster import DBSCAN"
   ]
  },
  {
   "cell_type": "markdown",
   "id": "942522a9-e012-4c92-bb69-36c9f6b708db",
   "metadata": {},
   "source": [
    "DBSCAN, which stands for density-based spatial clustering of applications with noise, is an unsupervised clustering algorithm. This approach identifies any points that are loosely packed or sit alone outside of densely packed clusters as outliers."
   ]
  },
  {
   "cell_type": "code",
   "execution_count": null,
   "id": "5958af47-cf08-4952-a1e4-2f9e09c08a77",
   "metadata": {
    "tags": []
   },
   "outputs": [],
   "source": [
    "X_train = df[['exercise','lifespan']]"
   ]
  },
  {
   "cell_type": "code",
   "execution_count": null,
   "id": "cde275a1-2e85-4bee-a421-9ba7be36a664",
   "metadata": {
    "tags": []
   },
   "outputs": [],
   "source": [
    "model = DBSCAN()\n",
    "model.fit(X_train)"
   ]
  },
  {
   "cell_type": "code",
   "execution_count": null,
   "id": "7e878ef4-a473-4738-b34e-2254db3136cf",
   "metadata": {
    "tags": []
   },
   "outputs": [],
   "source": [
    "cluster_labels = model.labels_\n",
    "plt.scatter(df[\"exercise\"], df[\"lifespan\"], c = cluster_labels)\n",
    "plt.show()"
   ]
  },
  {
   "cell_type": "code",
   "execution_count": null,
   "id": "ba93f862-a980-4ad4-bd11-69ce0c4d523d",
   "metadata": {
    "tags": []
   },
   "outputs": [],
   "source": [
    "df['labels'] = cluster_labels"
   ]
  },
  {
   "cell_type": "code",
   "execution_count": null,
   "id": "01419b0f-8cd0-46e4-b2ab-9ea07f9bbd0a",
   "metadata": {
    "tags": []
   },
   "outputs": [],
   "source": [
    "df_cluster_clean = df[df['labels'] != -1]"
   ]
  },
  {
   "cell_type": "markdown",
   "id": "d1412486-42df-4194-aa05-61ac25f04c13",
   "metadata": {},
   "source": [
    "* Clean up outliers."
   ]
  },
  {
   "cell_type": "code",
   "execution_count": null,
   "id": "229f9f36-8189-405f-be0b-58274d0d7c68",
   "metadata": {
    "tags": []
   },
   "outputs": [],
   "source": [
    "sns.boxplot(data=df, y= 'lifespan', x='exercise')"
   ]
  },
  {
   "cell_type": "code",
   "execution_count": null,
   "id": "6876836f-33a4-4607-b8a0-5672481462ae",
   "metadata": {
    "tags": []
   },
   "outputs": [],
   "source": [
    "df_corr = df[['genetic',\n",
    "      'length', 'mass', \n",
    "      'exercise', 'smoking',\n",
    "       'alcohol', 'sugar', 'BMI','lifespan']].dropna().corr()\n",
    "df_corr.style.background_gradient(cmap='RdBu')"
   ]
  },
  {
   "cell_type": "markdown",
   "id": "fe1c7968-44ac-4013-9c4f-0028a7b34ebf",
   "metadata": {
    "tags": []
   },
   "source": [
    "lifespan is highly correlated to exercise. IQR method and DBSCAN cluster method showed same result.\n",
    "Therefore we will remove outliers for a variabel,'exercise'."
   ]
  },
  {
   "cell_type": "code",
   "execution_count": null,
   "id": "435ecd6d-3d50-4478-b3a4-ff0e5c30ec0c",
   "metadata": {},
   "outputs": [],
   "source": []
  },
  {
   "cell_type": "code",
   "execution_count": null,
   "id": "b92cacbd-2da7-4d09-84b6-4f70eb7502b3",
   "metadata": {},
   "outputs": [],
   "source": [
    "import pandas as pd\n",
    "import numpy as np\n",
    "import seaborn as sns\n",
    "from seaborn_qqplot import pplot\n",
    "\n",
    "import matplotlib.pyplot as plt\n",
    "%matplotlib inline     \n",
    "sns.set(color_codes=True)"
   ]
  },
  {
   "cell_type": "code",
   "execution_count": null,
   "id": "8a41e9ba-093c-46f8-bf86-8346ac2f3791",
   "metadata": {},
   "outputs": [],
   "source": [
    "df = pd.read_csv('data/new2.csv', index_col = 0)"
   ]
  },
  {
   "cell_type": "code",
   "execution_count": null,
   "id": "84d9a33b-3cf9-42ba-a7eb-2788058f3c44",
   "metadata": {},
   "outputs": [],
   "source": [
    "df"
   ]
  },
  {
   "cell_type": "code",
   "execution_count": null,
   "id": "70c00484-3c29-400c-9e8d-8ab54b96f5c3",
   "metadata": {},
   "outputs": [],
   "source": [
    "# df.drop(indexes_list, inplace=True)\n",
    "df = df.dropna().copy()\n",
    "print(df)"
   ]
  },
  {
   "cell_type": "code",
   "execution_count": null,
   "id": "12cbd2cc-8ff5-436a-a980-c99b0b1c2591",
   "metadata": {},
   "outputs": [],
   "source": [
    "duplicateRows = df[df.duplicated()]\n",
    "print(duplicateRows)"
   ]
  },
  {
   "cell_type": "code",
   "execution_count": null,
   "id": "6cb902c6-fc87-4819-b771-b58965295357",
   "metadata": {},
   "outputs": [],
   "source": [
    "# outliers er uit"
   ]
  },
  {
   "cell_type": "code",
   "execution_count": null,
   "id": "2179abfc-db03-4af0-a9de-43c00bb01ad3",
   "metadata": {},
   "outputs": [],
   "source": [
    "# bmi er bij\n",
    "\n",
    "df['bmi'] = df['mass']/(df['length']/100)**2"
   ]
  },
  {
   "cell_type": "code",
   "execution_count": null,
   "id": "fefbf91d-ef22-4e48-8fe8-1b30dce1c321",
   "metadata": {},
   "outputs": [],
   "source": [
    "bmi_cats = [0, 18.5, 25, np.inf]\n",
    "labels_bmi_cats=['underweight','normal_range','overweight']\n",
    "df['bmi_cat']= pd.cut(df['bmi'], bins=bmi_cats, labels=labels_bmi_cats)\n",
    "\n",
    "bmi_subcats = [0, 16, 17, 18.5, 25, 30, 35, 40, np.inf]\n",
    "labels_bmi_subcats=['severe_thinness','moderate_thinness','mild_thinness','normal', 'pre_obese', 'obese_class_I', 'obese_class_II', 'obese_class_III']\n",
    "df['bmi_subcat']= pd.cut(df['bmi'], bins=bmi_subcats, labels=labels_bmi_subcats)\n",
    "\n",
    "\n",
    "df.head(12)"
   ]
  },
  {
   "cell_type": "code",
   "execution_count": null,
   "id": "7e1f71f7-ae3d-4c9e-a623-b5886aca245c",
   "metadata": {},
   "outputs": [],
   "source": []
  },
  {
   "cell_type": "code",
   "execution_count": null,
   "id": "eb87d816-6670-4f95-a8e9-d06fc165c999",
   "metadata": {},
   "outputs": [],
   "source": []
  },
  {
   "cell_type": "code",
   "execution_count": null,
   "id": "e5b94b15-9e70-41d8-ab17-c904767063ca",
   "metadata": {},
   "outputs": [],
   "source": [
    "# Maak een raster voor 4 images\n",
    "import cv2\n",
    "\n",
    "pImg = cv2.imread(\"pics/aiHealth_01.jpg\")\n",
    "# pImg = pplot(df, x=\"lifespan\", y=\"alcohol\", kind='qq', height=5)\n",
    "\n",
    "fig, axs = plt.subplots(2, 2, sharey=False, figsize=(18,15))\n",
    "\n",
    "\n",
    "axs[0][0].imshow(pImg)\n",
    "pplot(df, x=\"lifespan\", y=\"alcohol\", kind='qq', height=5)\n",
    "\n",
    "sns.boxplot(x=df['sugar'], ax=axs[1,1])\n",
    "\n",
    "axs[0][1].scatter(df['sugar'], df['lifespan'])\n",
    "axs[0][1].set_xlabel('sugar')\n",
    "axs[0][1].set_ylabel('lifespan')\n",
    "\n",
    "sns.catplot(data=df, x='sugar', y='lifespan', kind='box', ax=axs[1,1])\n",
    "\n",
    "sns.lineplot(x=df['sugar'],y=df['lifespan'], ax=axs[1,0])\n",
    "\n",
    "\n",
    "\n",
    "\n",
    "plt.show()\n",
    "\n",
    "# print();"
   ]
  },
  {
   "cell_type": "code",
   "execution_count": null,
   "id": "8fc850dc-f8ac-4b16-8ec8-26b51571cd5e",
   "metadata": {},
   "outputs": [],
   "source": [
    "sns.lineplot(df,x='sugar',y='lifespan')\n"
   ]
  },
  {
   "cell_type": "code",
   "execution_count": null,
   "id": "1bedd230-9254-45a7-8ca5-12af8be93e74",
   "metadata": {},
   "outputs": [],
   "source": [
    "from seaborn_qqplot import pplot\n",
    "pplot(df, x=\"lifespan\", y=\"alcohol\", kind='qq', height=5)"
   ]
  },
  {
   "cell_type": "code",
   "execution_count": null,
   "id": "654b3265-ac6b-46fc-b2fb-4866d98839b4",
   "metadata": {},
   "outputs": [],
   "source": [
    "\n",
    "\n",
    "plt.figure(figsize=(10,5))\n",
    "c= df.corr()\n",
    "sns.heatmap(c,cmap=\"BrBG\",annot=True)\n",
    "c"
   ]
  },
  {
   "cell_type": "code",
   "execution_count": null,
   "id": "6a3bf4ea-c999-4f95-b146-104124884faa",
   "metadata": {},
   "outputs": [],
   "source": []
  },
  {
   "cell_type": "code",
   "execution_count": null,
   "id": "3e5e1021-c6e3-4e45-b115-e357a63a26e9",
   "metadata": {},
   "outputs": [],
   "source": []
  },
  {
   "cell_type": "code",
   "execution_count": null,
   "id": "df78c85e-dea1-4944-bb0d-5c53607ca6c2",
   "metadata": {},
   "outputs": [],
   "source": []
  }
 ],
 "metadata": {
  "kernelspec": {
   "display_name": "Python 3 (ipykernel)",
   "language": "python",
   "name": "python3"
  },
  "language_info": {
   "codemirror_mode": {
    "name": "ipython",
    "version": 3
   },
   "file_extension": ".py",
   "mimetype": "text/x-python",
   "name": "python",
   "nbconvert_exporter": "python",
   "pygments_lexer": "ipython3",
   "version": "3.10.9"
  }
 },
 "nbformat": 4,
 "nbformat_minor": 5
}
