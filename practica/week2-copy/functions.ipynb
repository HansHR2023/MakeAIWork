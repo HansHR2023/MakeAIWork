{
 "cells": [
  {
   "cell_type": "markdown",
   "id": "7eb1c299-98e2-45cb-9af8-8247ab78e8a0",
   "metadata": {},
   "source": [
    "<a href=\"https://it-omscholing.nl/locaties/hogeschool-rotterdam/\">\n",
    "<div>\n",
    "<a><img src='pics/banner.PNG'/></a>\n",
    "</div>\n",
    "<div>\n",
    "<a href=''><img src='pics/miw.PNG'/></a>\n",
    "<em>Author: Jeroen Boogaard</em>\n",
    "</div>\n",
    "</a>"
   ]
  },
  {
   "cell_type": "markdown",
   "id": "f8c3166e-a33e-466b-80ba-026a1d9b469f",
   "metadata": {},
   "source": [
    "<h1>Functies</h1>"
   ]
  },
  {
   "cell_type": "markdown",
   "id": "c9392295-fc66-4c23-b5a1-bd6e77d04144",
   "metadata": {},
   "source": [
    "<h3>Strings</h3>"
   ]
  },
  {
   "cell_type": "markdown",
   "id": "e93ad462-46c4-4028-ace1-b4b84b45a5da",
   "metadata": {},
   "source": [
    "**Functies kunnen worden aangeroepen zonder argument**"
   ]
  },
  {
   "cell_type": "code",
   "execution_count": 1,
   "id": "610cb44d-3ec8-413e-9e83-8f7602ab1481",
   "metadata": {},
   "outputs": [
    {
     "name": "stdout",
     "output_type": "stream",
     "text": [
      "Because of Mercury's elliptical – egg-shaped – orbit, and sluggish rotation, the Sun appears to rise briefly, set, and rise again from some parts of the planet's surface. The same thing happens in reverse at sunset.\n"
     ]
    }
   ],
   "source": [
    "def printExampleString():\n",
    "    print(\"Because of Mercury's elliptical – egg-shaped – orbit, and sluggish rotation, the Sun appears to rise briefly, set, and rise again from some parts of the planet's surface. The same thing happens in reverse at sunset.\")\n",
    "    \n",
    "printExampleString()"
   ]
  },
  {
   "cell_type": "markdown",
   "id": "864dc06d-4fa5-40ad-b407-a28a34084be1",
   "metadata": {},
   "source": [
    "**Gebruik een <i>docstring</i> om een String over meerdere regels te verdelen**"
   ]
  },
  {
   "cell_type": "code",
   "execution_count": null,
   "id": "10ef19a8-1b77-4c99-a3fd-fe4554daa771",
   "metadata": {},
   "outputs": [],
   "source": [
    "def showDocString():\n",
    "    \"\"\"\n",
    "    De docstring is een beschrijving van een functie, die bedoeld is voor de programmeur. \n",
    "    De Python interpreter negeert deze String\n",
    "    \"\"\"\n",
    "\n",
    "print(showDocString.__doc__)"
   ]
  },
  {
   "cell_type": "markdown",
   "id": "1fa654e3-5c01-4cbb-af3b-dceb2fa7ea5a",
   "metadata": {},
   "source": [
    "<h3>Numbers</h3>"
   ]
  },
  {
   "cell_type": "markdown",
   "id": "e536b14f-3bf5-41d8-a00c-1df335cef63d",
   "metadata": {},
   "source": [
    "**Functies kunnen worden aangeroepen met een variabele als argument**"
   ]
  },
  {
   "cell_type": "code",
   "execution_count": null,
   "id": "6c24ec9f-d20e-497c-a3d7-3e28be4ee28f",
   "metadata": {},
   "outputs": [],
   "source": [
    "def milesToKilometers(distance):\n",
    "    return round(distance * 1.609344, 2)\n",
    "\n",
    "distanceInMiles = 11        \n",
    "print( f\"The meteoroid entered the atmosphere at over {int(milesToKilometers(distanceInMiles)*3600)} kilometers per hour.\" )"
   ]
  },
  {
   "cell_type": "markdown",
   "id": "8764da59-d4eb-4703-a1c2-dfa750aea51c",
   "metadata": {},
   "source": [
    "**Het argument van een functie kan <i>optioneel</i> worden gemaakt met een <i>default</i> waarde**"
   ]
  },
  {
   "cell_type": "code",
   "execution_count": 1,
   "id": "9aa67dcd-cf00-43d0-a9f7-94b03f6daf9d",
   "metadata": {},
   "outputs": [
    {
     "name": "stdout",
     "output_type": "stream",
     "text": [
      "A mile is longer than a kilometer and is equivalent to approximately 1.6 kilometers\n"
     ]
    }
   ],
   "source": [
    "def milesToKilometers(distance=1):\n",
    "    return distance * 1.609344\n",
    "\n",
    "print(f\"A mile is longer than a kilometer and is equivalent to approximately { round(milesToKilometers(),1) } kilometers\")"
   ]
  },
  {
   "cell_type": "markdown",
   "id": "ea21995d-c3eb-4a9f-b73e-78b3e72c75c4",
   "metadata": {},
   "source": [
    "<h3>Exercise 7</h3>\n",
    "<p>Schrijf een functie voor het omzetten van een gewicht in <i>pounds</i> naar een <u>geheel aantal</u> <i>kilo's</i></p>"
   ]
  },
  {
   "cell_type": "code",
   "execution_count": 35,
   "id": "62ae6724-341c-4d15-a3ac-7072746d70e8",
   "metadata": {},
   "outputs": [
    {
     "name": "stdout",
     "output_type": "stream",
     "text": [
      "5\n"
     ]
    }
   ],
   "source": [
    "# Oplossing\n",
    "# 1 pound (lbs) = 0.45359237 kg; \n",
    "# 1 kilogram (kg) = 2.20462262 lbs;\n",
    "\n",
    "def pounds_to_kgs(pounds):\n",
    "    return round(0.45359237 * pounds)\n",
    "    \n",
    "example = 12\n",
    "\n",
    "\n",
    "print(pounds_to_kgs(example))"
   ]
  },
  {
   "cell_type": "markdown",
   "id": "5ac2bd1b-62dd-431c-99a4-f659a5c8599e",
   "metadata": {},
   "source": [
    "<h3>Booleans</h3>"
   ]
  },
  {
   "cell_type": "markdown",
   "id": "23590b8a-c805-4c2a-ad6d-8ba9e7f17f05",
   "metadata": {},
   "source": [
    "Volgens de eerste stelling van DeMorgan kun is de expressie <strong>not (p and q</strong>) <u>equivalent</u> aan <strong>(not p) or (not q)</strong>"
   ]
  },
  {
   "cell_type": "code",
   "execution_count": 10,
   "id": "d62120a0-45df-49f9-9998-41e09c0acb54",
   "metadata": {},
   "outputs": [],
   "source": [
    "def deMorgan1(p, q):\n",
    "    return (not p) or (not q)"
   ]
  },
  {
   "cell_type": "markdown",
   "id": "2ede72d8-2fb4-4387-9202-cd52334721f7",
   "metadata": {},
   "source": [
    "**Gebruik een waarheidstabel voor beschrijven van logische functies**"
   ]
  },
  {
   "cell_type": "code",
   "execution_count": 11,
   "id": "cf2642fa-be01-43bc-ac74-3f50c74add66",
   "metadata": {},
   "outputs": [
    {
     "name": "stdout",
     "output_type": "stream",
     "text": [
      "p\tq\tnot(p and q)\t\u001b[1mdeMorgan1(p, q)\u001b[0m\n",
      "False\tFalse\tTrue\t\t\u001b[1mTrue\u001b[0m\n",
      "False\tTrue\tTrue\t\t\u001b[1mTrue\u001b[0m\n",
      "True\tFalse\tTrue\t\t\u001b[1mTrue\u001b[0m\n",
      "True\tTrue\tFalse\t\t\u001b[1mFalse\u001b[0m\n"
     ]
    }
   ],
   "source": [
    "logTable = [f\"p\\tq\\tnot(p and q)\\t\\033[1mdeMorgan1(p, q)\\033[0m\"]\n",
    "for p in [False, True]:\n",
    "    for q in [False, True]:\n",
    "        logTable.append(f\"{p}\\t{q}\\t{ not (p and q) }\\t\\t\\033[1m{ deMorgan1(p,q) }\\033[0m\")\n",
    "\n",
    "print(\"\\n\".join(logTable))\n"
   ]
  },
  {
   "cell_type": "markdown",
   "id": "ad3b0150-ef9b-4bbe-98d3-808e3c87d932",
   "metadata": {},
   "source": [
    "Volgens de tweede stelling van DeMorgan is de expressie <strong>not (p or q</strong>) <u>equivalent</u> aan <strong>(not p) and (not q)</strong>"
   ]
  },
  {
   "cell_type": "markdown",
   "id": "960a380d-cff5-463c-b4ab-ee124f01471b",
   "metadata": {},
   "source": [
    "<h3>Exercise 8</h3>\n",
    "<p>Implementeer de tweede stelling van DeMorgan in een functie <u>bothFalse</u> en toon m.b.v. een waarheidstabel de juiste werking van de functie aan.\n",
    "</p>"
   ]
  },
  {
   "cell_type": "code",
   "execution_count": 16,
   "id": "06311702-5a8f-4840-bb3f-5704d14912f9",
   "metadata": {},
   "outputs": [
    {
     "name": "stdout",
     "output_type": "stream",
     "text": [
      "p\tq\tnot(p or q)\t\u001b[1mdeMorgan2(p, q)\u001b[0m\n",
      "False\tFalse\tTrue\t\t\u001b[1mTrue\u001b[0m\n",
      "False\tTrue\tFalse\t\t\u001b[1mFalse\u001b[0m\n",
      "True\tFalse\tFalse\t\t\u001b[1mFalse\u001b[0m\n",
      "True\tTrue\tFalse\t\t\u001b[1mFalse\u001b[0m\n"
     ]
    }
   ],
   "source": [
    "# Oplossing\n",
    "\n",
    "def deMorgan2(p, q):\n",
    "    return (not p) and (not q)\n",
    "\n",
    "logTable = [f\"p\\tq\\tnot(p or q)\\t\\033[1mdeMorgan2(p, q)\\033[0m\"]\n",
    "for p in [False, True]:\n",
    "    for q in [False, True]:\n",
    "        logTable.append(f\"{p}\\t{q}\\t{ not (p or q) }\\t\\t\\033[1m{ deMorgan2(p,q) }\\033[0m\")\n",
    "\n",
    "print(\"\\n\".join(logTable))"
   ]
  },
  {
   "cell_type": "markdown",
   "id": "5fa081eb-6479-43d5-a46e-0078a54f203b",
   "metadata": {},
   "source": [
    "<h3>Lists</h3>"
   ]
  },
  {
   "cell_type": "code",
   "execution_count": 17,
   "id": "6ea79e2d-704a-413d-a393-81e4298eb11e",
   "metadata": {},
   "outputs": [
    {
     "name": "stdout",
     "output_type": "stream",
     "text": [
      "The lowest value of digits is 0 and 99 is the highest value\n"
     ]
    }
   ],
   "source": [
    "digits = list( range(0,100,3) )\n",
    "print(f\"The lowest value of digits is { min(digits) } and { max(digits) } is the highest value\")"
   ]
  },
  {
   "cell_type": "code",
   "execution_count": 18,
   "id": "84dfab1b-d3cb-45c2-a6bd-0738b3d10de6",
   "metadata": {},
   "outputs": [
    {
     "data": {
      "text/plain": [
       "1683"
      ]
     },
     "execution_count": 18,
     "metadata": {},
     "output_type": "execute_result"
    }
   ],
   "source": [
    "sum(digits)"
   ]
  },
  {
   "cell_type": "markdown",
   "id": "b15614fe-c85c-4cdc-a575-f553c734585e",
   "metadata": {},
   "source": [
    "<h3>Exercise 9</h3>\n",
    "<p>\n",
    "    Schrijf een functie <i>averageOfDigits</i> die het <u>gemiddelde</u> van een lijst <u>gehele getallen</u> berekent en teruggeeft als <u>geheel getal</u>\n",
    "    <br>Retourneer <u>0</u> in geval de lijst <u>leeg</u> is\n",
    "</p>"
   ]
  },
  {
   "cell_type": "code",
   "execution_count": 107,
   "id": "c6bf6571-2329-4ef8-b21a-c1f330395f1c",
   "metadata": {},
   "outputs": [
    {
     "name": "stdout",
     "output_type": "stream",
     "text": [
      "50\n",
      "2\n",
      "4\n"
     ]
    }
   ],
   "source": [
    "# Oplossing\n",
    "\n",
    "# gemiddelde van een lijst = som van alle getallen / lengte van de lijst\n",
    "\n",
    "a = []\n",
    "b = [1, 4]\n",
    "c = [2, 5]\n",
    "# average = sum(digits)/len(digits)\n",
    "\n",
    "def averageOfDigits(di_gits):\n",
    "    if di_gits == []:\n",
    "        return 0\n",
    "    return round(sum(di_gits)/len(di_gits))\n",
    "\n",
    "\n",
    "print(averageOfDigits(digits))\n",
    "\n",
    "print(averageOfDigits(b))\n",
    "print(averageOfDigits(c))\n",
    "\n",
    "# It turns out that round b = 2 and round c = 4 \n",
    "# Use int instead of round doesn't solve the problem: always deletes all digits behind the comma.\n",
    "\n",
    "# Strikt genomen is de opdracht om gehele getallen terug te geven. Er wordt niet gevraagd of die getallen ook juist zijn !\n",
    "# Beter is een functie roundup schrijven die vanaf 0.5 altijd naar boven afrond!\n",
    "# roundup = -(-numerator // denominator)"
   ]
  },
  {
   "cell_type": "code",
   "execution_count": 48,
   "id": "9a5d5d7c-933a-4964-bfd2-9b2ccb98f970",
   "metadata": {},
   "outputs": [],
   "source": [
    "# alternatieven met een mean functie in statistics of numpy\n",
    "\n",
    "import statistics\n",
    "\n",
    "import numpy\n"
   ]
  },
  {
   "cell_type": "code",
   "execution_count": 77,
   "id": "3c2d455a-5fca-46d3-9801-d67ec0eb262f",
   "metadata": {},
   "outputs": [
    {
     "name": "stdout",
     "output_type": "stream",
     "text": [
      "2\n",
      "4\n"
     ]
    }
   ],
   "source": [
    "# print(statistics.mean(a))\n",
    "print(round(statistics.mean(b)))\n",
    "print(round(statistics.mean(c)))\n",
    "\n"
   ]
  },
  {
   "cell_type": "code",
   "execution_count": 79,
   "id": "cc226ba0-b4fb-4fcc-af99-0875b2731554",
   "metadata": {},
   "outputs": [
    {
     "name": "stdout",
     "output_type": "stream",
     "text": [
      "2\n",
      "4\n"
     ]
    }
   ],
   "source": [
    "# numpy.mean(a)\n",
    "print(round(numpy.mean(b)))\n",
    "print(round(numpy.mean(c)))"
   ]
  },
  {
   "cell_type": "code",
   "execution_count": null,
   "id": "548944e4-aaf1-41d2-940b-f6fbbb36f338",
   "metadata": {},
   "outputs": [],
   "source": []
  },
  {
   "cell_type": "code",
   "execution_count": 93,
   "id": "7eaf623a-cda0-4d84-af81-9ed47bbc9a77",
   "metadata": {},
   "outputs": [
    {
     "name": "stdout",
     "output_type": "stream",
     "text": [
      "50\n"
     ]
    }
   ],
   "source": [
    "# Extra exercise: alternatief zonder de sum functie te gebruiken\n",
    "\n",
    "\n",
    "def averageOfDigits2(di_gits):\n",
    "    counter = 0\n",
    "    for i in di_gits:\n",
    "        counter += i\n",
    "    return round(counter/len(di_gits))\n",
    "\n",
    "print(averageOfDigits2(digits))\n",
    "\n",
    "\n",
    "\n",
    "\n",
    "\n"
   ]
  },
  {
   "cell_type": "code",
   "execution_count": null,
   "id": "e605d77e-05b2-44d1-8230-c6eefceebdfa",
   "metadata": {},
   "outputs": [],
   "source": []
  },
  {
   "cell_type": "code",
   "execution_count": null,
   "id": "c3229b2d-5c29-40fb-8b83-ecf753ecb07a",
   "metadata": {},
   "outputs": [],
   "source": []
  },
  {
   "cell_type": "code",
   "execution_count": 109,
   "id": "e3154ec7-3456-4a94-9b57-8065fdb88686",
   "metadata": {},
   "outputs": [
    {
     "data": {
      "text/plain": [
       "3"
      ]
     },
     "execution_count": 109,
     "metadata": {},
     "output_type": "execute_result"
    }
   ],
   "source": [
    "# Extra exercise: maak een functie van de eerdere opdracht om klinkers te tellen\n",
    "\n",
    "def count_vowels(string):\n",
    "    string = string.lower()\n",
    "    vowel = ['a', 'e', 'i','o', 'u','y']\n",
    "    counter = 0\n",
    "    \n",
    "    for char in string:\n",
    "    # Check if character is in vowel\n",
    "        if char in vowel:\n",
    "            counter += 1\n",
    "    return counter\n",
    "    \n",
    "\n",
    "count_vowels(\"Hello World\")"
   ]
  },
  {
   "cell_type": "code",
   "execution_count": 119,
   "id": "b4ee0cbf-ff5f-4dca-8b6b-d380486335bf",
   "metadata": {},
   "outputs": [
    {
     "name": "stdout",
     "output_type": "stream",
     "text": [
      "22\n"
     ]
    }
   ],
   "source": [
    "# Extra exercise: maak een functie met gebruik van args om het gemiddelde te berekenen van een willekeurig aantal ingevoerde getallen\n",
    "\n",
    "# avg(1,2,3) = 2\n",
    "# avg(1,2,3,4,5) = 3\n",
    "\n",
    "\n",
    "# *args and **kwargs allow you to pass multiple arguments or keyword arguments to a function. \n",
    "\n",
    "# ARGS is ARbitrary arGumentS\n",
    "\n",
    "def sum_of_numbers(*numbers):\n",
    "    count = 0\n",
    "    for i in numbers:\n",
    "        count += i\n",
    "    return count\n",
    "\n",
    "print(sum_of_numbers(1,2,3,4,5,7))\n",
    "\n",
    "\n",
    "\n",
    "\n",
    "\n"
   ]
  },
  {
   "cell_type": "code",
   "execution_count": 127,
   "id": "06a28f35-eba1-44d0-9a23-fb882ad23fba",
   "metadata": {},
   "outputs": [
    {
     "name": "stdout",
     "output_type": "stream",
     "text": [
      "479.6\n"
     ]
    }
   ],
   "source": [
    "# shorter\n",
    "\n",
    "def sum_of_numbers2(*numbers):\n",
    "    return sum(*numbers)\n",
    "\n",
    "example = (1,2,3,12,456, 5.6)\n",
    "print(sum_of_numbers2(example))\n",
    "\n"
   ]
  },
  {
   "cell_type": "code",
   "execution_count": 130,
   "id": "cca37224-7d97-4c97-b87d-0d7be119f9f4",
   "metadata": {},
   "outputs": [
    {
     "name": "stdout",
     "output_type": "stream",
     "text": [
      "120\n"
     ]
    }
   ],
   "source": [
    "# Extra exercise: maak een recursive functie voor de Fibonacci reeks tot aan het getal n\n",
    "\n",
    "# Voorbeeld van een recursieve functie is n! berekenen\n",
    "# 5! = 5 * 4 * 3 * 2 * 1 = 120\n",
    "\n",
    "def factorial(n):\n",
    "    if n == 0:\n",
    "        return 1\n",
    "    return n * factorial(n-1)\n",
    "\n",
    "example = 5\n",
    "\n",
    "print(factorial(example))"
   ]
  },
  {
   "cell_type": "code",
   "execution_count": 150,
   "id": "614c02ab-0245-4018-b24d-ed539ca656a4",
   "metadata": {},
   "outputs": [
    {
     "name": "stdout",
     "output_type": "stream",
     "text": [
      "0\n",
      "1\n",
      "1\n",
      "2\n",
      "3\n",
      "5\n",
      "8\n",
      "13\n",
      "21\n",
      "34\n",
      "55\n",
      "89\n"
     ]
    }
   ],
   "source": [
    "# Fibonacci is een reeks getallen, waarbij het volgende getal n de som is van de twee voorgaande getallen (n-2) en (n-1)\n",
    "\n",
    "# bij het begin van de reeks is er voor getal 0 geen voorgaand getal en voor 1 is er een voorgaand getal, terwijl er minimaal 2 voorgaande getallen # nodig zijn\n",
    "\n",
    "def fibonacci(n):\n",
    "    if n == 0:\n",
    "        return 0\n",
    "    if n == 1:\n",
    "        return 1\n",
    "    return fibonacci(n-2) + fibonacci(n-1)\n",
    "\n",
    "example = 12\n",
    "\n",
    "for i in range(example):\n",
    "    print(fibonacci(i))"
   ]
  },
  {
   "cell_type": "code",
   "execution_count": 162,
   "id": "9a918b3a-be87-4488-88fd-8bd53e6d044b",
   "metadata": {},
   "outputs": [
    {
     "name": "stdout",
     "output_type": "stream",
     "text": [
      "0\n",
      "1\n",
      "1\n",
      "2\n",
      "3\n",
      "5\n",
      "8\n",
      "13\n",
      "21\n",
      "34\n",
      "55\n",
      "89\n"
     ]
    }
   ],
   "source": [
    "# shorter version:\n",
    "\n",
    "def fibonacci(n):\n",
    "    if n <= 1:\n",
    "        return n\n",
    "    return fibonacci(n-2) + fibonacci(n-1)\n",
    "\n",
    "example = 12\n",
    "\n",
    "for i in range(example):\n",
    "    print(fibonacci(i))"
   ]
  },
  {
   "cell_type": "code",
   "execution_count": 167,
   "id": "80f48629-e37e-40a9-89f4-f45cfeeca252",
   "metadata": {},
   "outputs": [
    {
     "name": "stdout",
     "output_type": "stream",
     "text": [
      "[0, 1, 1, 2, 3, 5, 8, 13, 21, 34, 55, 89]\n"
     ]
    }
   ],
   "source": [
    "# printen als reeks in een lijst\n",
    "\n",
    "print([fibonacci(i) for i in range(example)])"
   ]
  },
  {
   "cell_type": "code",
   "execution_count": null,
   "id": "924ad2cc-0d0c-4697-9cfa-0deb46ab67d3",
   "metadata": {},
   "outputs": [],
   "source": []
  }
 ],
 "metadata": {
  "kernelspec": {
   "display_name": "Python 3 (ipykernel)",
   "language": "python",
   "name": "python3"
  },
  "language_info": {
   "codemirror_mode": {
    "name": "ipython",
    "version": 3
   },
   "file_extension": ".py",
   "mimetype": "text/x-python",
   "name": "python",
   "nbconvert_exporter": "python",
   "pygments_lexer": "ipython3",
   "version": "3.10.9"
  }
 },
 "nbformat": 4,
 "nbformat_minor": 5
}
