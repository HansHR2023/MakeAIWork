{
 "cells": [
  {
   "cell_type": "markdown",
   "id": "6e93d43b",
   "metadata": {},
   "source": [
    "# Beslissen en herhalen"
   ]
  },
  {
   "cell_type": "markdown",
   "id": "a4f6c97b",
   "metadata": {},
   "source": [
    "Om effectief te kunnen programmeren moet je:\n",
    "\n",
    "#### 1. Weten welke basisinstructies je tot je beschikking hebt\n",
    "Een mooi startpunt is [W3Schools over Python](https://www.w3schools.com/python/default.asp).\n",
    "\n",
    "\n",
    "#### 2. Weten hoe je de juiste instructies kunt vinden\n",
    "De zoektermen volgen uit je literate programming beschrijving en je pseudo code.\n",
    "\n",
    "### Let op!\n",
    "Het kan verleidelijk zijn om de OPLOSSING te googlen, zeker in het begin.\n",
    "\n",
    "##### Als je merkt dat je dit aan het doen bent, dan heb je de literate programming steps niet precies genoeg uitgewerkt.\n",
    "De opdracht is dan te groot en te complex."
   ]
  },
  {
   "cell_type": "markdown",
   "id": "92ed6127",
   "metadata": {},
   "source": [
    "## Basics: beslissen"
   ]
  },
  {
   "cell_type": "markdown",
   "id": "e0b00e53",
   "metadata": {},
   "source": [
    "Bestudeer [if else statements](https://www.w3schools.com/python/python_conditions.asp)\n",
    "\n",
    "(de voorbeelden zijn interactief)"
   ]
  },
  {
   "cell_type": "markdown",
   "id": "eb320abd",
   "metadata": {},
   "source": [
    "### 1. Vergelijken**"
   ]
  },
  {
   "cell_type": "markdown",
   "id": "f522b9d8",
   "metadata": {},
   "source": [
    "- Laat de gebruiker twee woorden invoeren\n",
    "- Geef aan welk woord het langst is\n",
    "- Neem ook het geval dat ze gelijk zijn mee\n",
    "- Print het resultaat\n",
    "\n",
    "Hint: je mag in dit geval [de functie len()](https://www.w3schools.com/python/python_strings.asp) gebruiken"
   ]
  },
  {
   "cell_type": "code",
   "execution_count": 1,
   "id": "0e2aedfa",
   "metadata": {},
   "outputs": [
    {
     "name": "stdin",
     "output_type": "stream",
     "text": [
      "Enter the first word:   qwe\n",
      "Enter the second word:   sdf\n"
     ]
    },
    {
     "name": "stdout",
     "output_type": "stream",
     "text": [
      "The length of the first word is equal to the length of the second word\n"
     ]
    },
    {
     "name": "stdin",
     "output_type": "stream",
     "text": [
      "Enter the first word:   qs\n",
      "Enter the second word:   wedfgfgh\n"
     ]
    },
    {
     "name": "stdout",
     "output_type": "stream",
     "text": [
      "The length of the second word is longer than the first word\n"
     ]
    }
   ],
   "source": [
    "# 1. Formulate a solution\n",
    "# User input for two words\n",
    "\n",
    "# Determine which word is the longest, including: the length of two words can be equal\n",
    "\n",
    "# print result\n",
    "\n",
    "\n",
    "\n",
    "# 2. Implement the solution\n",
    "\n",
    "# User input for two words\n",
    "word1 = input(\"Enter the first word:  \")\n",
    "word2 = input(\"Enter the second word:  \")\n",
    "\n",
    "# Determine which word is the longest, including: the length of two words can be equal\n",
    "if len(word1) > len(word2):\n",
    "    # print result\n",
    "    print(\"The length of the first word is longer than the second word\")\n",
    "if len(word1) < len(word2):\n",
    "    # print result\n",
    "    print(\"The length of the second word is longer than the first word\")\n",
    "if len(word1) == len(word2):\n",
    "    # print result\n",
    "    print(\"The length of the first word is equal to the length of the second word\")\n",
    "    \n",
    "# 2. alternative implementation\n",
    "\n",
    "# User input for two words\n",
    "word3 = input(\"Enter the first word:  \")\n",
    "word4 = input(\"Enter the second word:  \")\n",
    "\n",
    "# Determine which word is the longest, including: the length of two words can be equal\n",
    "if len(word3) > len(word4):\n",
    "    # print result\n",
    "    print(\"The length of the first word is longer than the second word\")\n",
    "elif len(word3) < len(word4):\n",
    "    # print result\n",
    "    print(\"The length of the second word is longer than the first word\")\n",
    "else:\n",
    "    # print result\n",
    "    print(\"The length of the first word is equal to the length of the second word\")\n",
    "\n",
    "\n"
   ]
  },
  {
   "cell_type": "markdown",
   "id": "0b5a8819",
   "metadata": {},
   "source": [
    "### 2. Categoriseren**"
   ]
  },
  {
   "cell_type": "markdown",
   "id": "49270585",
   "metadata": {},
   "source": [
    "- Vraag de gebruiker om een getal\n",
    "- Bepaal of dit getal even is\n",
    "- Print het resultaat\n",
    "\n",
    "Hint: je mag in dit geval de [operatoren '/' en '%'](https://www.w3schools.com/python/python_operators.asp) gebruiken"
   ]
  },
  {
   "cell_type": "code",
   "execution_count": 2,
   "id": "98a288c9",
   "metadata": {},
   "outputs": [
    {
     "name": "stdin",
     "output_type": "stream",
     "text": [
      "Enter a number:   12\n"
     ]
    },
    {
     "name": "stdout",
     "output_type": "stream",
     "text": [
      "The number is even\n"
     ]
    }
   ],
   "source": [
    "# 1. Formulate a solution\n",
    "\n",
    "# User input for a number, make it an integer\n",
    "\n",
    "# Check if number is even\n",
    "\n",
    "# Print result\n",
    "\n",
    "\n",
    "\n",
    "# 2. Implement the solution\n",
    "\n",
    "# User input for a number, make it an integer\n",
    "number1 = int(input(\"Enter a number:  \"))\n",
    "\n",
    "# Check if number is even\n",
    "if number1%2 == 0:\n",
    "    # Print result\n",
    "    print(\"The number is even\")\n",
    "else:\n",
    "    print(\"The number is NOT even\")\n"
   ]
  },
  {
   "cell_type": "markdown",
   "id": "2be34655",
   "metadata": {},
   "source": [
    "## Basics: herhalen"
   ]
  },
  {
   "cell_type": "markdown",
   "id": "8491ff0e",
   "metadata": {},
   "source": [
    "Bestudeer [for loops](https://www.w3schools.com/python/python_for_loops.asp)\n",
    "\n",
    "Bestudeer [while loops](https://www.w3schools.com/python/python_while_loops.asp)\n",
    "\n",
    "(de voorbeelden zijn interactief)"
   ]
  },
  {
   "cell_type": "markdown",
   "id": "af980848",
   "metadata": {},
   "source": [
    "### 1. Printen*"
   ]
  },
  {
   "cell_type": "markdown",
   "id": "120a2dd8",
   "metadata": {},
   "source": [
    "- Print je naam 23 keer uit\n",
    "\n",
    "Extra: kun je er ook een nummer voor zetten?\n",
    "\n",
    "    1. Ruud\n",
    "    2. Ruud\n",
    "    3. Ruud\n",
    "\n",
    "    ...\n",
    "\n",
    "Hint: kijk nog eens naar de les van Jeroen over strings"
   ]
  },
  {
   "cell_type": "code",
   "execution_count": 1,
   "id": "4d8cb9fb",
   "metadata": {},
   "outputs": [
    {
     "name": "stdout",
     "output_type": "stream",
     "text": [
      "1. Hans\n",
      "2. Hans\n",
      "3. Hans\n",
      "4. Hans\n",
      "5. Hans\n",
      "6. Hans\n",
      "7. Hans\n",
      "8. Hans\n",
      "9. Hans\n",
      "10. Hans\n",
      "11. Hans\n",
      "12. Hans\n",
      "13. Hans\n",
      "14. Hans\n",
      "15. Hans\n",
      "16. Hans\n",
      "17. Hans\n",
      "18. Hans\n",
      "19. Hans\n",
      "20. Hans\n",
      "21. Hans\n",
      "22. Hans\n",
      "23. Hans\n"
     ]
    }
   ],
   "source": [
    "# 1. Formulate a solution\n",
    "\n",
    "# Define your name\n",
    "\n",
    "# Print your name 23 times, add a number in front of each row\n",
    "\n",
    "# 2. Implement the solution\n",
    "\n",
    "myName = \"Hans\"\n",
    "number = 1\n",
    "\n",
    "while number <= 23:\n",
    "    print(f\"{number}. {myName}\")\n",
    "    number += 1\n",
    "\n",
    "\n",
    "\n"
   ]
  },
  {
   "cell_type": "markdown",
   "id": "379ec167",
   "metadata": {},
   "source": [
    "### 2. Optellen*"
   ]
  },
  {
   "cell_type": "markdown",
   "id": "d21d8212",
   "metadata": {},
   "source": [
    "- Tel de getallen 0, 1, 2, ... t/m 100 op\n",
    "- Print het resultaat"
   ]
  },
  {
   "cell_type": "code",
   "execution_count": 2,
   "id": "92ac6462",
   "metadata": {},
   "outputs": [
    {
     "name": "stdout",
     "output_type": "stream",
     "text": [
      "5050\n"
     ]
    }
   ],
   "source": [
    "# 1. Formulate a solution\n",
    "\n",
    "# Define the sum as total\n",
    "\n",
    "# Add up the numbers 0 to 100 \n",
    "\n",
    "# Print the result\n",
    "\n",
    "\n",
    "\n",
    "# 2. Implement the solution\n",
    "counter = 0\n",
    "total = 0\n",
    "\n",
    "while counter < 100:\n",
    "    counter += 1\n",
    "    total = total + counter\n",
    "    \n",
    "print(total)\n"
   ]
  },
  {
   "cell_type": "markdown",
   "id": "9d394ec4",
   "metadata": {},
   "source": [
    "### 3. Print een specifieke som**"
   ]
  },
  {
   "cell_type": "markdown",
   "id": "894c9c7e",
   "metadata": {},
   "source": [
    "- Print de som van een getal en het vorige getal\n",
    "- Doe dit van nul tot aan een getal dat de gebruiker invoert"
   ]
  },
  {
   "cell_type": "code",
   "execution_count": 13,
   "id": "d6274b0a",
   "metadata": {},
   "outputs": [
    {
     "name": "stdin",
     "output_type": "stream",
     "text": [
      "Enter a number:   5\n"
     ]
    },
    {
     "name": "stdout",
     "output_type": "stream",
     "text": [
      "The sum of 1 + 0 is 1\n",
      "The sum of 2 + 1 is 3\n",
      "The sum of 3 + 2 is 5\n",
      "The sum of 4 + 3 is 7\n",
      "The sum of 5 + 4 is 9\n"
     ]
    }
   ],
   "source": [
    "# 1. Formulate a solution\n",
    "\n",
    "# start by asking an explanation: what is the exact question?\n",
    "# answer: from 0 to given number -> print the sum of the number and the previous number\n",
    "# problem: if you start with 0 the previous number is -1 -> start with 1\n",
    "\n",
    "# User input for a number, make it an integer\n",
    "\n",
    "# Define counter\n",
    "\n",
    "# calculate the sum of the counter and (counter - 1)\n",
    "\n",
    "# loop through until the input value\n",
    "\n",
    "# print each step\n",
    "\n",
    "\n",
    "# 2. Implement the solution\n",
    "\n",
    "\n",
    "# User input for a number, make it an integer\n",
    "endValue = int(input(\"Enter a number:  \"))\n",
    "counter = 1\n",
    "\n",
    "# calculate the sum of the counter and (counter - 1)\n",
    "while counter <= endValue:\n",
    "    print(f\"The sum of {counter} + {counter - 1} is {counter + counter - 1}\")\n",
    "    counter += 1"
   ]
  },
  {
   "cell_type": "markdown",
   "id": "9e30cf7d",
   "metadata": {},
   "source": [
    "## Gecombineerd"
   ]
  },
  {
   "cell_type": "markdown",
   "id": "d728ef64",
   "metadata": {},
   "source": [
    "### 1. Print alle medeklinkers van een woord of zin***"
   ]
  },
  {
   "cell_type": "markdown",
   "id": "0cfcd436",
   "metadata": {},
   "source": [
    "- Vraag de gebruiker om een woord of zin in te voeren\n",
    "- Print vervolgens alle medeklinkers\n",
    "- Als de invoer een zin is, print dan ook alle spaties en leestekens"
   ]
  },
  {
   "cell_type": "code",
   "execution_count": 1,
   "id": "0112311d",
   "metadata": {},
   "outputs": [
    {
     "name": "stdin",
     "output_type": "stream",
     "text": [
      "Enter a word:   En toen?\n"
     ]
    },
    {
     "name": "stdout",
     "output_type": "stream",
     "text": [
      "n tn?\n"
     ]
    }
   ],
   "source": [
    "# 1. Start simple: take the word \"simpel\"\n",
    "\n",
    "# 2. Explain your solution in words only\n",
    "# Ask user input in a string\n",
    "\n",
    "# Start with the word \"simpel\"\n",
    "# Print the vowels\n",
    "\n",
    "# Next step is user input with a sentence\n",
    "# Print the vowels and print the punctuation marks\n",
    "\n",
    "# Before the start define the vowels and the punctuation marks\n",
    "\n",
    "\n",
    "\n",
    "# 3. Write down your solution in pseudo code\n",
    "\n",
    "# Define vowels\n",
    "# Define punctuation marks\n",
    "\n",
    "# User input for a string\n",
    "# Make the sentence lower case to print the capital letters.\n",
    "\n",
    "# Print the vowels and punctuation marks\n",
    "\n",
    "# Check if isalpha can be used in some way\n",
    "\n",
    "\n",
    "# 4. Implement your pseudo code in Python\n",
    "word = input(\"Enter a word:  \")\n",
    "word = word.lower()\n",
    "vowel = ['a', 'e', 'i', 'ij','o', 'u','y']\n",
    "punctuation = ['.', ',', ' ', ';',':','!','?']\n",
    "result = \"\"\n",
    "\n",
    "\n",
    "# > Loop over each letter in string:\n",
    "for char in word:\n",
    "    # Check if character is vowel or punctuation:\n",
    "    if (char not in vowel) or (char in punctuation):\n",
    "        result += char\n",
    "# Print result\n",
    "print(result)\n",
    "\n",
    "\n",
    "\n",
    "\n",
    "# 5. Extend your solution to the general case"
   ]
  },
  {
   "cell_type": "markdown",
   "id": "ed2dd7e2",
   "metadata": {},
   "source": [
    "### 2. Print een diamant vorm***"
   ]
  },
  {
   "cell_type": "markdown",
   "id": "d8438e85",
   "metadata": {},
   "source": [
    "- Vraag de gebruiker om een hoogte\n",
    "- Print vervolgens een diamant van die hoogte\n",
    "\n",
    "Hint: zijn er hoogtes waarvoor dit niet lukt? Zo ja, laat de gebruiker dit dan weten."
   ]
  },
  {
   "cell_type": "code",
   "execution_count": 5,
   "id": "8c5501e3",
   "metadata": {},
   "outputs": [
    {
     "name": "stdin",
     "output_type": "stream",
     "text": [
      "Enter an odd number:  6\n"
     ]
    },
    {
     "name": "stdout",
     "output_type": "stream",
     "text": [
      "The number is even, so we added 1 to make it odd\n",
      "    *\n",
      "   ***\n",
      "  *****\n",
      " *******\n",
      "  *****\n",
      "   ***\n",
      "    *\n",
      "     \n",
      "      \n",
      "       \n"
     ]
    }
   ],
   "source": [
    "# An example with height 7\n",
    "\n",
    "#    *\n",
    "#   ***\n",
    "#  *****\n",
    "# *******\n",
    "#  *****\n",
    "#   ***\n",
    "#    *\n",
    "\n",
    "# 1. Start simple: take the example above\n",
    "\n",
    "# 2. Explain your solution in words only\n",
    "\n",
    "# You can print a diamond if the number of stars is is odd. For an even amount of stars, ask for a number that is odd, or add a star. The same is true for the amount of rows. And the amount of stars is the same as the amount of rows.\n",
    "\n",
    "# You have to print spaces until the first star and spaces after the star. You have to do this on eacht row. \n",
    "\n",
    "\n",
    "\n",
    "# 3. Write down your solution in pseudo code\n",
    "\n",
    "# User input for number of stars\n",
    "\n",
    "# Define number of stars\n",
    "# Define number of spaces with floor division: 7//2 == 3 stars etc\n",
    "\n",
    "# Print number of spaces and stars\n",
    "\n",
    "# Top of the diamond: Loop over the numbers, increase the stars and decrease the spaces, until max number of stars \n",
    "\n",
    "# Bottom of the diamond: Loop over the numbers, decrease the stars and increase the spaces, until max number of stars \n",
    "\n",
    "\n",
    "# Print the spaces and stars\n",
    "\n",
    "\n",
    "# Some thoughts about the code implementation:\n",
    "\n",
    "# print(\" \"*3 + \"*\"*1 + \" \"*3)\n",
    "# print(\" \"*2 + \"*\"*3 + \" \"*2)\n",
    "# print(\" \"*1 + \"*\"*5 + \" \"*1)\n",
    "# print(\" \"*0 + \"*\"*7 + \" \"*0)\n",
    "# print(\" \"*1 + \"*\"*5 + \" \"*1)\n",
    "# print(\" \"*2 + \"*\"*3 + \" \"*2)\n",
    "# print(\" \"*3 + \"*\"*1 + \" \"*3)\n",
    "\n",
    "# stars = 7\n",
    "# spaces = 0\n",
    "# count = 0\n",
    "\n",
    "# print(\" \"*3 + \"*\"*1 + \" \"*3)\n",
    "# print(\" \"*2 + \"*\"*3 + \" \"*2)\n",
    "# print(\" \"*1 + \"*\"*(num-2) + \" \"*1)\n",
    "# print(\" \"*0 + \"*\"*num + \" \"*count)\n",
    "# print(\" \"*1 + \"*\"*(num-2) + \" \"*count)\n",
    "# print(\" \"*2 + \"*\"*(num-2) + \" \"*count)\n",
    "# print(\" \"*3 + \"*\"*(num-2) + \" \"*count)\n",
    "\n",
    "# but the third count, the addiction of spaces, can be left out!!!\n",
    "\n",
    "# 4. Implement your pseudo code in Python\n",
    "\n",
    "stars = int(input('Enter an odd number: '))\n",
    "count_stars = 1\n",
    "count_spaces = stars//2 \n",
    "\n",
    "if stars%2 == 0:\n",
    "    print(\"The number is even, so we added 1 to make it odd\")\n",
    "    \n",
    "for i in range(count_spaces):\n",
    "    print(\" \" * count_spaces, \"*\" * count_stars)\n",
    "    count_stars += 2\n",
    "    count_spaces-= 1\n",
    "for i in range(count_stars):\n",
    "    print(\" \" * count_spaces, \"*\" * count_stars)\n",
    "    count_stars -= 2\n",
    "    count_spaces += 1\n",
    "    \n",
    "# this solutions also works for even numbers!"
   ]
  },
  {
   "cell_type": "code",
   "execution_count": null,
   "id": "c39b4c8e-7342-47d5-b5ab-66bb89ca18f8",
   "metadata": {},
   "outputs": [],
   "source": []
  },
  {
   "cell_type": "code",
   "execution_count": null,
   "id": "10597bbe-f65d-43cc-a9e1-4ba2f2c08032",
   "metadata": {},
   "outputs": [],
   "source": []
  },
  {
   "cell_type": "code",
   "execution_count": null,
   "id": "f9967b1f-2cb6-4f51-9ac8-94e6f95958be",
   "metadata": {},
   "outputs": [],
   "source": []
  },
  {
   "cell_type": "code",
   "execution_count": null,
   "id": "5379312c-18d5-4d02-85a3-596c4fc3138a",
   "metadata": {},
   "outputs": [],
   "source": []
  }
 ],
 "metadata": {
  "kernelspec": {
   "display_name": "Python 3 (ipykernel)",
   "language": "python",
   "name": "python3"
  },
  "language_info": {
   "codemirror_mode": {
    "name": "ipython",
    "version": 3
   },
   "file_extension": ".py",
   "mimetype": "text/x-python",
   "name": "python",
   "nbconvert_exporter": "python",
   "pygments_lexer": "ipython3",
   "version": "3.10.9"
  }
 },
 "nbformat": 4,
 "nbformat_minor": 5
}
