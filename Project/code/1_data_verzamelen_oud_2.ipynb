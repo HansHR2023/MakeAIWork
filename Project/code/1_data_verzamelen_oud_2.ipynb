{
 "cells": [
  {
   "cell_type": "markdown",
   "id": "8ff21ea5-4315-4c95-9e45-3097abb00d7a",
   "metadata": {},
   "source": [
    "<div>\n",
    "    <em><h1>Health Marketing</h1></em>\n",
    "    <img width=\"10%\" height=\"10%\" src='pics/aiHealth_01.jpg'/>\n",
    "    \n",
    "    \n",
    "</div>\n",
    "<div>\n",
    "    <p>\n",
    "    <em>Stap 1:</em>\n",
    "    <br>\n",
    "    <em>Data verzamelen</em>\n",
    "        <br>\n",
    "    <em>Author: Hans Olthoff</em>\n",
    "    </p>    \n",
    "</div>\n",
    "\n"
   ]
  },
  {
   "cell_type": "code",
   "execution_count": null,
   "id": "c8aec775-0561-46ef-a479-2600a3eff748",
   "metadata": {},
   "outputs": [],
   "source": []
  },
  {
   "cell_type": "code",
   "execution_count": null,
   "id": "b729d719-890f-438f-a425-bcdf30f735cd",
   "metadata": {},
   "outputs": [],
   "source": []
  },
  {
   "cell_type": "code",
   "execution_count": 1,
   "id": "0a718f78-114f-47e4-aa01-4e36273709c5",
   "metadata": {},
   "outputs": [],
   "source": [
    "import requests\n",
    "import json\n",
    "import pandas as pd"
   ]
  },
  {
   "cell_type": "code",
   "execution_count": 2,
   "id": "9975b5e5-6d05-461b-b671-811f9ce72b47",
   "metadata": {},
   "outputs": [],
   "source": [
    "request = requests.get('http://localhost:8080/medish_centrum_randstad/api/netlify?page=1')"
   ]
  },
  {
   "cell_type": "code",
   "execution_count": 3,
   "id": "d2e00db7-d0c1-40ea-b818-b712af7e7620",
   "metadata": {},
   "outputs": [
    {
     "data": {
      "text/plain": [
       "200"
      ]
     },
     "execution_count": 3,
     "metadata": {},
     "output_type": "execute_result"
    }
   ],
   "source": [
    "request.status_code"
   ]
  },
  {
   "cell_type": "code",
   "execution_count": 4,
   "id": "0b92d1c4-9d27-47cd-a046-5be4aadb2a94",
   "metadata": {},
   "outputs": [
    {
     "data": {
      "text/plain": [
       "'application/json'"
      ]
     },
     "execution_count": 4,
     "metadata": {},
     "output_type": "execute_result"
    }
   ],
   "source": [
    "request.headers['content-type']"
   ]
  },
  {
   "cell_type": "code",
   "execution_count": 5,
   "id": "8106d220-08f2-4df0-a292-ea54cf9f9f1b",
   "metadata": {},
   "outputs": [],
   "source": [
    "df = pd.read_json(request.text)"
   ]
  },
  {
   "cell_type": "code",
   "execution_count": 11,
   "id": "d29e2e32-7f90-415d-b56f-b90aade4a555",
   "metadata": {},
   "outputs": [
    {
     "name": "stdout",
     "output_type": "stream",
     "text": [
      "<class 'pandas.core.frame.DataFrame'>\n",
      "RangeIndex: 8192 entries, 0 to 8191\n",
      "Data columns (total 6 columns):\n",
      " #   Column               Non-Null Count  Dtype \n",
      "---  ------               --------------  ----- \n",
      " 0   status               8192 non-null   int64 \n",
      " 1   total_nr_of_records  8192 non-null   int64 \n",
      " 2   nr_of_pages          8192 non-null   int64 \n",
      " 3   page_size            8192 non-null   int64 \n",
      " 4   next                 8192 non-null   object\n",
      " 5   data                 8192 non-null   object\n",
      "dtypes: int64(4), object(2)\n",
      "memory usage: 384.1+ KB\n"
     ]
    }
   ],
   "source": [
    "df.info()"
   ]
  },
  {
   "cell_type": "code",
   "execution_count": 13,
   "id": "0cba1756-403a-4446-9f80-caaf47df5372",
   "metadata": {},
   "outputs": [],
   "source": [
    "data = df.data"
   ]
  },
  {
   "cell_type": "code",
   "execution_count": 14,
   "id": "11de1cc5-8b09-457e-9cc7-b48b2662c144",
   "metadata": {},
   "outputs": [
    {
     "data": {
      "text/plain": [
       "0       {'genetic': 84, 'length': 180, 'mass': 90, 'ex...\n",
       "1       {'genetic': 84, 'length': 204, 'mass': 79, 'ex...\n",
       "2       {'genetic': 84, 'length': 174, 'mass': 74, 'ex...\n",
       "3       {'genetic': 84, 'length': 187, 'mass': 78, 'ex...\n",
       "4       {'genetic': 84, 'length': 187, 'mass': 89, 'ex...\n",
       "                              ...                        \n",
       "8187    {'genetic': 82, 'length': 185, 'mass': 67, 'ex...\n",
       "8188    {'genetic': 82, 'length': 183, 'mass': 72, 'ex...\n",
       "8189    {'genetic': 83, 'length': 192, 'mass': 92, 'ex...\n",
       "8190    {'genetic': 81, 'length': 175, 'mass': 60, 'ex...\n",
       "8191    {'genetic': 83, 'length': 204, 'mass': 76, 'ex...\n",
       "Name: data, Length: 8192, dtype: object"
      ]
     },
     "execution_count": 14,
     "metadata": {},
     "output_type": "execute_result"
    }
   ],
   "source": [
    "data"
   ]
  },
  {
   "cell_type": "code",
   "execution_count": null,
   "id": "19f868b6-3ac3-47c1-bc02-5cf5ce472c02",
   "metadata": {},
   "outputs": [],
   "source": []
  },
  {
   "cell_type": "code",
   "execution_count": null,
   "id": "e451e25b-cd8e-457f-bae0-d3f23d1c5642",
   "metadata": {},
   "outputs": [],
   "source": [
    "Add step 1 and csv files"
   ]
  },
  {
   "cell_type": "code",
   "execution_count": null,
   "id": "3fc83b97-4f64-4281-8bd6-b7afcee3dbdb",
   "metadata": {},
   "outputs": [],
   "source": []
  },
  {
   "cell_type": "code",
   "execution_count": null,
   "id": "8e354734-2434-48db-a9a4-e358d5b32310",
   "metadata": {},
   "outputs": [],
   "source": []
  },
  {
   "cell_type": "code",
   "execution_count": 6,
   "id": "115d55b1-82fa-486a-af9b-488a3ded0203",
   "metadata": {},
   "outputs": [
    {
     "name": "stdout",
     "output_type": "stream",
     "text": [
      "<class 'pandas.core.frame.DataFrame'>\n",
      "RangeIndex: 8192 entries, 0 to 8191\n",
      "Data columns (total 6 columns):\n",
      " #   Column               Non-Null Count  Dtype \n",
      "---  ------               --------------  ----- \n",
      " 0   status               8192 non-null   int64 \n",
      " 1   total_nr_of_records  8192 non-null   int64 \n",
      " 2   nr_of_pages          8192 non-null   int64 \n",
      " 3   page_size            8192 non-null   int64 \n",
      " 4   next                 8192 non-null   object\n",
      " 5   data                 8192 non-null   object\n",
      "dtypes: int64(4), object(2)\n",
      "memory usage: 384.1+ KB\n"
     ]
    }
   ],
   "source": [
    "df.info()"
   ]
  },
  {
   "cell_type": "code",
   "execution_count": 7,
   "id": "7ef55fef-4378-479e-b412-075c7eb62e13",
   "metadata": {},
   "outputs": [
    {
     "data": {
      "text/html": [
       "<div>\n",
       "<style scoped>\n",
       "    .dataframe tbody tr th:only-of-type {\n",
       "        vertical-align: middle;\n",
       "    }\n",
       "\n",
       "    .dataframe tbody tr th {\n",
       "        vertical-align: top;\n",
       "    }\n",
       "\n",
       "    .dataframe thead th {\n",
       "        text-align: right;\n",
       "    }\n",
       "</style>\n",
       "<table border=\"1\" class=\"dataframe\">\n",
       "  <thead>\n",
       "    <tr style=\"text-align: right;\">\n",
       "      <th></th>\n",
       "      <th>status</th>\n",
       "      <th>total_nr_of_records</th>\n",
       "      <th>nr_of_pages</th>\n",
       "      <th>page_size</th>\n",
       "      <th>next</th>\n",
       "      <th>data</th>\n",
       "    </tr>\n",
       "  </thead>\n",
       "  <tbody>\n",
       "    <tr>\n",
       "      <th>0</th>\n",
       "      <td>200</td>\n",
       "      <td>8192</td>\n",
       "      <td>82</td>\n",
       "      <td>100</td>\n",
       "      <td>http://localhost:8080/medish_centrum_randstad/...</td>\n",
       "      <td>{'genetic': 84, 'length': 180, 'mass': 90, 'ex...</td>\n",
       "    </tr>\n",
       "    <tr>\n",
       "      <th>1</th>\n",
       "      <td>200</td>\n",
       "      <td>8192</td>\n",
       "      <td>82</td>\n",
       "      <td>100</td>\n",
       "      <td>http://localhost:8080/medish_centrum_randstad/...</td>\n",
       "      <td>{'genetic': 84, 'length': 204, 'mass': 79, 'ex...</td>\n",
       "    </tr>\n",
       "    <tr>\n",
       "      <th>2</th>\n",
       "      <td>200</td>\n",
       "      <td>8192</td>\n",
       "      <td>82</td>\n",
       "      <td>100</td>\n",
       "      <td>http://localhost:8080/medish_centrum_randstad/...</td>\n",
       "      <td>{'genetic': 84, 'length': 174, 'mass': 74, 'ex...</td>\n",
       "    </tr>\n",
       "    <tr>\n",
       "      <th>3</th>\n",
       "      <td>200</td>\n",
       "      <td>8192</td>\n",
       "      <td>82</td>\n",
       "      <td>100</td>\n",
       "      <td>http://localhost:8080/medish_centrum_randstad/...</td>\n",
       "      <td>{'genetic': 84, 'length': 187, 'mass': 78, 'ex...</td>\n",
       "    </tr>\n",
       "    <tr>\n",
       "      <th>4</th>\n",
       "      <td>200</td>\n",
       "      <td>8192</td>\n",
       "      <td>82</td>\n",
       "      <td>100</td>\n",
       "      <td>http://localhost:8080/medish_centrum_randstad/...</td>\n",
       "      <td>{'genetic': 84, 'length': 187, 'mass': 89, 'ex...</td>\n",
       "    </tr>\n",
       "    <tr>\n",
       "      <th>...</th>\n",
       "      <td>...</td>\n",
       "      <td>...</td>\n",
       "      <td>...</td>\n",
       "      <td>...</td>\n",
       "      <td>...</td>\n",
       "      <td>...</td>\n",
       "    </tr>\n",
       "    <tr>\n",
       "      <th>8187</th>\n",
       "      <td>200</td>\n",
       "      <td>8192</td>\n",
       "      <td>82</td>\n",
       "      <td>100</td>\n",
       "      <td>http://localhost:8080/medish_centrum_randstad/...</td>\n",
       "      <td>{'genetic': 82, 'length': 185, 'mass': 67, 'ex...</td>\n",
       "    </tr>\n",
       "    <tr>\n",
       "      <th>8188</th>\n",
       "      <td>200</td>\n",
       "      <td>8192</td>\n",
       "      <td>82</td>\n",
       "      <td>100</td>\n",
       "      <td>http://localhost:8080/medish_centrum_randstad/...</td>\n",
       "      <td>{'genetic': 82, 'length': 183, 'mass': 72, 'ex...</td>\n",
       "    </tr>\n",
       "    <tr>\n",
       "      <th>8189</th>\n",
       "      <td>200</td>\n",
       "      <td>8192</td>\n",
       "      <td>82</td>\n",
       "      <td>100</td>\n",
       "      <td>http://localhost:8080/medish_centrum_randstad/...</td>\n",
       "      <td>{'genetic': 83, 'length': 192, 'mass': 92, 'ex...</td>\n",
       "    </tr>\n",
       "    <tr>\n",
       "      <th>8190</th>\n",
       "      <td>200</td>\n",
       "      <td>8192</td>\n",
       "      <td>82</td>\n",
       "      <td>100</td>\n",
       "      <td>http://localhost:8080/medish_centrum_randstad/...</td>\n",
       "      <td>{'genetic': 81, 'length': 175, 'mass': 60, 'ex...</td>\n",
       "    </tr>\n",
       "    <tr>\n",
       "      <th>8191</th>\n",
       "      <td>200</td>\n",
       "      <td>8192</td>\n",
       "      <td>82</td>\n",
       "      <td>100</td>\n",
       "      <td>http://localhost:8080/medish_centrum_randstad/...</td>\n",
       "      <td>{'genetic': 83, 'length': 204, 'mass': 76, 'ex...</td>\n",
       "    </tr>\n",
       "  </tbody>\n",
       "</table>\n",
       "<p>8192 rows × 6 columns</p>\n",
       "</div>"
      ],
      "text/plain": [
       "      status  total_nr_of_records  nr_of_pages  page_size  \\\n",
       "0        200                 8192           82        100   \n",
       "1        200                 8192           82        100   \n",
       "2        200                 8192           82        100   \n",
       "3        200                 8192           82        100   \n",
       "4        200                 8192           82        100   \n",
       "...      ...                  ...          ...        ...   \n",
       "8187     200                 8192           82        100   \n",
       "8188     200                 8192           82        100   \n",
       "8189     200                 8192           82        100   \n",
       "8190     200                 8192           82        100   \n",
       "8191     200                 8192           82        100   \n",
       "\n",
       "                                                   next  \\\n",
       "0     http://localhost:8080/medish_centrum_randstad/...   \n",
       "1     http://localhost:8080/medish_centrum_randstad/...   \n",
       "2     http://localhost:8080/medish_centrum_randstad/...   \n",
       "3     http://localhost:8080/medish_centrum_randstad/...   \n",
       "4     http://localhost:8080/medish_centrum_randstad/...   \n",
       "...                                                 ...   \n",
       "8187  http://localhost:8080/medish_centrum_randstad/...   \n",
       "8188  http://localhost:8080/medish_centrum_randstad/...   \n",
       "8189  http://localhost:8080/medish_centrum_randstad/...   \n",
       "8190  http://localhost:8080/medish_centrum_randstad/...   \n",
       "8191  http://localhost:8080/medish_centrum_randstad/...   \n",
       "\n",
       "                                                   data  \n",
       "0     {'genetic': 84, 'length': 180, 'mass': 90, 'ex...  \n",
       "1     {'genetic': 84, 'length': 204, 'mass': 79, 'ex...  \n",
       "2     {'genetic': 84, 'length': 174, 'mass': 74, 'ex...  \n",
       "3     {'genetic': 84, 'length': 187, 'mass': 78, 'ex...  \n",
       "4     {'genetic': 84, 'length': 187, 'mass': 89, 'ex...  \n",
       "...                                                 ...  \n",
       "8187  {'genetic': 82, 'length': 185, 'mass': 67, 'ex...  \n",
       "8188  {'genetic': 82, 'length': 183, 'mass': 72, 'ex...  \n",
       "8189  {'genetic': 83, 'length': 192, 'mass': 92, 'ex...  \n",
       "8190  {'genetic': 81, 'length': 175, 'mass': 60, 'ex...  \n",
       "8191  {'genetic': 83, 'length': 204, 'mass': 76, 'ex...  \n",
       "\n",
       "[8192 rows x 6 columns]"
      ]
     },
     "execution_count": 7,
     "metadata": {},
     "output_type": "execute_result"
    }
   ],
   "source": [
    "df"
   ]
  },
  {
   "cell_type": "code",
   "execution_count": 8,
   "id": "e0de524a-4922-40ea-8ba9-066b9b760842",
   "metadata": {},
   "outputs": [],
   "source": [
    "dict1 = df['data']"
   ]
  },
  {
   "cell_type": "code",
   "execution_count": 9,
   "id": "823952f7-aa87-4e38-9a0a-c734da78a523",
   "metadata": {},
   "outputs": [
    {
     "data": {
      "text/plain": [
       "0       {'genetic': 84, 'length': 180, 'mass': 90, 'ex...\n",
       "1       {'genetic': 84, 'length': 204, 'mass': 79, 'ex...\n",
       "2       {'genetic': 84, 'length': 174, 'mass': 74, 'ex...\n",
       "3       {'genetic': 84, 'length': 187, 'mass': 78, 'ex...\n",
       "4       {'genetic': 84, 'length': 187, 'mass': 89, 'ex...\n",
       "                              ...                        \n",
       "8187    {'genetic': 82, 'length': 185, 'mass': 67, 'ex...\n",
       "8188    {'genetic': 82, 'length': 183, 'mass': 72, 'ex...\n",
       "8189    {'genetic': 83, 'length': 192, 'mass': 92, 'ex...\n",
       "8190    {'genetic': 81, 'length': 175, 'mass': 60, 'ex...\n",
       "8191    {'genetic': 83, 'length': 204, 'mass': 76, 'ex...\n",
       "Name: data, Length: 8192, dtype: object"
      ]
     },
     "execution_count": 9,
     "metadata": {},
     "output_type": "execute_result"
    }
   ],
   "source": [
    "dict1"
   ]
  },
  {
   "cell_type": "code",
   "execution_count": 10,
   "id": "366cb512-889a-480d-a6ef-026bd505f823",
   "metadata": {},
   "outputs": [],
   "source": [
    "dict2 = df[\"data\"].to_dict()"
   ]
  },
  {
   "cell_type": "code",
   "execution_count": 11,
   "id": "ecf96b89-ce19-4d44-b6fc-65a3283ebf9d",
   "metadata": {},
   "outputs": [],
   "source": [
    "dict3 = dict2[8122]"
   ]
  },
  {
   "cell_type": "code",
   "execution_count": 16,
   "id": "89bb8f73-48da-48a3-a370-0cb093314a80",
   "metadata": {},
   "outputs": [
    {
     "data": {
      "text/plain": [
       "{'genetic': 79,\n",
       " 'length': 185,\n",
       " 'mass': 67,\n",
       " 'exercise': 3,\n",
       " 'smoking': 16,\n",
       " 'alcohol': 7,\n",
       " 'sugar': 4,\n",
       " 'lifespan': 83}"
      ]
     },
     "execution_count": 16,
     "metadata": {},
     "output_type": "execute_result"
    }
   ],
   "source": [
    "dict3"
   ]
  },
  {
   "cell_type": "code",
   "execution_count": 13,
   "id": "d361a24a-2d5a-49a7-b43e-b337d1de481e",
   "metadata": {},
   "outputs": [
    {
     "data": {
      "text/plain": [
       "8192"
      ]
     },
     "execution_count": 13,
     "metadata": {},
     "output_type": "execute_result"
    }
   ],
   "source": [
    "len(dict2)"
   ]
  },
  {
   "cell_type": "code",
   "execution_count": 14,
   "id": "9b522cc2-63d9-4c5b-8662-0cfc363ec665",
   "metadata": {},
   "outputs": [],
   "source": [
    "# df[\"data\"].unstack(level=0).to_dict()"
   ]
  },
  {
   "cell_type": "code",
   "execution_count": 29,
   "id": "78e9f58d-c3c0-4b66-a2b9-6666a7273d63",
   "metadata": {},
   "outputs": [],
   "source": [
    "# new_df = dict1(columns=['genetic', 'length', 'mass', 'exercise', 'smoking', 'alcohol', 'sugar', 'lifespan'])"
   ]
  },
  {
   "cell_type": "code",
   "execution_count": 34,
   "id": "e699eae2-73fd-4a2e-92e5-393f9abf3cbc",
   "metadata": {},
   "outputs": [],
   "source": [
    "new = pd.DataFrame.from_dict(dict2)"
   ]
  },
  {
   "cell_type": "code",
   "execution_count": 26,
   "id": "7f884287-e88f-4a41-bd06-55e7807d93be",
   "metadata": {
    "collapsed": true,
    "jupyter": {
     "outputs_hidden": true
    },
    "tags": []
   },
   "outputs": [
    {
     "data": {
      "text/html": [
       "<div>\n",
       "<style scoped>\n",
       "    .dataframe tbody tr th:only-of-type {\n",
       "        vertical-align: middle;\n",
       "    }\n",
       "\n",
       "    .dataframe tbody tr th {\n",
       "        vertical-align: top;\n",
       "    }\n",
       "\n",
       "    .dataframe thead th {\n",
       "        text-align: right;\n",
       "    }\n",
       "</style>\n",
       "<table border=\"1\" class=\"dataframe\">\n",
       "  <thead>\n",
       "    <tr style=\"text-align: right;\">\n",
       "      <th></th>\n",
       "      <th>0</th>\n",
       "      <th>1</th>\n",
       "      <th>2</th>\n",
       "      <th>3</th>\n",
       "      <th>4</th>\n",
       "      <th>5</th>\n",
       "      <th>6</th>\n",
       "      <th>7</th>\n",
       "      <th>8</th>\n",
       "      <th>9</th>\n",
       "      <th>...</th>\n",
       "      <th>8182</th>\n",
       "      <th>8183</th>\n",
       "      <th>8184</th>\n",
       "      <th>8185</th>\n",
       "      <th>8186</th>\n",
       "      <th>8187</th>\n",
       "      <th>8188</th>\n",
       "      <th>8189</th>\n",
       "      <th>8190</th>\n",
       "      <th>8191</th>\n",
       "    </tr>\n",
       "  </thead>\n",
       "  <tbody>\n",
       "    <tr>\n",
       "      <th>genetic</th>\n",
       "      <td>84</td>\n",
       "      <td>84</td>\n",
       "      <td>84</td>\n",
       "      <td>84</td>\n",
       "      <td>84</td>\n",
       "      <td>84</td>\n",
       "      <td>84</td>\n",
       "      <td>84</td>\n",
       "      <td>84</td>\n",
       "      <td>84</td>\n",
       "      <td>...</td>\n",
       "      <td>82</td>\n",
       "      <td>82</td>\n",
       "      <td>80</td>\n",
       "      <td>79</td>\n",
       "      <td>83</td>\n",
       "      <td>82</td>\n",
       "      <td>82</td>\n",
       "      <td>83</td>\n",
       "      <td>81</td>\n",
       "      <td>83</td>\n",
       "    </tr>\n",
       "    <tr>\n",
       "      <th>length</th>\n",
       "      <td>180</td>\n",
       "      <td>204</td>\n",
       "      <td>174</td>\n",
       "      <td>187</td>\n",
       "      <td>187</td>\n",
       "      <td>175</td>\n",
       "      <td>196</td>\n",
       "      <td>182</td>\n",
       "      <td>176</td>\n",
       "      <td>180</td>\n",
       "      <td>...</td>\n",
       "      <td>179</td>\n",
       "      <td>178</td>\n",
       "      <td>186</td>\n",
       "      <td>160</td>\n",
       "      <td>166</td>\n",
       "      <td>185</td>\n",
       "      <td>183</td>\n",
       "      <td>192</td>\n",
       "      <td>175</td>\n",
       "      <td>204</td>\n",
       "    </tr>\n",
       "    <tr>\n",
       "      <th>mass</th>\n",
       "      <td>90</td>\n",
       "      <td>79</td>\n",
       "      <td>74</td>\n",
       "      <td>78</td>\n",
       "      <td>89</td>\n",
       "      <td>74</td>\n",
       "      <td>68</td>\n",
       "      <td>83</td>\n",
       "      <td>91</td>\n",
       "      <td>74</td>\n",
       "      <td>...</td>\n",
       "      <td>68</td>\n",
       "      <td>101</td>\n",
       "      <td>97</td>\n",
       "      <td>63</td>\n",
       "      <td>82</td>\n",
       "      <td>67</td>\n",
       "      <td>72</td>\n",
       "      <td>92</td>\n",
       "      <td>60</td>\n",
       "      <td>76</td>\n",
       "    </tr>\n",
       "    <tr>\n",
       "      <th>exercise</th>\n",
       "      <td>2</td>\n",
       "      <td>3</td>\n",
       "      <td>3</td>\n",
       "      <td>2</td>\n",
       "      <td>2</td>\n",
       "      <td>2</td>\n",
       "      <td>2</td>\n",
       "      <td>1</td>\n",
       "      <td>1</td>\n",
       "      <td>1</td>\n",
       "      <td>...</td>\n",
       "      <td>3</td>\n",
       "      <td>2</td>\n",
       "      <td>2</td>\n",
       "      <td>1</td>\n",
       "      <td>2</td>\n",
       "      <td>3</td>\n",
       "      <td>2</td>\n",
       "      <td>1</td>\n",
       "      <td>3</td>\n",
       "      <td>3</td>\n",
       "    </tr>\n",
       "    <tr>\n",
       "      <th>smoking</th>\n",
       "      <td>9</td>\n",
       "      <td>2</td>\n",
       "      <td>20</td>\n",
       "      <td>6</td>\n",
       "      <td>12</td>\n",
       "      <td>2</td>\n",
       "      <td>14</td>\n",
       "      <td>1</td>\n",
       "      <td>17</td>\n",
       "      <td>5</td>\n",
       "      <td>...</td>\n",
       "      <td>18</td>\n",
       "      <td>0</td>\n",
       "      <td>9</td>\n",
       "      <td>21</td>\n",
       "      <td>3</td>\n",
       "      <td>11</td>\n",
       "      <td>1</td>\n",
       "      <td>22</td>\n",
       "      <td>13</td>\n",
       "      <td>8</td>\n",
       "    </tr>\n",
       "    <tr>\n",
       "      <th>alcohol</th>\n",
       "      <td>1</td>\n",
       "      <td>7</td>\n",
       "      <td>3</td>\n",
       "      <td>5</td>\n",
       "      <td>0</td>\n",
       "      <td>3</td>\n",
       "      <td>8</td>\n",
       "      <td>8</td>\n",
       "      <td>1</td>\n",
       "      <td>9</td>\n",
       "      <td>...</td>\n",
       "      <td>7</td>\n",
       "      <td>0</td>\n",
       "      <td>6</td>\n",
       "      <td>9</td>\n",
       "      <td>3</td>\n",
       "      <td>8</td>\n",
       "      <td>5</td>\n",
       "      <td>2</td>\n",
       "      <td>7</td>\n",
       "      <td>8</td>\n",
       "    </tr>\n",
       "    <tr>\n",
       "      <th>sugar</th>\n",
       "      <td>2</td>\n",
       "      <td>3</td>\n",
       "      <td>2</td>\n",
       "      <td>3</td>\n",
       "      <td>2</td>\n",
       "      <td>3</td>\n",
       "      <td>1</td>\n",
       "      <td>3</td>\n",
       "      <td>2</td>\n",
       "      <td>2</td>\n",
       "      <td>...</td>\n",
       "      <td>3</td>\n",
       "      <td>4</td>\n",
       "      <td>2</td>\n",
       "      <td>2</td>\n",
       "      <td>3</td>\n",
       "      <td>2</td>\n",
       "      <td>4</td>\n",
       "      <td>4</td>\n",
       "      <td>2</td>\n",
       "      <td>1</td>\n",
       "    </tr>\n",
       "    <tr>\n",
       "      <th>lifespan</th>\n",
       "      <td>86</td>\n",
       "      <td>100</td>\n",
       "      <td>87</td>\n",
       "      <td>91</td>\n",
       "      <td>83</td>\n",
       "      <td>89</td>\n",
       "      <td>80</td>\n",
       "      <td>77</td>\n",
       "      <td>73</td>\n",
       "      <td>73</td>\n",
       "      <td>...</td>\n",
       "      <td>82</td>\n",
       "      <td>90</td>\n",
       "      <td>75</td>\n",
       "      <td>62</td>\n",
       "      <td>86</td>\n",
       "      <td>90</td>\n",
       "      <td>88</td>\n",
       "      <td>62</td>\n",
       "      <td>93</td>\n",
       "      <td>96</td>\n",
       "    </tr>\n",
       "  </tbody>\n",
       "</table>\n",
       "<p>8 rows × 8192 columns</p>\n",
       "</div>"
      ],
      "text/plain": [
       "          0     1     2     3     4     5     6     7     8     9     ...  \\\n",
       "genetic     84    84    84    84    84    84    84    84    84    84  ...   \n",
       "length     180   204   174   187   187   175   196   182   176   180  ...   \n",
       "mass        90    79    74    78    89    74    68    83    91    74  ...   \n",
       "exercise     2     3     3     2     2     2     2     1     1     1  ...   \n",
       "smoking      9     2    20     6    12     2    14     1    17     5  ...   \n",
       "alcohol      1     7     3     5     0     3     8     8     1     9  ...   \n",
       "sugar        2     3     2     3     2     3     1     3     2     2  ...   \n",
       "lifespan    86   100    87    91    83    89    80    77    73    73  ...   \n",
       "\n",
       "          8182  8183  8184  8185  8186  8187  8188  8189  8190  8191  \n",
       "genetic     82    82    80    79    83    82    82    83    81    83  \n",
       "length     179   178   186   160   166   185   183   192   175   204  \n",
       "mass        68   101    97    63    82    67    72    92    60    76  \n",
       "exercise     3     2     2     1     2     3     2     1     3     3  \n",
       "smoking     18     0     9    21     3    11     1    22    13     8  \n",
       "alcohol      7     0     6     9     3     8     5     2     7     8  \n",
       "sugar        3     4     2     2     3     2     4     4     2     1  \n",
       "lifespan    82    90    75    62    86    90    88    62    93    96  \n",
       "\n",
       "[8 rows x 8192 columns]"
      ]
     },
     "execution_count": 26,
     "metadata": {},
     "output_type": "execute_result"
    }
   ],
   "source": [
    "new"
   ]
  },
  {
   "cell_type": "code",
   "execution_count": 31,
   "id": "33ae901d-0e77-4fd4-bcee-0c860cbd8b72",
   "metadata": {},
   "outputs": [],
   "source": [
    "new2 = pd.DataFrame.transpose(new)"
   ]
  },
  {
   "cell_type": "code",
   "execution_count": 32,
   "id": "f13b4d72-6e2d-4581-aa04-5f47ce58764f",
   "metadata": {},
   "outputs": [
    {
     "data": {
      "text/html": [
       "<div>\n",
       "<style scoped>\n",
       "    .dataframe tbody tr th:only-of-type {\n",
       "        vertical-align: middle;\n",
       "    }\n",
       "\n",
       "    .dataframe tbody tr th {\n",
       "        vertical-align: top;\n",
       "    }\n",
       "\n",
       "    .dataframe thead th {\n",
       "        text-align: right;\n",
       "    }\n",
       "</style>\n",
       "<table border=\"1\" class=\"dataframe\">\n",
       "  <thead>\n",
       "    <tr style=\"text-align: right;\">\n",
       "      <th></th>\n",
       "      <th>genetic</th>\n",
       "      <th>length</th>\n",
       "      <th>mass</th>\n",
       "      <th>exercise</th>\n",
       "      <th>smoking</th>\n",
       "      <th>alcohol</th>\n",
       "      <th>sugar</th>\n",
       "      <th>lifespan</th>\n",
       "    </tr>\n",
       "  </thead>\n",
       "  <tbody>\n",
       "    <tr>\n",
       "      <th>0</th>\n",
       "      <td>84.0</td>\n",
       "      <td>180.0</td>\n",
       "      <td>90.0</td>\n",
       "      <td>2.0</td>\n",
       "      <td>9.0</td>\n",
       "      <td>1.0</td>\n",
       "      <td>2.0</td>\n",
       "      <td>86.0</td>\n",
       "    </tr>\n",
       "    <tr>\n",
       "      <th>1</th>\n",
       "      <td>84.0</td>\n",
       "      <td>204.0</td>\n",
       "      <td>79.0</td>\n",
       "      <td>3.0</td>\n",
       "      <td>2.0</td>\n",
       "      <td>7.0</td>\n",
       "      <td>3.0</td>\n",
       "      <td>100.0</td>\n",
       "    </tr>\n",
       "    <tr>\n",
       "      <th>2</th>\n",
       "      <td>84.0</td>\n",
       "      <td>174.0</td>\n",
       "      <td>74.0</td>\n",
       "      <td>3.0</td>\n",
       "      <td>20.0</td>\n",
       "      <td>3.0</td>\n",
       "      <td>2.0</td>\n",
       "      <td>87.0</td>\n",
       "    </tr>\n",
       "    <tr>\n",
       "      <th>3</th>\n",
       "      <td>84.0</td>\n",
       "      <td>187.0</td>\n",
       "      <td>78.0</td>\n",
       "      <td>2.0</td>\n",
       "      <td>6.0</td>\n",
       "      <td>5.0</td>\n",
       "      <td>3.0</td>\n",
       "      <td>91.0</td>\n",
       "    </tr>\n",
       "    <tr>\n",
       "      <th>4</th>\n",
       "      <td>84.0</td>\n",
       "      <td>187.0</td>\n",
       "      <td>89.0</td>\n",
       "      <td>2.0</td>\n",
       "      <td>12.0</td>\n",
       "      <td>0.0</td>\n",
       "      <td>2.0</td>\n",
       "      <td>83.0</td>\n",
       "    </tr>\n",
       "    <tr>\n",
       "      <th>...</th>\n",
       "      <td>...</td>\n",
       "      <td>...</td>\n",
       "      <td>...</td>\n",
       "      <td>...</td>\n",
       "      <td>...</td>\n",
       "      <td>...</td>\n",
       "      <td>...</td>\n",
       "      <td>...</td>\n",
       "    </tr>\n",
       "    <tr>\n",
       "      <th>8187</th>\n",
       "      <td>82.0</td>\n",
       "      <td>185.0</td>\n",
       "      <td>67.0</td>\n",
       "      <td>3.0</td>\n",
       "      <td>11.0</td>\n",
       "      <td>8.0</td>\n",
       "      <td>2.0</td>\n",
       "      <td>90.0</td>\n",
       "    </tr>\n",
       "    <tr>\n",
       "      <th>8188</th>\n",
       "      <td>82.0</td>\n",
       "      <td>183.0</td>\n",
       "      <td>72.0</td>\n",
       "      <td>2.0</td>\n",
       "      <td>1.0</td>\n",
       "      <td>5.0</td>\n",
       "      <td>4.0</td>\n",
       "      <td>88.0</td>\n",
       "    </tr>\n",
       "    <tr>\n",
       "      <th>8189</th>\n",
       "      <td>83.0</td>\n",
       "      <td>192.0</td>\n",
       "      <td>92.0</td>\n",
       "      <td>1.0</td>\n",
       "      <td>22.0</td>\n",
       "      <td>2.0</td>\n",
       "      <td>4.0</td>\n",
       "      <td>62.0</td>\n",
       "    </tr>\n",
       "    <tr>\n",
       "      <th>8190</th>\n",
       "      <td>81.0</td>\n",
       "      <td>175.0</td>\n",
       "      <td>60.0</td>\n",
       "      <td>3.0</td>\n",
       "      <td>13.0</td>\n",
       "      <td>7.0</td>\n",
       "      <td>2.0</td>\n",
       "      <td>93.0</td>\n",
       "    </tr>\n",
       "    <tr>\n",
       "      <th>8191</th>\n",
       "      <td>83.0</td>\n",
       "      <td>204.0</td>\n",
       "      <td>76.0</td>\n",
       "      <td>3.0</td>\n",
       "      <td>8.0</td>\n",
       "      <td>8.0</td>\n",
       "      <td>1.0</td>\n",
       "      <td>96.0</td>\n",
       "    </tr>\n",
       "  </tbody>\n",
       "</table>\n",
       "<p>8192 rows × 8 columns</p>\n",
       "</div>"
      ],
      "text/plain": [
       "      genetic  length  mass  exercise  smoking  alcohol  sugar  lifespan\n",
       "0        84.0   180.0  90.0       2.0      9.0      1.0    2.0      86.0\n",
       "1        84.0   204.0  79.0       3.0      2.0      7.0    3.0     100.0\n",
       "2        84.0   174.0  74.0       3.0     20.0      3.0    2.0      87.0\n",
       "3        84.0   187.0  78.0       2.0      6.0      5.0    3.0      91.0\n",
       "4        84.0   187.0  89.0       2.0     12.0      0.0    2.0      83.0\n",
       "...       ...     ...   ...       ...      ...      ...    ...       ...\n",
       "8187     82.0   185.0  67.0       3.0     11.0      8.0    2.0      90.0\n",
       "8188     82.0   183.0  72.0       2.0      1.0      5.0    4.0      88.0\n",
       "8189     83.0   192.0  92.0       1.0     22.0      2.0    4.0      62.0\n",
       "8190     81.0   175.0  60.0       3.0     13.0      7.0    2.0      93.0\n",
       "8191     83.0   204.0  76.0       3.0      8.0      8.0    1.0      96.0\n",
       "\n",
       "[8192 rows x 8 columns]"
      ]
     },
     "execution_count": 32,
     "metadata": {},
     "output_type": "execute_result"
    }
   ],
   "source": [
    "new2"
   ]
  },
  {
   "cell_type": "code",
   "execution_count": 35,
   "id": "d5a83aab-8a39-4530-a8a3-c037c91d699a",
   "metadata": {},
   "outputs": [],
   "source": [
    "new2.to_csv('data/new2.csv')"
   ]
  },
  {
   "cell_type": "code",
   "execution_count": null,
   "id": "38162664-35a5-4074-9a23-cbc8b989bb0e",
   "metadata": {},
   "outputs": [],
   "source": []
  },
  {
   "cell_type": "code",
   "execution_count": null,
   "id": "0013442c-c8a2-47d9-9601-86242a9f2660",
   "metadata": {},
   "outputs": [],
   "source": []
  },
  {
   "cell_type": "code",
   "execution_count": null,
   "id": "f578aa1e-0010-4d17-b053-f5e862fd1743",
   "metadata": {},
   "outputs": [],
   "source": []
  },
  {
   "cell_type": "code",
   "execution_count": null,
   "id": "511bef4c-c7e4-4e76-9c17-e21c02d67b21",
   "metadata": {},
   "outputs": [],
   "source": []
  },
  {
   "cell_type": "code",
   "execution_count": null,
   "id": "b7349f97-e3a6-4638-adf3-9cdd2b24546c",
   "metadata": {},
   "outputs": [],
   "source": []
  },
  {
   "cell_type": "code",
   "execution_count": null,
   "id": "90f95854-ed53-4dff-b973-6fd41a668fd3",
   "metadata": {},
   "outputs": [],
   "source": []
  },
  {
   "cell_type": "code",
   "execution_count": null,
   "id": "eaa0af8f-091e-493f-a870-491b3d1c19b0",
   "metadata": {},
   "outputs": [],
   "source": []
  },
  {
   "cell_type": "code",
   "execution_count": null,
   "id": "3d8aa37f-06ae-4456-8e7e-f98be3fef63f",
   "metadata": {},
   "outputs": [],
   "source": []
  }
 ],
 "metadata": {
  "kernelspec": {
   "display_name": "Python 3 (ipykernel)",
   "language": "python",
   "name": "python3"
  },
  "language_info": {
   "codemirror_mode": {
    "name": "ipython",
    "version": 3
   },
   "file_extension": ".py",
   "mimetype": "text/x-python",
   "name": "python",
   "nbconvert_exporter": "python",
   "pygments_lexer": "ipython3",
   "version": "3.10.9"
  }
 },
 "nbformat": 4,
 "nbformat_minor": 5
}
