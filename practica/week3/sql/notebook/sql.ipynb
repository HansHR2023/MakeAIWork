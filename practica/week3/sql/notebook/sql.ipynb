{
 "cells": [
  {
   "cell_type": "markdown",
   "id": "ce776e9e-e316-4a03-ad68-d9e0a090b894",
   "metadata": {},
   "source": [
    "<div>\n",
    "    <img src='../pics/banner.PNG'/>\n",
    "</div>\n",
    "<div>\n",
    "    <img width=\"10%\" height=\"10%\" src='../pics/python-programming.png'/>\n",
    "    <img src='../pics/miw.PNG'/>\n",
    "</div>\n",
    "<div>\n",
    "    <em>Author: Jeroen Boogaard</em>\n",
    "</div>"
   ]
  },
  {
   "cell_type": "markdown",
   "id": "b57ce072-c647-44a4-8078-07045ee55df9",
   "metadata": {},
   "source": [
    "<h1>Practicum SQL </h1>"
   ]
  },
  {
   "cell_type": "markdown",
   "id": "9f080c20-09e7-415e-b4b8-91b340464972",
   "metadata": {},
   "source": [
    "<h2>Imports<h2>"
   ]
  },
  {
   "cell_type": "code",
   "execution_count": 1,
   "id": "91986813",
   "metadata": {},
   "outputs": [
    {
     "name": "stdout",
     "output_type": "stream",
     "text": [
      "Requirement already satisfied: pysqlite3 in /home/pans/miniconda3/envs/miw/lib/python3.10/site-packages (0.5.0)\n",
      "Requirement already satisfied: pip in /home/pans/miniconda3/envs/miw/lib/python3.10/site-packages (23.0.1)\n"
     ]
    },
    {
     "data": {
      "text/plain": [
       "0"
      ]
     },
     "execution_count": 1,
     "metadata": {},
     "output_type": "execute_result"
    }
   ],
   "source": [
    "from os import system as sys\n",
    "sys('pip install pysqlite3 --upgrade pip')"
   ]
  },
  {
   "cell_type": "code",
   "execution_count": 2,
   "id": "fc9cc22c-9b16-4f97-be97-65fa68a4f5b6",
   "metadata": {},
   "outputs": [],
   "source": [
    "from matplotlib import pyplot as plt\n",
    "from matplotlib_venn import venn2, venn3\n",
    "from PIL import Image\n",
    "import pandas as pd\n",
    "import sqlite3"
   ]
  },
  {
   "cell_type": "markdown",
   "id": "206be2e2-1646-4b41-bc5d-e23ca9ce2199",
   "metadata": {},
   "source": [
    "<h2>Extract, Transform and Load</h2>"
   ]
  },
  {
   "cell_type": "markdown",
   "id": "27681fa7-135e-4301-9eb3-b0d945ca7f45",
   "metadata": {},
   "source": [
    "<h3>Extract</h3>"
   ]
  },
  {
   "cell_type": "code",
   "execution_count": 3,
   "id": "3dc0221e-2539-46d5-9b46-f5031b987547",
   "metadata": {},
   "outputs": [],
   "source": [
    "# https://raw.githubusercontent.com/ajturner/acetate/master/places/Countries-Europe.csv\n",
    "csvFile = \"../csv/countries_europe.csv\"\n",
    "euCsvFile = \"../csv/european_union.csv\"\n",
    "\n",
    " # Create Pandas DataFrames\n",
    "europeDF = pd.read_csv(csvFile)\n",
    "euDF = pd.read_csv(euCsvFile)\n",
    "#print(europeDF)\n",
    "#print(euDF)"
   ]
  },
  {
   "cell_type": "markdown",
   "id": "620dd73e-33e6-42b4-89aa-c80a12833ad1",
   "metadata": {},
   "source": [
    "<h3>Transform</h3>"
   ]
  },
  {
   "cell_type": "markdown",
   "id": "184e4908-ac20-4417-8a04-60d0a2a80f44",
   "metadata": {},
   "source": [
    "<h3>Exercise 1</h3>\n",
    "<h4>Gegeven</h4>"
   ]
  },
  {
   "cell_type": "code",
   "execution_count": 4,
   "id": "649e4d4f-bcf5-40ad-9f58-55a1481b9d8d",
   "metadata": {},
   "outputs": [],
   "source": [
    "benelux = {\"Belgium\", \"Netherlands\", \"Luxembourg\"}\n",
    "nordics = {\"Denmark\", \"Finland\", \"Iceland\", \"Norway\"}\n",
    "baltics = {\"Estonia\", \"Latvia\", \"Lithuania\"}"
   ]
  },
  {
   "cell_type": "code",
   "execution_count": 5,
   "id": "aeae5129-38e7-42b2-ab1f-14cb9fd0c9c3",
   "metadata": {},
   "outputs": [
    {
     "name": "stdout",
     "output_type": "stream",
     "text": [
      "Luxembourg\n",
      "Netherlands\n",
      "Belgium\n"
     ]
    }
   ],
   "source": [
    "for i in benelux:\n",
    "    print(i)"
   ]
  },
  {
   "cell_type": "markdown",
   "id": "cefd609d-415b-40ce-9aa8-56cf98e386ab",
   "metadata": {},
   "source": [
    "<h4>Gevraagd</h4>\n",
    "<ol>\n",
    "    <li>Voeg de kolom <u>groupS</u> toe aan de dataset <u>europeDF</u> met daarin de groep waartoe een land behoort volgens bovenstaande sets</li>\n",
    "    <li>Ga na of er nog meer landengroepen zijn binnen Europa en voeg die ook toe</li>\n",
    "    <li>Sla deze verrijkte dataset op in een nieuw CSV bestand</li>\n",
    "</ol>"
   ]
  },
  {
   "cell_type": "markdown",
   "id": "950cd16a-4697-4e10-9a29-34e54145de68",
   "metadata": {},
   "source": [
    "<h4>Oplossing</h4>"
   ]
  },
  {
   "cell_type": "code",
   "execution_count": 6,
   "id": "53b02739-f585-4a33-b4b0-dcf06bf6a1c9",
   "metadata": {},
   "outputs": [],
   "source": [
    "# Oplossing\n",
    "\n",
    "europeDF['groups'] = '' \n",
    "\n",
    "# NB group is een commandoi in sql dus maak er groups van"
   ]
  },
  {
   "cell_type": "code",
   "execution_count": 7,
   "id": "db0dc955-594d-4b6f-9f18-187f92b0458f",
   "metadata": {},
   "outputs": [
    {
     "data": {
      "text/plain": [
       "Index(['zoom', 'name', 'abbreviation', 'Code', 'ISO numeric', 'land area km',\n",
       "       'population', 'latitude', 'longitude', 'continent', 'groups'],\n",
       "      dtype='object')"
      ]
     },
     "execution_count": 7,
     "metadata": {},
     "output_type": "execute_result"
    }
   ],
   "source": [
    "europeDF.columns"
   ]
  },
  {
   "cell_type": "code",
   "execution_count": 8,
   "id": "d081a928-fbce-45ea-8c99-66ecd7093f53",
   "metadata": {},
   "outputs": [],
   "source": [
    "    \n",
    "# df.loc[df[<some_column_name>] == <condition>, [<another_column_name>]] = <value_to_add>\n",
    "# europeDF.loc[europeDF['name'] == 'Belgium', ['group']] = 'benelux'\n",
    "\n",
    "for i in benelux:\n",
    "    europeDF.loc[europeDF['name'] == i, ['groups']] = 'benelux'\n",
    "    \n",
    "for i in nordics:\n",
    "    europeDF.loc[europeDF['name'] == i, ['groups']] = 'nordics'\n",
    "    \n",
    "for i in baltics:\n",
    "    europeDF.loc[europeDF['name'] == i, ['groups']] = 'baltics'\n",
    "    "
   ]
  },
  {
   "cell_type": "code",
   "execution_count": 9,
   "id": "0b281ff2-8012-438c-86d3-581638f47994",
   "metadata": {},
   "outputs": [
    {
     "ename": "NameError",
     "evalue": "name 'cSet' is not defined",
     "output_type": "error",
     "traceback": [
      "\u001b[0;31m---------------------------------------------------------------------------\u001b[0m",
      "\u001b[0;31mNameError\u001b[0m                                 Traceback (most recent call last)",
      "Cell \u001b[0;32mIn[9], line 2\u001b[0m\n\u001b[1;32m      1\u001b[0m \u001b[38;5;66;03m# poging om drie loops in 1 dubbele loop om te zetten:\u001b[39;00m\n\u001b[0;32m----> 2\u001b[0m \u001b[38;5;28;01mif\u001b[39;00m \u001b[43mcSet\u001b[49m \u001b[38;5;129;01min\u001b[39;00m [benelux, nordics, baltics]:\n\u001b[1;32m      3\u001b[0m     \u001b[38;5;28;01mfor\u001b[39;00m i \u001b[38;5;129;01min\u001b[39;00m x:\n\u001b[1;32m      4\u001b[0m         \u001b[38;5;28mprint\u001b[39m(\u001b[38;5;28mtype\u001b[39m(i))\n",
      "\u001b[0;31mNameError\u001b[0m: name 'cSet' is not defined"
     ]
    }
   ],
   "source": [
    "# poging om drie loops in 1 dubbele loop om te zetten:\n",
    "if cSet in [benelux, nordics, baltics]:\n",
    "    for i in x:\n",
    "        print(type(i))\n",
    "        europeDF.loc[europeDF['name'] == i, ['group']] = cSet\n"
   ]
  },
  {
   "cell_type": "code",
   "execution_count": null,
   "id": "a178a741-1a38-48bf-9a50-ff885c8dbaf1",
   "metadata": {},
   "outputs": [],
   "source": [
    "# list comprehension kan ook als je er eerst een list van maakt."
   ]
  },
  {
   "cell_type": "code",
   "execution_count": null,
   "id": "251baa18-262b-4e6a-ac84-eb7804356522",
   "metadata": {},
   "outputs": [],
   "source": [
    "# alternatief: een functie maken en dan 3 x aanroepen met telkens een andere set\n"
   ]
  },
  {
   "cell_type": "code",
   "execution_count": null,
   "id": "66484a6a-3d5d-4947-ba8a-2b447fccf3b1",
   "metadata": {},
   "outputs": [],
   "source": [
    "# alternatief: oplossing van Jeroen\n",
    "\n",
    "Goedemorgen Hans, n.a.v. jouw vraag gisteren over een efficientere for-loop voor het toevoegen van groups, hierbij mijn uitwerking:\n",
    " \n",
    "\n",
    "# Maak een Dictionary van groups\n",
    "groupsDict = { \"benelux\": benelux, \"nordics\": nordics, \"baltics\": baltics }\n",
    "print(groupsDict)\n",
    "\n",
    " \n",
    "\n",
    "# Maak een lijst met lege Strings\n",
    "nrOfCountries = len(europeDF)\n",
    "groupsList = nrOfCountries * [\"\"]\n",
    "\n",
    " \n",
    "\n",
    "# Ga voor alle landen uit europeDF na of ze onderdeel zijn van 1 van de groepen uit groupsDict\n",
    "for i, country in enumerate(europeDF[\"name\"]):\n",
    "    \n",
    "    for group, countries in groupsDict.items():\n",
    "    \n",
    "        if country in countries:\n",
    "            groupsList[i] = group\n",
    "        \n",
    "print(groupsList)\n",
    "        \n",
    "# Voeg de kolom groups toe aan Dataframe europeDF \n",
    "europeDF.insert(loc=0, column='groups', value=groupsList)\n",
    "print(europeDF)"
   ]
  },
  {
   "cell_type": "code",
   "execution_count": null,
   "id": "54686f37-7975-4162-8b27-eb462ef78c1c",
   "metadata": {},
   "outputs": [],
   "source": [
    "europeDF"
   ]
  },
  {
   "cell_type": "markdown",
   "id": "3915f0da-d771-4470-93e7-8b0337b472af",
   "metadata": {},
   "source": [
    "<h3>Load</h3>"
   ]
  },
  {
   "cell_type": "markdown",
   "id": "c50ff7d2-c034-43fd-b19d-24a3f4d1513f",
   "metadata": {},
   "source": [
    "<p>Maak een lege database</p>"
   ]
  },
  {
   "cell_type": "code",
   "execution_count": null,
   "id": "a2d3575c-af21-4bb5-8585-6da463a42fdf",
   "metadata": {},
   "outputs": [],
   "source": [
    "sys('sqlite3 ../db/europe.db \"VACUUM;\"')"
   ]
  },
  {
   "cell_type": "code",
   "execution_count": null,
   "id": "2e63c59f-e85b-41c7-87a5-b1973ffa5652",
   "metadata": {},
   "outputs": [],
   "source": [
    "# Connect to SQLite database\n",
    "dbConnection = sqlite3.connect('../db/europe.db')"
   ]
  },
  {
   "cell_type": "markdown",
   "id": "a851f75c-1b37-4bec-9f92-146f45457533",
   "metadata": {},
   "source": [
    "<p>Maak tabellen o.b.v. de dataset</p>"
   ]
  },
  {
   "cell_type": "code",
   "execution_count": null,
   "id": "0372fa16-5ba5-4aac-874f-67566b093721",
   "metadata": {},
   "outputs": [],
   "source": [
    "europeDF.to_sql('countries', dbConnection, if_exists='replace', index = False)\n",
    "euDF.to_sql('eu', dbConnection, if_exists='replace', index = False)"
   ]
  },
  {
   "cell_type": "code",
   "execution_count": null,
   "id": "5e61d66c-78ec-4798-87ec-16a553d286ae",
   "metadata": {},
   "outputs": [],
   "source": [
    "dbCursor = dbConnection.cursor()\n",
    "\n",
    "query = \"\"\"\n",
    "    SELECT *\n",
    "    FROM countries\n",
    "    INNER JOIN eu\n",
    "    ON countries.Code = eu.Code\n",
    "\"\"\"\n",
    "\n",
    "result = dbCursor.execute(query).fetchall()\n",
    "print(result)\n",
    "print(type(result))"
   ]
  },
  {
   "cell_type": "code",
   "execution_count": null,
   "id": "bc044c71-ee05-45b2-b200-9a06a98ed6dd",
   "metadata": {},
   "outputs": [],
   "source": [
    "query = \"\"\"\n",
    "    SELECT Code\n",
    "    FROM countries\n",
    "\"\"\"\n",
    "\n",
    "result = dbCursor.execute(query).fetchall()\n",
    "print(result)\n",
    "print(type(result))"
   ]
  },
  {
   "cell_type": "markdown",
   "id": "2a6640a3-38f5-4561-a6f1-3a4b26e2f39c",
   "metadata": {},
   "source": [
    "<h3>Exercise 2</h3>\n",
    "<p>\n",
    "    Gebruik SQL queries voor het verkrijgen van\n",
    "<ol>\n",
    "    <li>het aantal landen dat onderdeel is van de Nordics</li>\n",
    "    <li>het aantal Europese landen dat lid is van de Europese Unie</li>\n",
    "    <li>het aantal EU-landen dat deel uitmaakt van de Nordics</li>\n",
    "</ol>\n",
    "</p>"
   ]
  },
  {
   "cell_type": "code",
   "execution_count": null,
   "id": "5c1c1e7a-4668-42ec-8749-9a84fad8940c",
   "metadata": {},
   "outputs": [],
   "source": [
    "# 1\n",
    "\n",
    "query = \"\"\"\n",
    "    SELECT name, groups\n",
    "    FROM countries\n",
    "    WHERE groups = 'nordics'\n",
    "\"\"\"\n",
    "\n",
    "result = dbCursor.execute(query).fetchall()\n",
    "print(result)\n",
    "print(len(result))"
   ]
  },
  {
   "cell_type": "code",
   "execution_count": null,
   "id": "415f9383-c5d7-44cd-b02a-1cbc9d24ebd4",
   "metadata": {},
   "outputs": [],
   "source": [
    "# 2\n",
    "\n",
    "query = \"\"\"\n",
    "    SELECT name\n",
    "    FROM eu\n",
    "    \n",
    "\"\"\"\n",
    "\n",
    "result = dbCursor.execute(query).fetchall()\n",
    "print(result)\n",
    "print(len(result))\n",
    "\n",
    "query = \"\"\"\n",
    "    SELECT name\n",
    "    FROM countries\n",
    "    \n",
    "\"\"\"\n",
    "\n",
    "result = dbCursor.execute(query).fetchall()\n",
    "print(result)\n",
    "print(len(result))\n",
    "\n",
    "query = \"\"\"\n",
    "    SELECT countries.name\n",
    "    FROM countries\n",
    "    INNER JOIN eu\n",
    "    ON countries.Code = eu.Code\n",
    "\"\"\"\n",
    "\n",
    "result = dbCursor.execute(query).fetchall()\n",
    "print(result)\n",
    "print(len(result))\n",
    "\n",
    "query = \"\"\"\n",
    "    SELECT countries.name\n",
    "    FROM countries\n",
    "    INNER JOIN eu\n",
    "    ON countries.name = eu.Name\n",
    "\"\"\"\n",
    "\n",
    "result = dbCursor.execute(query).fetchall()\n",
    "print(result)\n",
    "print(len(result))\n",
    "\n",
    "# een join op Name geeft een ander resultaat dan een join op Code !!!"
   ]
  },
  {
   "cell_type": "code",
   "execution_count": null,
   "id": "ee5c326a-bda3-4774-937f-09cb4c4edd90",
   "metadata": {},
   "outputs": [],
   "source": [
    "# 3\n",
    "\n",
    "query = \"\"\"\n",
    "   SELECT countries.name\n",
    "    FROM countries\n",
    "    INNER JOIN eu\n",
    "    ON countries.Code = eu.Code\n",
    "    WHERE countries.groups = 'nordics'\n",
    "    \n",
    "\"\"\"\n",
    "\n",
    "result = dbCursor.execute(query).fetchall()\n",
    "print(result)\n",
    "print(len(result))\n"
   ]
  },
  {
   "cell_type": "code",
   "execution_count": null,
   "id": "02792ced-0915-4276-ac6e-d1ccaae880c6",
   "metadata": {},
   "outputs": [],
   "source": [
    "# 3 alternatieve oplossing\n",
    "\n",
    "query = \"\"\"\n",
    "   SELECT count(*)\n",
    "    "
   ]
  },
  {
   "cell_type": "code",
   "execution_count": null,
   "id": "aa989e31-db22-483d-8df6-d6127b827748",
   "metadata": {},
   "outputs": [],
   "source": []
  },
  {
   "cell_type": "code",
   "execution_count": null,
   "id": "040118ab-be21-4caf-87a7-5784146f7715",
   "metadata": {},
   "outputs": [],
   "source": []
  },
  {
   "cell_type": "code",
   "execution_count": null,
   "id": "eb849350-e0b5-4f47-97fc-c77e17e508fc",
   "metadata": {},
   "outputs": [],
   "source": [
    "FROM countries\n",
    "    WHERE continent = 'eu' AND groups = 'nordics'\n",
    "    \n",
    "\"\"\"\n",
    "\n",
    "result = dbCursor.execute(query).fetchall()\n",
    "print(result)\n",
    "print(len(result))"
   ]
  },
  {
   "cell_type": "code",
   "execution_count": null,
   "id": "f57f3aef-7b89-4d09-a064-c63c777bebcf",
   "metadata": {},
   "outputs": [],
   "source": [
    "# Close connection to SQLite database\n",
    "dbConnection.close()"
   ]
  }
 ],
 "metadata": {
  "kernelspec": {
   "display_name": "Python 3 (ipykernel)",
   "language": "python",
   "name": "python3"
  },
  "language_info": {
   "codemirror_mode": {
    "name": "ipython",
    "version": 3
   },
   "file_extension": ".py",
   "mimetype": "text/x-python",
   "name": "python",
   "nbconvert_exporter": "python",
   "pygments_lexer": "ipython3",
   "version": "3.10.9"
  },
  "vscode": {
   "interpreter": {
    "hash": "9d3afc9f718536a562acca7e4195db7e432105a6a5bfa793add3486ed553a0c5"
   }
  }
 },
 "nbformat": 4,
 "nbformat_minor": 5
}
