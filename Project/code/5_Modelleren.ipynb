{
 "cells": [
  {
   "cell_type": "markdown",
   "id": "33067ff4-1477-4d7d-8791-6d3d986b7419",
   "metadata": {},
   "source": [
    "<div>\n",
    "    <em><h1>Health Marketing</h1></em>\n",
    "    <img width=\"10%\" height=\"10%\" src='pics/aiHealth_01.jpg'/>\n",
    "    \n",
    "    \n",
    "</div>\n",
    "<div>\n",
    "    <p>\n",
    "    <em>Stap 5:</em>\n",
    "    <br>\n",
    "    <em>Data interpretatie: modelleren</em>\n",
    "        <br>\n",
    "    <em>Author: Hans Olthoff</em>\n",
    "    </p>    \n",
    "</div>"
   ]
  },
  {
   "cell_type": "code",
   "execution_count": 1,
   "id": "ed280de5-f2ca-4b8e-8074-69a6df21562d",
   "metadata": {},
   "outputs": [],
   "source": [
    "import sqlite3\n",
    "import pandas as pd\n",
    "import numpy as np\n",
    "import seaborn as sns\n",
    "import matplotlib.pyplot as plt\n",
    "%matplotlib inline\n",
    "sns.set(color_codes=True)"
   ]
  },
  {
   "cell_type": "markdown",
   "id": "901b27cf-0e50-41e0-a9d9-78c8b7f84391",
   "metadata": {},
   "source": [
    "Get data"
   ]
  },
  {
   "cell_type": "code",
   "execution_count": 2,
   "id": "8bb92228-ed02-4af3-bc47-676021421a64",
   "metadata": {},
   "outputs": [
    {
     "ename": "OperationalError",
     "evalue": "unable to open database file",
     "output_type": "error",
     "traceback": [
      "\u001b[0;31m---------------------------------------------------------------------------\u001b[0m",
      "\u001b[0;31mOperationalError\u001b[0m                          Traceback (most recent call last)",
      "Cell \u001b[0;32mIn[2], line 1\u001b[0m\n\u001b[0;32m----> 1\u001b[0m dbConnection \u001b[38;5;241m=\u001b[39m \u001b[43msqlite3\u001b[49m\u001b[38;5;241;43m.\u001b[39;49m\u001b[43mconnect\u001b[49m\u001b[43m(\u001b[49m\u001b[38;5;124;43m'\u001b[39;49m\u001b[38;5;124;43m../rest_server_new/medisch_centrum_randstad/db.sqlite3\u001b[39;49m\u001b[38;5;124;43m'\u001b[39;49m\u001b[43m)\u001b[49m\n",
      "\u001b[0;31mOperationalError\u001b[0m: unable to open database file"
     ]
    }
   ],
   "source": [
    "dbConnection = sqlite3.connect('../rest_server_new/medisch_centrum_randstad/db.sqlite3')"
   ]
  },
  {
   "cell_type": "code",
   "execution_count": null,
   "id": "130ffeeb-4476-48d9-822a-a31550e6feb6",
   "metadata": {},
   "outputs": [],
   "source": [
    "df.to_sql('cleaned_data_2', dbConnection, if_exists='replace', index = False)"
   ]
  },
  {
   "cell_type": "code",
   "execution_count": null,
   "id": "70bd7c7d-6337-43f1-9b86-e3a793a2e821",
   "metadata": {},
   "outputs": [],
   "source": [
    "dbConnection.close()"
   ]
  },
  {
   "cell_type": "markdown",
   "id": "de309a92-b17e-4495-931e-49ddccc3858b",
   "metadata": {},
   "source": [
    "Fit to model"
   ]
  },
  {
   "cell_type": "code",
   "execution_count": null,
   "id": "9aa2bd49-666d-4be0-b88e-ba48cf9e1ebc",
   "metadata": {},
   "outputs": [],
   "source": []
  },
  {
   "cell_type": "code",
   "execution_count": null,
   "id": "4bec6075-5f36-4b18-ad73-999f5086ce9c",
   "metadata": {},
   "outputs": [],
   "source": []
  },
  {
   "cell_type": "code",
   "execution_count": null,
   "id": "ae787fd1-b5a9-473e-8053-d730eb70a380",
   "metadata": {},
   "outputs": [],
   "source": []
  },
  {
   "cell_type": "code",
   "execution_count": null,
   "id": "78fe6c7d-75e4-4f5a-8f41-c51330b7097a",
   "metadata": {},
   "outputs": [],
   "source": []
  }
 ],
 "metadata": {
  "kernelspec": {
   "display_name": "Python 3 (ipykernel)",
   "language": "python",
   "name": "python3"
  },
  "language_info": {
   "codemirror_mode": {
    "name": "ipython",
    "version": 3
   },
   "file_extension": ".py",
   "mimetype": "text/x-python",
   "name": "python",
   "nbconvert_exporter": "python",
   "pygments_lexer": "ipython3",
   "version": "3.10.9"
  }
 },
 "nbformat": 4,
 "nbformat_minor": 5
}
