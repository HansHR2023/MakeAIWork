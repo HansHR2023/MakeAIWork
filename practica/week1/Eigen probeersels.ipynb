{
 "cells": [
  {
   "cell_type": "code",
   "execution_count": 9,
   "id": "6af7cb84-0788-4889-89ce-1e0325630810",
   "metadata": {},
   "outputs": [],
   "source": [
    "number = 7\n",
    "spaces = number\n",
    "stars = 1"
   ]
  },
  {
   "cell_type": "code",
   "execution_count": 1,
   "id": "379c43ef-40bf-4ed1-bce8-eb96058b27b2",
   "metadata": {},
   "outputs": [],
   "source": [
    "s = \"*\""
   ]
  },
  {
   "cell_type": "code",
   "execution_count": 12,
   "id": "81eea6e6-3622-43d7-a6e8-da6492bcb622",
   "metadata": {},
   "outputs": [
    {
     "data": {
      "text/plain": [
       "'ooo*ooo'"
      ]
     },
     "execution_count": 12,
     "metadata": {},
     "output_type": "execute_result"
    }
   ],
   "source": [
    "s.center(7, \"o\")"
   ]
  },
  {
   "cell_type": "code",
   "execution_count": 13,
   "id": "f3c2bc9c-a57e-4bbf-92d3-054d57942847",
   "metadata": {},
   "outputs": [],
   "source": [
    "s = \"***\""
   ]
  },
  {
   "cell_type": "code",
   "execution_count": 14,
   "id": "22ea5698-50f7-46f4-877c-9f7b36685617",
   "metadata": {},
   "outputs": [
    {
     "data": {
      "text/plain": [
       "'oo***oo'"
      ]
     },
     "execution_count": 14,
     "metadata": {},
     "output_type": "execute_result"
    }
   ],
   "source": [
    "s.center(7, \"o\")"
   ]
  },
  {
   "cell_type": "code",
   "execution_count": null,
   "id": "61e00100-91be-45ac-9f2f-c67a05e61d24",
   "metadata": {},
   "outputs": [],
   "source": []
  },
  {
   "cell_type": "code",
   "execution_count": null,
   "id": "c665c0e0-9938-4afa-9a6a-70f8663f4984",
   "metadata": {},
   "outputs": [],
   "source": [
    "s.center(spaces, stars)"
   ]
  },
  {
   "cell_type": "code",
   "execution_count": null,
   "id": "652239c4-a3da-4769-931e-37c396193965",
   "metadata": {},
   "outputs": [],
   "source": []
  }
 ],
 "metadata": {
  "kernelspec": {
   "display_name": "Python 3 (ipykernel)",
   "language": "python",
   "name": "python3"
  },
  "language_info": {
   "codemirror_mode": {
    "name": "ipython",
    "version": 3
   },
   "file_extension": ".py",
   "mimetype": "text/x-python",
   "name": "python",
   "nbconvert_exporter": "python",
   "pygments_lexer": "ipython3",
   "version": "3.10.9"
  }
 },
 "nbformat": 4,
 "nbformat_minor": 5
}
