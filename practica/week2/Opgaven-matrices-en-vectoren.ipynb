{
 "cells": [
  {
   "cell_type": "markdown",
   "id": "2ea724be",
   "metadata": {},
   "source": [
    "# Matrices en vectoren"
   ]
  },
  {
   "cell_type": "markdown",
   "id": "18595eca",
   "metadata": {},
   "source": [
    "Er zijn meerdere manieren om een matrix te representeren.\n",
    "\n",
    "Hier kiezen we voor het volgende datamodel:\n",
    "\n",
    "`matrix_2D :: {rows: int, cols: int, data: []}`\n",
    "\n",
    "Implementeer onderstaande opdrachten in Python."
   ]
  },
  {
   "cell_type": "markdown",
   "id": "42182308",
   "metadata": {},
   "source": [
    "## Vectoren"
   ]
  },
  {
   "cell_type": "markdown",
   "id": "db43ccb1",
   "metadata": {},
   "source": [
    "### 1. Een vector als rij*"
   ]
  },
  {
   "cell_type": "markdown",
   "id": "e9ac731a",
   "metadata": {},
   "source": [
    "Representeer de onderstaande vector in code:\n",
    "\n",
    "$$\n",
    "  \\begin{pmatrix}\n",
    "    1 & 2 & 3\n",
    "  \\end{pmatrix}\n",
    "$$"
   ]
  },
  {
   "cell_type": "code",
   "execution_count": 1,
   "id": "72c55633",
   "metadata": {},
   "outputs": [
    {
     "name": "stdout",
     "output_type": "stream",
     "text": [
      "The vector dimensions are 1 x 3.\n",
      "The number of elements is 3.\n"
     ]
    }
   ],
   "source": [
    "# How many rows and colums does this vector have?\n",
    "\n",
    "# 1 row and 3 columns\n",
    "\n",
    "# Use the definition at the top to implement this vector:\n",
    "\n",
    "vec =  {'rows': 1, 'cols': 3, 'data': [1, 2, 3]}\n",
    "\n",
    "# Can you print its dimensions? (rows, cols)\n",
    "# met dubbele en enkele quotes om voortijdig afsluiten te voorkomen !\n",
    "\n",
    "print(f\"The vector dimensions are {vec['rows']} x {vec['cols']}.\")\n",
    "\n",
    "# Can you print the number of elements?\n",
    "\n",
    "print(f\"The number of elements is {len(vec['data'])}.\")"
   ]
  },
  {
   "cell_type": "markdown",
   "id": "0abbc0ad",
   "metadata": {},
   "source": [
    "### 2. Een vector als kolom*"
   ]
  },
  {
   "cell_type": "markdown",
   "id": "ac4f647f",
   "metadata": {},
   "source": [
    "Representeer de onderstaande vector in code:\n",
    "\n",
    "$$\n",
    "  \\begin{pmatrix}\n",
    "    1 \\\\\n",
    "    2 \\\\\n",
    "    3\n",
    "  \\end{pmatrix}\n",
    "$$"
   ]
  },
  {
   "cell_type": "code",
   "execution_count": 2,
   "id": "f4f6bfc9",
   "metadata": {},
   "outputs": [
    {
     "name": "stdout",
     "output_type": "stream",
     "text": [
      "The vector dimensions are 3 x 1.\n",
      "The number of elements is 3.\n"
     ]
    }
   ],
   "source": [
    "# How many rows and colums does this vector have?\n",
    "\n",
    "# 3 rows and 1 columns\n",
    "\n",
    "# Use the definition at the top to implement this vector:\n",
    "\n",
    "vec =  {'rows': 3, 'cols': 1, 'data': [1, 2, 3]}\n",
    "\n",
    "# Can you print its dimensions? (rows, cols)\n",
    "\n",
    "print(f\"The vector dimensions are {vec['rows']} x {vec['cols']}.\")\n",
    "\n",
    "# Can you print the number of elements?\n",
    "\n",
    "print(f\"The number of elements is {len(vec['data'])}.\")"
   ]
  },
  {
   "cell_type": "markdown",
   "id": "8de02084",
   "metadata": {},
   "source": [
    "### 3. Vectoren optellen**"
   ]
  },
  {
   "cell_type": "markdown",
   "id": "c2edbb39",
   "metadata": {},
   "source": [
    "Tel de onderstaande vectoren bij elkaar op:\n",
    "\n",
    "$$\n",
    "  \\begin{pmatrix}\n",
    "    1 \\\\\n",
    "    2 \\\\\n",
    "    3\n",
    "  \\end{pmatrix}\n",
    "  +\n",
    "    \\begin{pmatrix}\n",
    "    9 \\\\\n",
    "    8 \\\\\n",
    "    7\n",
    "  \\end{pmatrix}\n",
    "  =\n",
    "  ...\n",
    "$$"
   ]
  },
  {
   "cell_type": "code",
   "execution_count": 3,
   "id": "9fd6bc2a",
   "metadata": {},
   "outputs": [
    {
     "name": "stdout",
     "output_type": "stream",
     "text": [
      "The vector dimensions are the same.\n",
      "{'rows': 3, 'cols': 1, 'data': ['0', '0', '0']}\n",
      "{'rows': 3, 'cols': 1, 'data': [10, 10, 10]}\n"
     ]
    }
   ],
   "source": [
    "# Implement both vectors:\n",
    "\n",
    "vec1 =  {'rows': 3, 'cols': 1, 'data': [1, 2, 3]}\n",
    "vec2 =  {'rows': 3, 'cols': 1, 'data': [9, 8, 7]}\n",
    "\n",
    "# Can we add them? Check if dimensions are the same:\n",
    "\n",
    "if vec1['rows']==vec2['rows'] and vec1['cols'] == vec2['cols']:\n",
    "    print('The vector dimensions are the same.')\n",
    "else:\n",
    "    print('The vector dimensions are NOT the same.')\n",
    "\n",
    "# How do you add these vectors by hand?\n",
    "\n",
    "# vec1(element1)+vec2(element1) = vec_new(element1)\n",
    "# vec1(element2)+vec2(element2) = vec_new(element2)\n",
    "# vec1(element3)+vec2(element3) = vec_new(element3)\n",
    "\n",
    "# Now add the vectors in code:\n",
    "# Define vec_new as vec3\n",
    "\n",
    "vec3 =  {'rows': 3, 'cols': 1, 'data': ['0', '0', '0']}\n",
    "print(vec3)\n",
    "#vec1(element1)+vec2(element1) = vec3(element1)\n",
    "\n",
    "# vec3['data'][0] = vec1['data'][0]+vec2['data'][0]\n",
    "# vec3['data'][1] = vec1['data'][1]+vec2['data'][1]\n",
    "# vec3['data'][2] = vec1['data'][2]+vec2['data'][2]\n",
    "\n",
    "for i in range(len(vec3['data'])):\n",
    "    vec3['data'][i] = vec1['data'][i]+vec2['data'][i]\n",
    "\n",
    "print(vec3)\n",
    "\n",
    "#later: define functie, ask rows, ask columns, create data based on rows and columns\n",
    "\n",
    "# alternative: extract the lists, add up the elements, put the list in vec3['data'][]"
   ]
  },
  {
   "cell_type": "markdown",
   "id": "10e3be49",
   "metadata": {},
   "source": [
    "Tel de onderstaande vectoren bij elkaar op:\n",
    "\n",
    "$$\n",
    "  \\begin{pmatrix}\n",
    "    1 & 2 & 3\n",
    "  \\end{pmatrix}\n",
    "  +\n",
    "  \\begin{pmatrix}\n",
    "    9 & 8 & 7\n",
    "  \\end{pmatrix}\n",
    "  =\n",
    "  ...\n",
    "$$"
   ]
  },
  {
   "cell_type": "code",
   "execution_count": 4,
   "id": "3319db0c",
   "metadata": {},
   "outputs": [
    {
     "name": "stdout",
     "output_type": "stream",
     "text": [
      "The vector dimensions are the same.\n",
      "{'rows': 3, 'cols': 1, 'data': ['0', '0', '0']}\n",
      "{'rows': 3, 'cols': 1, 'data': [10, 10, 10]}\n"
     ]
    }
   ],
   "source": [
    "# Implement both vectors:\n",
    "\n",
    "vec1 =  {'rows': 1, 'cols': 3, 'data': [1, 2, 3]}\n",
    "vec2 =  {'rows': 1, 'cols': 3, 'data': [9, 8, 7]}\n",
    "\n",
    "\n",
    "# Can we add them? Check if dimensions are the same:\n",
    "\n",
    "if vec1['rows']==vec2['rows'] and vec1['cols'] == vec2['cols']:\n",
    "    print('The vector dimensions are the same.')\n",
    "else:\n",
    "    print('The vector dimensions are NOT the same.')\n",
    "\n",
    "# How do you add these vectors by hand?\n",
    "\n",
    "# vec1(element1)+vec2(element1) = vec_new(element1)\n",
    "# vec1(element2)+vec2(element2) = vec_new(element2)\n",
    "# vec1(element3)+vec2(element3) = vec_new(element3)\n",
    "\n",
    "\n",
    "# Now add the vectors in code:\n",
    "\n",
    "vec3 =  {'rows': 3, 'cols': 1, 'data': ['0', '0', '0']}\n",
    "print(vec3)\n",
    "#vec1(element1)+vec2(element1) = vec3(element1)\n",
    "\n",
    "for i in range(len(vec3['data'])):\n",
    "    vec3['data'][i] = vec1['data'][i]+vec2['data'][i]\n",
    "\n",
    "print(vec3)"
   ]
  },
  {
   "cell_type": "markdown",
   "id": "ecf7d53a",
   "metadata": {},
   "source": [
    "## Matrices"
   ]
  },
  {
   "cell_type": "markdown",
   "id": "aea58d0c",
   "metadata": {},
   "source": [
    "### 1. Een 3 x 3 matrix*"
   ]
  },
  {
   "cell_type": "markdown",
   "id": "8ecdf748",
   "metadata": {},
   "source": [
    "Representeer de onderstaande matrix in code:\n",
    "\n",
    "$$\n",
    "  \\begin{pmatrix}\n",
    "    1 & 2 & 3\\\\\n",
    "    4 & 5 & 6\\\\\n",
    "    7 & 8 & 9\\\\\n",
    "  \\end{pmatrix}\n",
    "$$"
   ]
  },
  {
   "cell_type": "code",
   "execution_count": 5,
   "id": "744a8d77",
   "metadata": {},
   "outputs": [
    {
     "name": "stdout",
     "output_type": "stream",
     "text": [
      "The matrix dimensions are 3 x 3.\n",
      "The number of elements is 9.\n"
     ]
    }
   ],
   "source": [
    "# How many rows and colums does this matrix have?\n",
    "\n",
    "# 3 rows and 3 columns \n",
    "\n",
    "# Use the definition at the top to implement this matrix:\n",
    "\n",
    "mat = {'rows': 3, 'cols': 3, 'data': [1, 2, 3, 4, 5, 6, 7, 8, 9]}\n",
    "\n",
    "# Can you print its dimensions? (rows, cols)\n",
    "\n",
    "print(f\"The matrix dimensions are {mat['rows']} x {mat['cols']}.\")\n",
    "\n",
    "# Can you print the number of elements?\n",
    "\n",
    "print(f\"The number of elements is {len(mat['data'])}.\")"
   ]
  },
  {
   "cell_type": "markdown",
   "id": "78d195fb",
   "metadata": {},
   "source": [
    "### 2. Matrices optellen**"
   ]
  },
  {
   "cell_type": "markdown",
   "id": "1554b6d8",
   "metadata": {},
   "source": [
    "Tel de onderstaande matrices op:\n",
    "\n",
    "$$\n",
    "  \\begin{pmatrix}\n",
    "    1 & 2 & 3\\\\\n",
    "    4 & 5 & 6\\\\\n",
    "    7 & 8 & 9\\\\\n",
    "  \\end{pmatrix}\n",
    "  +\n",
    "    \\begin{pmatrix}\n",
    "    9 & 8 & 7\\\\\n",
    "    6 & 5 & 4\\\\\n",
    "    3 & 2 & 1\\\\\n",
    "  \\end{pmatrix}\n",
    "  =\n",
    "  ...\n",
    "$$"
   ]
  },
  {
   "cell_type": "code",
   "execution_count": 6,
   "id": "ac6bd48c",
   "metadata": {},
   "outputs": [
    {
     "name": "stdout",
     "output_type": "stream",
     "text": [
      "The matrix dimensions are the same.\n",
      "{'rows': 3, 'cols': 3, 'data': ['0', '0', '0', '0', '0', '0', '0', '0', '0']}\n",
      "{'rows': 3, 'cols': 3, 'data': [10, 10, 10, 10, 10, 10, 10, 10, 10]}\n"
     ]
    }
   ],
   "source": [
    "# Implement both matrices:\n",
    "\n",
    "mat1 = {'rows': 3, 'cols': 3, 'data': [1, 2, 3, 4, 5, 6, 7, 8, 9]}\n",
    "mat2 = {'rows': 3, 'cols': 3, 'data': [9, 8, 7, 6, 5, 4, 3, 2, 1]}\n",
    "\n",
    "# Can we add them? Check if dimensions are the same:\n",
    "\n",
    "if mat1['rows']==mat2['rows'] and mat1['cols'] == mat2['cols']:\n",
    "    print('The matrix dimensions are the same.')\n",
    "else:\n",
    "    print('The matrix dimensions are NOT the same.')\n",
    "\n",
    "\n",
    "# How do you add these matrices by hand?\n",
    "\n",
    "# mat1(element1)+mat2(element1) = mat3(element1)\n",
    "# mat1(element2)+mat2(element2) = mat3(element2)\n",
    "# ...\n",
    "# mat1(element9)+mat2(element9) = mat3(element9)\n",
    "\n",
    "# Now add the matrices in code:\n",
    "\n",
    "mat3 =  {'rows': 3, 'cols': 3, 'data': ['0', '0', '0', '0', '0', '0', '0', '0', '0']}\n",
    "print(mat3)\n",
    "\n",
    "\n",
    "for i in range(len(mat3['data'])):\n",
    "    mat3['data'][i] = mat1['data'][i] + mat2['data'][i]\n",
    "\n",
    "print(mat3)\n",
    "\n",
    "# In case you didn't: can you generalize this algorithm?\n",
    "\n",
    "# yes ;-)\n",
    "\n",
    "# mat1 = {'rows': r1, 'cols': c1, 'data': [1, 2, 3, 4, 5, 6, 7, 8, 9]}\n",
    "# mat2 = {'rows': r2, 'cols': c2, 'data': [9, 8, 7, 6, 5, 4, 3, 2, 1]}\n",
    "# ask for input: 4 integers r1, c1, r2, c2 \n",
    "\n",
    "# mat3 =  {'rows': 3, 'cols': 3, 'data': ['0' * r1 * r2]}\n",
    "\n"
   ]
  },
  {
   "cell_type": "markdown",
   "id": "7bff9837",
   "metadata": {},
   "source": [
    "### 3. Matrices vermenigvuldigen***"
   ]
  },
  {
   "cell_type": "markdown",
   "id": "4dba734d",
   "metadata": {},
   "source": [
    "Vermenigvuldig de onderstaande matrices:\n",
    "\n",
    "$$\n",
    "  \\begin{pmatrix}\n",
    "    1 & 2 & 3\\\\\n",
    "    4 & 5 & 6\n",
    "  \\end{pmatrix}\n",
    "  *\n",
    "    \\begin{pmatrix}\n",
    "    9 & 8\\\\\n",
    "    6 & 5\\\\\n",
    "    3 & 2\\\\\n",
    "  \\end{pmatrix}\n",
    "  =\n",
    "  ...\n",
    "$$"
   ]
  },
  {
   "cell_type": "code",
   "execution_count": 10,
   "id": "9895aaab",
   "metadata": {},
   "outputs": [
    {
     "name": "stdout",
     "output_type": "stream",
     "text": [
      "The matrix dimensions satisfy the (M by N) * (N by K) = (M by K) rule.\n",
      "[30, 24, 84, 69]\n",
      "{'rows': 2, 'cols': 2, 'data': [30, 24, 84, 69]}\n"
     ]
    }
   ],
   "source": [
    "# Implement both matrices:\n",
    "\n",
    "mat1 = {'rows': 2, 'cols': 3, 'data': [1, 2, 3, 4, 5, 6]}\n",
    "mat2 = {'rows': 3, 'cols': 2, 'data': [9, 8, 6, 5, 3, 2]}\n",
    "\n",
    "# Can we multiply them? Check if dimensions satisfy the (M by N) * (N by K) = (M by K) rule:\n",
    "# The rule can be simplified: check if N in mat1 equals to N in mat2\n",
    "\n",
    "if mat1['cols'] == mat2['rows']:\n",
    "    print('The matrix dimensions satisfy the (M by N) * (N by K) = (M by K) rule.')\n",
    "else:\n",
    "    print('The matrix dimensions do NOT satisfy the (M by N) * (N by K) = (M by K) rule.')\n",
    "\n",
    "# How do you multiply these matrices by hand?\n",
    "\n",
    "# mat1(element1) x mat2(element1) = mat12(element1)\n",
    "# mat1(element2) x mat2(element3) = mat12(element2)\n",
    "# mat1(element3) x mat2(element5) = mat12(element3)\n",
    "# \n",
    "# mat12(element1) + mat12(element2) + mat12(element3) = mat3(element1)\n",
    "#\n",
    "# mat1(element1) x mat2(element2) = mat12(element1)\n",
    "# mat1(element2) x mat2(element4) = mat12(element2)\n",
    "# mat1(element3) x mat2(element6) = mat12(element3)\n",
    "# \n",
    "# mat12(element1) + mat12(element2) + mat12(element3) = mat3(element2)\n",
    "#\n",
    "# mat1(element4) x mat2(element1) = mat12(element4)\n",
    "# mat1(element5) x mat2(element3) = mat12(element5)\n",
    "# mat1(element6) x mat2(element5) = mat12(element6)\n",
    "#\n",
    "# mat12(element4) + mat12(element5) + mat12(element6) = mat3(element3)\n",
    "#\n",
    "# mat1(element4) x mat2(element2) = mat12(element4)\n",
    "# mat1(element5) x mat2(element4) = mat12(element5)\n",
    "# mat1(element6) x mat2(element6) = mat12(element6)\n",
    "#\n",
    "# mat12(element4) + mat12(element5) + mat12(element6) = mat3(element4)\n",
    "\n",
    "# Resulting in a matrix:\n",
    "# [ 30  24 ]\n",
    "# [ 84  69 ]\n",
    "\n",
    "# Resulting in a list [30, 24, 84, 69]\n",
    "#_______________________________________________________________________\n",
    "\n",
    "\n",
    "# Now multiply the matrices in code:\n",
    "\n",
    "\n",
    "# mat3(element0) = mat1(row0)* mat2(col0) \n",
    "# mat3(element1) = mat1(row0)* mat2(col1) \n",
    "# mat3(element2) = mat1(row1)* mat2(col0) \n",
    "# mat3(element3) = mat1(row1)* mat2(col1) \n",
    "\n",
    "\n",
    "# The dimensions satisfy N and there are 2 x N rows => 2 for loops that loops through the first matrix in the normal order and through the second matrix by 1,3,5 and 2,4,6 is index + 2\n",
    "\n",
    "#step met lengte mat2['cols']\n",
    "\n",
    "# 4 groepen \n",
    "\n",
    "#_______________________________________________________\n",
    "\n",
    "# 1e poging\n",
    "\n",
    "e = 0\n",
    "\n",
    "m1 = mat1['data']\n",
    "m2 = mat2['data']\n",
    "\n",
    "e0 = 0\n",
    "e1 = 0\n",
    "e2 = 0\n",
    "e3 = 0\n",
    "\n",
    "\n",
    "n=0\n",
    "y=0\n",
    "z=2\n",
    "while n < 3:\n",
    "    e = m1[n]*m2[y]\n",
    "    n += 1\n",
    "    y +=2\n",
    "    e0 += e\n",
    "\n",
    "    \n",
    "n=0\n",
    "y=1\n",
    "z=2\n",
    "e=0\n",
    "while n < 3:\n",
    "    e = m1[n]*m2[y]\n",
    "    n += 1\n",
    "    y +=2\n",
    "    e1 += e\n",
    "   \n",
    "    \n",
    "n=0\n",
    "y=0\n",
    "z=n+3\n",
    "e=0\n",
    "\n",
    "while  n < 3:\n",
    "    e = m1[z]*m2[y]\n",
    "    n += 1\n",
    "    z += 1\n",
    "    y += 2\n",
    "    e2 += e\n",
    "    \n",
    " \n",
    "    \n",
    "n=0\n",
    "y=1\n",
    "z=n+3\n",
    "e=0\n",
    "\n",
    "while  n < 3:\n",
    "    e = m1[z]*m2[y]\n",
    "    n += 1\n",
    "    z += 1\n",
    "    y += 2\n",
    "    e3 += e\n",
    "\n",
    "mat3['data'][0]=e0\n",
    "mat3['data'][1]=e1\n",
    "mat3['data'][2]=e2\n",
    "mat3['data'][3]=e3\n",
    "\n",
    "\n",
    "#________________________________________________________\n",
    "\n",
    "# 2e poging\n",
    "\n",
    "mat1 = {'rows': 2, 'cols': 3, 'data': [1, 2, 3, 4, 5, 6]}\n",
    "mat2 = {'rows': 3, 'cols': 2, 'data': [9, 8, 6, 5, 3, 2]}\n",
    "\n",
    "#mat3 = {'rows': 2, 'cols': 2, 'data': [0, 0, 0, 0]}\n",
    "mat3 = {'rows': mat2['cols'], 'cols': mat1['rows'], 'data': [0]*mat1['rows']*mat2['cols']}\n",
    "\n",
    "counter1 = int(len(mat1['data'])) \n",
    "counter2 = int(len(mat2['data'])) \n",
    "\n",
    "\n",
    "mat1row0 = int(counter1/2)\n",
    "mat1row1 = int(counter1 - mat1row0)\n",
    "\n",
    "\n",
    "# Step 1: mat1row0 * mat2col0\n",
    "e1, e2, e_product, e_sum = 0, 0, 0, 0\n",
    "list3 = []\n",
    "for e in range(0,mat1row0):\n",
    "    e_product = mat1['data'][e1] * mat2['data'][e2]\n",
    "    e_sum += e_product\n",
    "    e1 += 1\n",
    "    e2 += 2\n",
    "    \n",
    "list3.append(e_sum)\n",
    "\n",
    "# Step 2: mat1row0 * mat2col1\n",
    "e_sum, e_product = 0,0\n",
    "e1, e2 = 0, 1\n",
    "\n",
    "for e in range(0, mat1row0):\n",
    "    e_product = mat1['data'][e1] * mat2['data'][e2]\n",
    "    e_sum += e_product\n",
    "    e1 += 1\n",
    "    e2 += 2\n",
    "    \n",
    "list3.append(e_sum)\n",
    "\n",
    "# Step 3: mat1row1 * mat2col0\n",
    "e_sum, e_product = 0,0\n",
    "e1, e2 = 3, 0\n",
    "\n",
    "for e in range(mat1row1, counter1):\n",
    "    e_product = mat1['data'][e1] * mat2['data'][e2]\n",
    "    e_sum += e_product\n",
    "    e1 += 1\n",
    "    e2 += 2\n",
    "   \n",
    "list3.append(e_sum)\n",
    "\n",
    "# Step 4: mat1row1 * mat2col1\n",
    "e_sum, e_product = 0,0\n",
    "e1, e2 = 3, 1\n",
    "\n",
    "for e in range(mat1row1, counter1):\n",
    "    e_product = mat1['data'][e1] * mat2['data'][e2]\n",
    "    e_sum += e_product\n",
    "    e1 += 1\n",
    "    e2 += 2\n",
    "    \n",
    "list3.append(e_sum)\n",
    "\n",
    "mat3 = {'rows': 2, 'cols': 2, 'data': list3}\n",
    "print(list3)\n",
    "print(mat3)\n",
    "        \n",
    "\n",
    "# In case you didn't: can you generalize this algorithm?\n",
    "\n",
    "# for i in range(mat1['rows']):\n",
    "#     for j in range(0, mat2['cols'], mat2['cols']):\n",
    "\n",
    "# for i in range(mat1['rows']):\n",
    "#     for j in range(0, mat2['cols'], 2):\n",
    "#         list3[i] = (list1[i] * list2[i])\n"
   ]
  },
  {
   "cell_type": "code",
   "execution_count": null,
   "id": "a2090c7b-6d22-45eb-8204-f648b8d685a9",
   "metadata": {},
   "outputs": [],
   "source": []
  }
 ],
 "metadata": {
  "kernelspec": {
   "display_name": "Python 3 (ipykernel)",
   "language": "python",
   "name": "python3"
  },
  "language_info": {
   "codemirror_mode": {
    "name": "ipython",
    "version": 3
   },
   "file_extension": ".py",
   "mimetype": "text/x-python",
   "name": "python",
   "nbconvert_exporter": "python",
   "pygments_lexer": "ipython3",
   "version": "3.10.9"
  }
 },
 "nbformat": 4,
 "nbformat_minor": 5
}
