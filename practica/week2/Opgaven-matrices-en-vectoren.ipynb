{
 "cells": [
  {
   "cell_type": "markdown",
   "id": "2ea724be",
   "metadata": {},
   "source": [
    "# Matrices en vectoren"
   ]
  },
  {
   "cell_type": "markdown",
   "id": "18595eca",
   "metadata": {},
   "source": [
    "Er zijn meerdere manieren om een matrix te representeren.\n",
    "\n",
    "Hier kiezen we voor het volgende datamodel:\n",
    "\n",
    "`matrix_2D :: {rows: int, cols: int, data: []}`\n",
    "\n",
    "Implementeer onderstaande opdrachten in Python."
   ]
  },
  {
   "cell_type": "markdown",
   "id": "42182308",
   "metadata": {},
   "source": [
    "## Vectoren"
   ]
  },
  {
   "cell_type": "markdown",
   "id": "db43ccb1",
   "metadata": {},
   "source": [
    "### 1. Een vector als rij*"
   ]
  },
  {
   "cell_type": "markdown",
   "id": "e9ac731a",
   "metadata": {},
   "source": [
    "Representeer de onderstaande vector in code:\n",
    "\n",
    "$$\n",
    "  \\begin{pmatrix}\n",
    "    1 & 2 & 3\n",
    "  \\end{pmatrix}\n",
    "$$"
   ]
  },
  {
   "cell_type": "code",
   "execution_count": 29,
   "id": "72c55633",
   "metadata": {},
   "outputs": [
    {
     "name": "stdout",
     "output_type": "stream",
     "text": [
      "The vector dimensions are 1 x 3.\n",
      "The number of elements is 3.\n"
     ]
    }
   ],
   "source": [
    "# How many rows and colums does this vector have?\n",
    "\n",
    "# 1 row and 3 columns\n",
    "\n",
    "# Use the definition at the top to implement this vector:\n",
    "\n",
    "vec =  {'rows': 1, 'cols': 3, 'data': [1, 2, 3]}\n",
    "\n",
    "# Can you print its dimensions? (rows, cols)\n",
    "# met dubbele en enkele quotes om voortijdig afsluiten te voorkomen !\n",
    "\n",
    "print(f\"The vector dimensions are {vec['rows']} x {vec['cols']}.\")\n",
    "\n",
    "# Can you print the number of elements?\n",
    "\n",
    "print(f\"The number of elements is {len(vec['data'])}.\")"
   ]
  },
  {
   "cell_type": "markdown",
   "id": "0abbc0ad",
   "metadata": {},
   "source": [
    "### 2. Een vector als kolom*"
   ]
  },
  {
   "cell_type": "markdown",
   "id": "ac4f647f",
   "metadata": {},
   "source": [
    "Representeer de onderstaande vector in code:\n",
    "\n",
    "$$\n",
    "  \\begin{pmatrix}\n",
    "    1 \\\\\n",
    "    2 \\\\\n",
    "    3\n",
    "  \\end{pmatrix}\n",
    "$$"
   ]
  },
  {
   "cell_type": "code",
   "execution_count": 30,
   "id": "f4f6bfc9",
   "metadata": {},
   "outputs": [
    {
     "name": "stdout",
     "output_type": "stream",
     "text": [
      "The vector dimensions are 3 x 1.\n",
      "The number of elements is 3.\n"
     ]
    }
   ],
   "source": [
    "# How many rows and colums does this vector have?\n",
    "\n",
    "# 3 rows and 1 columns\n",
    "\n",
    "# Use the definition at the top to implement this vector:\n",
    "\n",
    "vec =  {'rows': 3, 'cols': 1, 'data': [1, 2, 3]}\n",
    "\n",
    "# Can you print its dimensions? (rows, cols)\n",
    "\n",
    "print(f\"The vector dimensions are {vec['rows']} x {vec['cols']}.\")\n",
    "\n",
    "# Can you print the number of elements?\n",
    "\n",
    "print(f\"The number of elements is {len(vec['data'])}.\")"
   ]
  },
  {
   "cell_type": "markdown",
   "id": "8de02084",
   "metadata": {},
   "source": [
    "### 3. Vectoren optellen**"
   ]
  },
  {
   "cell_type": "markdown",
   "id": "c2edbb39",
   "metadata": {},
   "source": [
    "Tel de onderstaande vectoren bij elkaar op:\n",
    "\n",
    "$$\n",
    "  \\begin{pmatrix}\n",
    "    1 \\\\\n",
    "    2 \\\\\n",
    "    3\n",
    "  \\end{pmatrix}\n",
    "  +\n",
    "    \\begin{pmatrix}\n",
    "    9 \\\\\n",
    "    8 \\\\\n",
    "    7\n",
    "  \\end{pmatrix}\n",
    "  =\n",
    "  ...\n",
    "$$"
   ]
  },
  {
   "cell_type": "code",
   "execution_count": 58,
   "id": "9fd6bc2a",
   "metadata": {},
   "outputs": [
    {
     "name": "stdout",
     "output_type": "stream",
     "text": [
      "The vector dimensions are the same.\n",
      "{'rows': 3, 'cols': 1, 'data': ['0', '0', '0']}\n",
      "{'rows': 3, 'cols': 1, 'data': [10, 10, 10]}\n"
     ]
    }
   ],
   "source": [
    "# Implement both vectors:\n",
    "\n",
    "vec1 =  {'rows': 3, 'cols': 1, 'data': [1, 2, 3]}\n",
    "vec2 =  {'rows': 3, 'cols': 1, 'data': [9, 8, 7]}\n",
    "\n",
    "# Can we add them? Check if dimensions are the same:\n",
    "\n",
    "if vec1['rows']==vec2['rows'] and vec1['cols'] == vec2['cols']:\n",
    "    print('The vector dimensions are the same.')\n",
    "else:\n",
    "    print('The vector dimensions are NOT the same.')\n",
    "\n",
    "# How do you add these vectors by hand?\n",
    "\n",
    "# vec1(element1)+vec2(element1) = vec_new(element1)\n",
    "# vec1(element2)+vec2(element2) = vec_new(element2)\n",
    "# vec1(element3)+vec2(element3) = vec_new(element3)\n",
    "\n",
    "# Now add the vectors in code:\n",
    "# Define vec_new as vec3\n",
    "\n",
    "vec3 =  {'rows': 3, 'cols': 1, 'data': ['0', '0', '0']}\n",
    "print(vec3)\n",
    "#vec1(element1)+vec2(element1) = vec3(element1)\n",
    "\n",
    "# vec3['data'][0] = vec1['data'][0]+vec2['data'][0]\n",
    "# vec3['data'][1] = vec1['data'][1]+vec2['data'][1]\n",
    "# vec3['data'][2] = vec1['data'][2]+vec2['data'][2]\n",
    "\n",
    "for i in range(len(vec3['data'])):\n",
    "    vec3['data'][i] = vec1['data'][i]+vec2['data'][i]\n",
    "\n",
    "print(vec3)\n",
    "\n",
    "#later: define functie, ask rows, ask columns, create data based on rows and columns\n",
    "\n",
    "# alternative: extract the lists, add up the elements, put the list in vec3['data'][]"
   ]
  },
  {
   "cell_type": "markdown",
   "id": "10e3be49",
   "metadata": {},
   "source": [
    "Tel de onderstaande vectoren bij elkaar op:\n",
    "\n",
    "$$\n",
    "  \\begin{pmatrix}\n",
    "    1 & 2 & 3\n",
    "  \\end{pmatrix}\n",
    "  +\n",
    "  \\begin{pmatrix}\n",
    "    9 & 8 & 7\n",
    "  \\end{pmatrix}\n",
    "  =\n",
    "  ...\n",
    "$$"
   ]
  },
  {
   "cell_type": "code",
   "execution_count": 52,
   "id": "3319db0c",
   "metadata": {},
   "outputs": [
    {
     "name": "stdout",
     "output_type": "stream",
     "text": [
      "The vector dimensions are the same.\n",
      "{'rows': 3, 'cols': 1, 'data': ['0', '0', '0']}\n",
      "{'rows': 3, 'cols': 1, 'data': [10, 10, 10]}\n"
     ]
    }
   ],
   "source": [
    "# Implement both vectors:\n",
    "\n",
    "vec1 =  {'rows': 1, 'cols': 3, 'data': [1, 2, 3]}\n",
    "vec2 =  {'rows': 1, 'cols': 3, 'data': [9, 8, 7]}\n",
    "\n",
    "\n",
    "# Can we add them? Check if dimensions are the same:\n",
    "\n",
    "if vec1['rows']==vec2['rows'] and vec1['cols'] == vec2['cols']:\n",
    "    print('The vector dimensions are the same.')\n",
    "else:\n",
    "    print('The vector dimensions are NOT the same.')\n",
    "\n",
    "# How do you add these vectors by hand?\n",
    "\n",
    "# vec1(element1)+vec2(element1) = vec_new(element1)\n",
    "# vec1(element2)+vec2(element2) = vec_new(element2)\n",
    "# vec1(element3)+vec2(element3) = vec_new(element3)\n",
    "\n",
    "\n",
    "# Now add the vectors in code:\n",
    "\n",
    "vec3 =  {'rows': 3, 'cols': 1, 'data': ['0', '0', '0']}\n",
    "print(vec3)\n",
    "#vec1(element1)+vec2(element1) = vec3(element1)\n",
    "\n",
    "for i in range(len(vec3['data'])):\n",
    "    vec3['data'][i] = vec1['data'][i]+vec2['data'][i]\n",
    "\n",
    "print(vec3)"
   ]
  },
  {
   "cell_type": "markdown",
   "id": "ecf7d53a",
   "metadata": {},
   "source": [
    "## Matrices"
   ]
  },
  {
   "cell_type": "markdown",
   "id": "aea58d0c",
   "metadata": {},
   "source": [
    "### 1. Een 3 x 3 matrix*"
   ]
  },
  {
   "cell_type": "markdown",
   "id": "8ecdf748",
   "metadata": {},
   "source": [
    "Representeer de onderstaande matrix in code:\n",
    "\n",
    "$$\n",
    "  \\begin{pmatrix}\n",
    "    1 & 2 & 3\\\\\n",
    "    4 & 5 & 6\\\\\n",
    "    7 & 8 & 9\\\\\n",
    "  \\end{pmatrix}\n",
    "$$"
   ]
  },
  {
   "cell_type": "code",
   "execution_count": 55,
   "id": "744a8d77",
   "metadata": {},
   "outputs": [
    {
     "name": "stdout",
     "output_type": "stream",
     "text": [
      "The matrix dimensions are 3 x 3.\n",
      "The number of elements is 9.\n"
     ]
    }
   ],
   "source": [
    "# How many rows and colums does this matrix have?\n",
    "\n",
    "# 3 rows and 3 columns \n",
    "\n",
    "# Use the definition at the top to implement this matrix:\n",
    "\n",
    "mat = {'rows': 3, 'cols': 3, 'data': [1, 2, 3, 4, 5, 6, 7, 8, 9]}\n",
    "\n",
    "# Can you print its dimensions? (rows, cols)\n",
    "\n",
    "print(f\"The matrix dimensions are {mat['rows']} x {mat['cols']}.\")\n",
    "\n",
    "# Can you print the number of elements?\n",
    "\n",
    "print(f\"The number of elements is {len(mat['data'])}.\")"
   ]
  },
  {
   "cell_type": "markdown",
   "id": "78d195fb",
   "metadata": {},
   "source": [
    "### 2. Matrices optellen**"
   ]
  },
  {
   "cell_type": "markdown",
   "id": "1554b6d8",
   "metadata": {},
   "source": [
    "Tel de onderstaande matrices op:\n",
    "\n",
    "$$\n",
    "  \\begin{pmatrix}\n",
    "    1 & 2 & 3\\\\\n",
    "    4 & 5 & 6\\\\\n",
    "    7 & 8 & 9\\\\\n",
    "  \\end{pmatrix}\n",
    "  +\n",
    "    \\begin{pmatrix}\n",
    "    9 & 8 & 7\\\\\n",
    "    6 & 5 & 4\\\\\n",
    "    3 & 2 & 1\\\\\n",
    "  \\end{pmatrix}\n",
    "  =\n",
    "  ...\n",
    "$$"
   ]
  },
  {
   "cell_type": "code",
   "execution_count": 63,
   "id": "ac6bd48c",
   "metadata": {},
   "outputs": [
    {
     "name": "stdout",
     "output_type": "stream",
     "text": [
      "The matrix dimensions are the same.\n",
      "{'rows': 3, 'cols': 3, 'data': ['0', '0', '0', '0', '0', '0', '0', '0', '0']}\n",
      "{'rows': 3, 'cols': 3, 'data': [10, 10, 10, 10, 10, 10, 10, 10, 10]}\n"
     ]
    }
   ],
   "source": [
    "# Implement both matrices:\n",
    "\n",
    "mat1 = {'rows': 3, 'cols': 3, 'data': [1, 2, 3, 4, 5, 6, 7, 8, 9]}\n",
    "mat2 = {'rows': 3, 'cols': 3, 'data': [9, 8, 7, 6, 5, 4, 3, 2, 1]}\n",
    "\n",
    "# Can we add them? Check if dimensions are the same:\n",
    "\n",
    "if mat1['rows']==mat2['rows'] and mat1['cols'] == mat2['cols']:\n",
    "    print('The matrix dimensions are the same.')\n",
    "else:\n",
    "    print('The matrix dimensions are NOT the same.')\n",
    "\n",
    "\n",
    "# How do you add these matrices by hand?\n",
    "\n",
    "# mat1(element1)+mat2(element1) = mat3(element1)\n",
    "# mat1(element2)+mat2(element2) = mat3(element2)\n",
    "# ...\n",
    "# mat1(element9)+mat2(element9) = mat3(element9)\n",
    "\n",
    "# Now add the matrices in code:\n",
    "\n",
    "mat3 =  {'rows': 3, 'cols': 3, 'data': ['0', '0', '0', '0', '0', '0', '0', '0', '0']}\n",
    "print(mat3)\n",
    "\n",
    "\n",
    "for i in range(len(mat3['data'])):\n",
    "    mat3['data'][i] = mat1['data'][i] + mat2['data'][i]\n",
    "\n",
    "print(mat3)\n",
    "\n",
    "# In case you didn't: can you generalize this algorithm?\n",
    "\n",
    "# ..."
   ]
  },
  {
   "cell_type": "markdown",
   "id": "7bff9837",
   "metadata": {},
   "source": [
    "### 3. Matrices vermenigvuldigen***"
   ]
  },
  {
   "cell_type": "markdown",
   "id": "4dba734d",
   "metadata": {},
   "source": [
    "Vermenigvuldig de onderstaande matrices:\n",
    "\n",
    "$$\n",
    "  \\begin{pmatrix}\n",
    "    1 & 2 & 3\\\\\n",
    "    4 & 5 & 6\n",
    "  \\end{pmatrix}\n",
    "  *\n",
    "    \\begin{pmatrix}\n",
    "    9 & 8\\\\\n",
    "    6 & 5\\\\\n",
    "    3 & 2\\\\\n",
    "  \\end{pmatrix}\n",
    "  =\n",
    "  ...\n",
    "$$"
   ]
  },
  {
   "cell_type": "code",
   "execution_count": 87,
   "id": "9895aaab",
   "metadata": {},
   "outputs": [
    {
     "name": "stdout",
     "output_type": "stream",
     "text": [
      "The matrix dimensions satisfy the (M by N) * (N by K) = (M by K) rule.\n",
      "[10, 10]\n",
      "2\n"
     ]
    }
   ],
   "source": [
    "# Implement both matrices:\n",
    "\n",
    "mat1 = {'rows': 2, 'cols': 3, 'data': [1, 2, 3, 4, 5, 6]}\n",
    "mat2 = {'rows': 3, 'cols': 2, 'data': [9, 8, 6, 5, 3, 2]}\n",
    "\n",
    "# Can we multiply them? Check if dimensions satisfy the (M by N) * (N by K) = (M by K) rule:\n",
    "# The rule can be simplified: check if N in mat1 equals to N in mat2\n",
    "\n",
    "if mat1['rows'] == mat2['cols']:\n",
    "    print('The matrix dimensions satisfy the (M by N) * (N by K) = (M by K) rule.')\n",
    "else:\n",
    "    print('The matrix dimensions do NOT satisfy the (M by N) * (N by K) = (M by K) rule.')\n",
    "\n",
    "\n",
    "# How do you multiply these matrices by hand?\n",
    "\n",
    "# mat1(element1) x mat2(element1) = mat12(element1)\n",
    "# mat1(element2) x mat2(element3) = mat12(element2)\n",
    "# mat1(element3) x mat2(element5) = mat12(element3)\n",
    "# \n",
    "# mat1(element4) x mat2(element1) = mat12(element4)\n",
    "# mat1(element5) x mat2(element3) = mat12(element5)\n",
    "# mat1(element6) x mat2(element5) = mat12(element6)\n",
    "\n",
    "# mat1(element1) x mat2(element2) = mat12(element1)\n",
    "# mat1(element2) x mat2(element4) = mat12(element2)\n",
    "# mat1(element3) x mat2(element6) = mat12(element3)\n",
    "# \n",
    "# mat1(element4) x mat2(element2) = mat12(element4)\n",
    "# mat1(element5) x mat2(element4) = mat12(element5)\n",
    "# mat1(element6) x mat2(element6) = mat12(element6)\n",
    "\n",
    "# mat12(element1) + mat12(element2) + mat12(element3) = mat3(element1)\n",
    "# mat12(element4) + mat12(element5) + mat12(element6) = mat3(element3)\n",
    "# mat12(element1) + mat12(element2) + mat12(element3) = mat3(element2)\n",
    "# mat12(element4) + mat12(element5) + mat12(element6) = mat3(element4)\n",
    "\n",
    "# Resulting in a matrix:\n",
    "# [ 30  24 ]\n",
    "# [ 84  69 ]\n",
    "\n",
    "# Resulting in a list [30, 24, 84, 69]\n",
    "\n",
    "# Now multiply the matrices in code:\n",
    "# The dimensions satisfy N and there are 2 x N rows => 2 for loops that loops through the first matrix in the normal order and through the second matrix by 1,3,5 and 2,4,6 is index + 2\n",
    "\n",
    "mat3 = {'rows': 2, 'cols': 2, 'data': [0, 0, 0, 0]}\n",
    "\n",
    "list1 = mat1['data']\n",
    "list2 = mat2['data']\n",
    "list3 = []\n",
    "\n",
    "for i in range(mat1['rows']):\n",
    "    list3.append(list1[i] + list2[i])\n",
    "    \n",
    "    #step met lengte mat2['cols']\n",
    "\n",
    "    4 groepen \n",
    "\n",
    "print(list3)\n",
    "\n",
    "print(mat1['rows'])\n",
    "\n",
    "# In case you didn't: can you generalize this algorithm?\n",
    "\n",
    "# ..."
   ]
  },
  {
   "cell_type": "code",
   "execution_count": null,
   "id": "86887a2b-abc9-44e9-9167-fe0c3bd188bd",
   "metadata": {},
   "outputs": [],
   "source": []
  }
 ],
 "metadata": {
  "kernelspec": {
   "display_name": "Python 3 (ipykernel)",
   "language": "python",
   "name": "python3"
  },
  "language_info": {
   "codemirror_mode": {
    "name": "ipython",
    "version": 3
   },
   "file_extension": ".py",
   "mimetype": "text/x-python",
   "name": "python",
   "nbconvert_exporter": "python",
   "pygments_lexer": "ipython3",
   "version": "3.10.9"
  }
 },
 "nbformat": 4,
 "nbformat_minor": 5
}
